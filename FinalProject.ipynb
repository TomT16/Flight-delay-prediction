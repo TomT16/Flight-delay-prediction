{
 "cells": [
  {
   "cell_type": "code",
   "execution_count": 219,
   "metadata": {},
   "outputs": [],
   "source": [
    "import pandas as pd\n",
    "import numpy as np\n",
    "import glob\n",
    "import requests\n",
    "import json\n",
    "import gc\n",
    "import pickle\n",
    "\n",
    "import seaborn as sns\n",
    "import matplotlib.pyplot as plt\n",
    "\n",
    "from sklearn.model_selection import train_test_split\n",
    "from sklearn.model_selection import GridSearchCV\n",
    "from sklearn.model_selection import StratifiedKFold\n",
    "from sklearn.metrics import f1_score\n",
    "from imblearn.under_sampling import TomekLinks\n",
    "\n",
    "from sklearn.svm import SVC\n",
    "from sklearn.ensemble import AdaBoostClassifier\n",
    "from sklearn.neighbors import KNeighborsClassifier\n",
    "from sklearn.ensemble import GradientBoostingClassifier\n",
    "from sklearn.ensemble import VotingClassifier\n",
    "from sklearn.ensemble import VotingClassifier\n",
    "from sklearn.ensemble import RandomForestClassifier\n",
    "from sklearn.tree import DecisionTreeClassifier\n",
    "from sklearn.ensemble import RandomForestClassifier\n",
    "\n",
    "RND_STATE = 100412"
   ]
  },
  {
   "cell_type": "code",
   "execution_count": null,
   "metadata": {},
   "outputs": [],
   "source": [
    "def log_progress(sequence, every=None, size=None, name='Items'):\n",
    "    from ipywidgets import IntProgress, HTML, VBox\n",
    "    from IPython.display import display\n",
    "\n",
    "    is_iterator = False\n",
    "    if size is None:\n",
    "        try:\n",
    "            size = len(sequence)\n",
    "        except TypeError:\n",
    "            is_iterator = True\n",
    "    if size is not None:\n",
    "        if every is None:\n",
    "            if size <= 200:\n",
    "                every = 1\n",
    "            else:\n",
    "                every = int(size / 200)     # every 0.5%\n",
    "    else:\n",
    "        assert every is not None, 'sequence is iterator, set every'\n",
    "\n",
    "    if is_iterator:\n",
    "        progress = IntProgress(min=0, max=1, value=1)\n",
    "        progress.bar_style = 'info'\n",
    "    else:\n",
    "        progress = IntProgress(min=0, max=size, value=0)\n",
    "    label = HTML()\n",
    "    box = VBox(children=[label, progress])\n",
    "    display(box)\n",
    "\n",
    "    index = 0\n",
    "    try:\n",
    "        for index, record in enumerate(sequence, 1):\n",
    "            if index == 1 or index % every == 0:\n",
    "                if is_iterator:\n",
    "                    label.value = '{name}: {index} / ?'.format(\n",
    "                        name=name,\n",
    "                        index=index\n",
    "                    )\n",
    "                else:\n",
    "                    progress.value = index\n",
    "                    label.value = u'{name}: {index} / {size}'.format(\n",
    "                        name=name,\n",
    "                        index=index,\n",
    "                        size=size\n",
    "                    )\n",
    "            yield record\n",
    "    except:\n",
    "        progress.bar_style = 'danger'\n",
    "        raise\n",
    "    else:\n",
    "        progress.bar_style = 'success'\n",
    "        progress.value = index\n",
    "        label.value = \"{name}: {index}\".format(\n",
    "            name=name,\n",
    "            index=str(index or '?')\n",
    "        )"
   ]
  },
  {
   "cell_type": "markdown",
   "metadata": {},
   "source": [
    "## Configuration"
   ]
  },
  {
   "cell_type": "code",
   "execution_count": 3,
   "metadata": {},
   "outputs": [],
   "source": [
    "# weather links\n",
    "# ftp://ftp.ncdc.noaa.gov/pub/data/ghcn/daily/readme.txt"
   ]
  },
  {
   "cell_type": "code",
   "execution_count": 4,
   "metadata": {},
   "outputs": [],
   "source": [
    "WEATHER_API_KEY = ''"
   ]
  },
  {
   "cell_type": "code",
   "execution_count": 5,
   "metadata": {},
   "outputs": [],
   "source": [
    "STARTING_DATE = '2017-03-01'\n",
    "END_DATE = '2018-03-01'"
   ]
  },
  {
   "cell_type": "code",
   "execution_count": 6,
   "metadata": {},
   "outputs": [],
   "source": [
    "DATA_FOLDER = 'historical_data'\n",
    "DICT_FOLDER = 'dictionaries'\n",
    "WEATHER_FOLDER = 'weather_data'"
   ]
  },
  {
   "cell_type": "code",
   "execution_count": 7,
   "metadata": {},
   "outputs": [],
   "source": [
    "DATA_FILE = 'merged_data.csv'"
   ]
  },
  {
   "cell_type": "code",
   "execution_count": 161,
   "metadata": {},
   "outputs": [],
   "source": [
    "CLF_FILE = 'classifiers.data'"
   ]
  },
  {
   "cell_type": "markdown",
   "metadata": {},
   "source": [
    "## Merging and loading data"
   ]
  },
  {
   "cell_type": "markdown",
   "metadata": {},
   "source": [
    "### Loading flights data"
   ]
  },
  {
   "cell_type": "code",
   "execution_count": 8,
   "metadata": {},
   "outputs": [],
   "source": [
    "def get_file_list(folder_name):\n",
    "    return glob.glob(folder_name + '/*.csv')"
   ]
  },
  {
   "cell_type": "code",
   "execution_count": 9,
   "metadata": {},
   "outputs": [],
   "source": [
    "def read_csv(file_name):\n",
    "    file_data = pd.read_csv(file_name, dtype={'CANCELLATION_CODE': str}, parse_dates=True)\n",
    "    file_data['FL_DATE'] = pd.to_datetime(file_data.FL_DATE)\n",
    "    return file_data"
   ]
  },
  {
   "cell_type": "code",
   "execution_count": 10,
   "metadata": {},
   "outputs": [],
   "source": [
    "def read_csv_backup(file_name):\n",
    "    file_data = pd.read_csv(file_name, dtype={'cancellation_code': str}, parse_dates=True)\n",
    "    file_data['fl_date'] = pd.to_datetime(file_data.fl_date)\n",
    "    file_data = file_data.drop(['Unnamed: 0'], axis = 1)\n",
    "    return file_data"
   ]
  },
  {
   "cell_type": "code",
   "execution_count": 11,
   "metadata": {},
   "outputs": [],
   "source": [
    "def gather_data(folder_name):\n",
    "    file_list = get_file_list(folder_name)\n",
    "    \n",
    "    files_data = read_csv(file_list[0])\n",
    "    for file in log_progress(file_list[1:], every=1):\n",
    "        tmp = read_csv(file)\n",
    "        files_data = pd.concat([files_data, tmp])\n",
    "        del tmp\n",
    "        \n",
    "    files_data = files_data.reindex()\n",
    "    files_data.columns = map(str.lower, files_data.columns)\n",
    "    return files_data"
   ]
  },
  {
   "cell_type": "code",
   "execution_count": 12,
   "metadata": {},
   "outputs": [],
   "source": [
    "def append_city_names(files_data, dict_folder_name):\n",
    "    files_data_df = files_data.copy()\n",
    "    city_info = pd.read_csv(dict_folder_name + '/city_codes_info.csv')\n",
    "    city_info['Description'] =  city_info['Description'].str.replace(',.*|\\/.*| City', '')\n",
    "    \n",
    "    city_info.columns = ['origin_city_market_id', 'origin_city_name']\n",
    "    files_data_df = pd.merge(files_data_df, city_info, on='origin_city_market_id')\n",
    "    \n",
    "    city_info.columns = ['dest_city_market_id', 'dest_city_name']\n",
    "    files_data_df = pd.merge(files_data_df, city_info, on='dest_city_market_id')\n",
    "    \n",
    "    del city_info\n",
    "    \n",
    "    return files_data_df"
   ]
  },
  {
   "cell_type": "code",
   "execution_count": 13,
   "metadata": {},
   "outputs": [],
   "source": [
    "def load_data(folder_name, dict_folder_name):\n",
    "    files_data = gather_data(folder_name)\n",
    "    files_data = files_data.sort_values(by='fl_date')\n",
    "    files_data = files_data.dropna(thresh=9)\n",
    "    files_data = append_city_names(files_data, dict_folder_name)\n",
    "    return files_data.reindex()"
   ]
  },
  {
   "cell_type": "code",
   "execution_count": null,
   "metadata": {},
   "outputs": [],
   "source": [
    "data = load_data(DATA_FOLDER, DICT_FOLDER)"
   ]
  },
  {
   "cell_type": "code",
   "execution_count": null,
   "metadata": {},
   "outputs": [],
   "source": [
    "data.to_csv(DATA_FILE)"
   ]
  },
  {
   "cell_type": "markdown",
   "metadata": {},
   "source": [
    "### Loading weather data"
   ]
  },
  {
   "cell_type": "code",
   "execution_count": 14,
   "metadata": {},
   "outputs": [],
   "source": [
    "def get_data_city_names(data_df):\n",
    "    return list(set(list(data['origin_city_name'].values) + list(data['dest_city_name'].values)))"
   ]
  },
  {
   "cell_type": "code",
   "execution_count": 15,
   "metadata": {},
   "outputs": [],
   "source": [
    "def load_city_codes(dict_folder_name):\n",
    "    tmp = pd.read_csv(dict_folder_name + '/weather_city_codes_info.csv')\n",
    "    tmp['name'] = tmp['name'].str.lower()\n",
    "    tmp['name'] = tmp['name'].str.replace(',.*|\\/.*| city', '')\n",
    "    tmp['name'] = tmp['name'].str.strip()\n",
    "    return tmp"
   ]
  },
  {
   "cell_type": "code",
   "execution_count": 16,
   "metadata": {},
   "outputs": [],
   "source": [
    "def get_weather_city_codes(data_df, dict_folder_name):\n",
    "    weather_cities_codes = load_city_codes(dict_folder_name)\n",
    "    data_city_names = get_data_city_names(data_df)\n",
    "    \n",
    "    processed_cities = []\n",
    "    failed_cities = []\n",
    "    for city in data_city_names:\n",
    "        city_data = weather_cities_codes[weather_cities_codes['name'].str.contains(city.lower())]\n",
    "        if len(city_data) == 0:\n",
    "            failed_cities.append(city)\n",
    "        else:\n",
    "            processed_cities.append({'name': city, 'weather_id': city_data['id'].values[0]})\n",
    "    return processed_cities, failed_cities"
   ]
  },
  {
   "cell_type": "code",
   "execution_count": 17,
   "metadata": {},
   "outputs": [],
   "source": [
    "def get_weather_for_city(city_info, start_date, end_date, api_key, limit=1000, offset=0):\n",
    "    req_url = 'http://www.ncdc.noaa.gov/cdo-web/api/v2/data?datasetid=GHCND&locationid={0}&startdate={1}&enddate={2}&limit={3}&offset={4}'\n",
    "    req_url = req_url.format(city_info['weather_id'], start_date, end_date, limit, offset)\n",
    "    \n",
    "    result_json = requests.get(req_url, headers={'token': api_key}, timeout=20)\n",
    "    result_json = json.loads(result_json.content)\n",
    "    result_data = pd.DataFrame(result_json['results'])\n",
    "    \n",
    "    if result_json['metadata']['resultset']['count'] > offset + limit:\n",
    "        return pd.concat([result_data, get_weather_for_city(city_info, start_date, end_date, api_key, limit, offset + limit)])\n",
    "    else:\n",
    "        return result_data"
   ]
  },
  {
   "cell_type": "code",
   "execution_count": 18,
   "metadata": {},
   "outputs": [],
   "source": [
    "def save_weather_data(data_df, dict_folder_name, save_folder, start_date, end_date, api_key):\n",
    "    weather_city_codes, error_cities = get_weather_city_codes(data_df, dict_folder_name)\n",
    "    \n",
    "    for city in log_progress(weather_city_codes, every=1):\n",
    "        try:\n",
    "            city_weather = get_weather_for_city(city, start_date, end_date, api_key)\n",
    "            city_weather.to_csv(save_folder + '/' + city['name'] + '.csv')\n",
    "        except Exception as e:\n",
    "            error_cities.append(city)\n",
    "            print(e)\n",
    "    return weather_city_codes, error_cities"
   ]
  },
  {
   "cell_type": "code",
   "execution_count": null,
   "metadata": {},
   "outputs": [],
   "source": [
    "ok, err = save_weather_data(data, DICT_FOLDER, WEATHER_FOLDER, STARTING_DATE, END_DATE, WEATHER_API_KEY)"
   ]
  },
  {
   "cell_type": "code",
   "execution_count": 19,
   "metadata": {},
   "outputs": [],
   "source": [
    "def filter_data_by_available_weather(data_df, weather_data_folder):\n",
    "    city_list = get_file_list(weather_data_folder)\n",
    "    fixed_city_list = []\n",
    "    for city in city_list:\n",
    "        fixed_city_list.append(city.replace(weather_data_folder + '/', '').replace('.csv', ''))\n",
    "    \n",
    "    tmp_df = data_df[(data_df['origin_city_name'].isin(fixed_city_list)) | (data_df['dest_city_name'].isin(fixed_city_list))]\n",
    "    return tmp_df, city_list "
   ]
  },
  {
   "cell_type": "code",
   "execution_count": 20,
   "metadata": {},
   "outputs": [],
   "source": [
    "def read_weather_file(weather_data_folder, weather_file_path):\n",
    "    weather_data = pd.read_csv(weather_file_path)\n",
    "    weather_data['date'] = pd.to_datetime(weather_data.date)\n",
    "    weather_data = weather_data.drop(['Unnamed: 0', 'attributes', 'station'], axis=1)\n",
    "    weather_data = weather_data.rename(columns={'date': 'fl_date'})\n",
    "    weather_data = weather_data.drop_duplicates([\"fl_date\", \"datatype\"])\n",
    "    weather_data = weather_data.pivot_table(weather_data, index='fl_date', columns='datatype', aggfunc=sum, fill_value=0)\n",
    "    weather_data = weather_data.reset_index()\n",
    "    weather_data_value = weather_data['value'].copy()\n",
    "    weather_data_value['fl_date'] = weather_data['fl_date']\n",
    "    del weather_data\n",
    "    selected_cols = ['fl_date', 'AWND', 'SNOW', 'SNWD', 'WT01', 'WT02', 'WT03', 'WT04', 'WT05', 'WT06', 'WT07', 'WT08', 'WT09', 'WT10', 'WT11']\n",
    "    available_cols = list(set(weather_data_value.columns).intersection(selected_cols))\n",
    "    na_cols = list(set(selected_cols) - set(available_cols))\n",
    "    weather_data_value = weather_data_value[available_cols]\n",
    "    \n",
    "    for na_col in na_cols:\n",
    "        weather_data_value[na_col] = None\n",
    "    \n",
    "    weather_data_value = weather_data_value.rename({'SNOW': 'snowfall_mm', 'SNWD': 'snow_depth_mm', 'AWND': 'avg_wind_ms', 'WT08': 'smoke', 'WT01': 'fog', 'WT03': 'thunder'})\n",
    "    weather_data_value['city_name'] = weather_file_path.replace(weather_data_folder + '/', '').replace('.csv', '')\n",
    "    \n",
    "    return weather_data_value"
   ]
  },
  {
   "cell_type": "code",
   "execution_count": null,
   "metadata": {},
   "outputs": [],
   "source": [
    "def merge_data_with_weather(data_df, weather_data_folder):\n",
    "    filtered_df, city_list = filter_data_by_available_weather(data_df, weather_data_folder)\n",
    "    dfs = []\n",
    "    \n",
    "    for city in log_progress(city_list, every=1):\n",
    "        tmp = read_weather_file(weather_data_folder, city)\n",
    "        tmp = tmp.rename(columns={'city_name': 'origin_city_name'})\n",
    "        dfs.append(pd.merge(filtered_df, tmp, on=['fl_date', 'origin_city_name']))\n",
    "        tmp = tmp.rename(columns={'origin_city_name': 'dest_city_name'})\n",
    "        dfs.append(pd.merge(filtered_df, tmp, on=['fl_date', 'dest_city_name']))\n",
    "        del tmp\n",
    "        gc.collect()\n",
    "        \n",
    "    final_df = pd.concat(dfs)\n",
    "    final_df = final_df.sort_values(by=['fl_date', 'origin_city_name', 'dest_city_name'])\n",
    "    return final_df"
   ]
  },
  {
   "cell_type": "code",
   "execution_count": null,
   "metadata": {},
   "outputs": [],
   "source": [
    "data = merge_data_with_weather(data, WEATHER_FOLDER)"
   ]
  },
  {
   "cell_type": "code",
   "execution_count": null,
   "metadata": {},
   "outputs": [],
   "source": [
    "data.to_csv(DATA_FILE)"
   ]
  },
  {
   "cell_type": "markdown",
   "metadata": {},
   "source": [
    "## Preprocessing data "
   ]
  },
  {
   "cell_type": "code",
   "execution_count": 335,
   "metadata": {},
   "outputs": [],
   "source": [
    "data = read_csv_backup(DATA_FILE)"
   ]
  },
  {
   "cell_type": "code",
   "execution_count": 336,
   "metadata": {},
   "outputs": [],
   "source": [
    "def get_dependent_variable_value(row):\n",
    "    if row['cancelled'] == 1 or row['cancellation_code'] != 'E':\n",
    "        return 'cancelled_flight'\n",
    "    if row['dep_delay_new'] > 300:\n",
    "        return 'extra_long_delay'\n",
    "    if row['dep_delay_new'] > 120:\n",
    "        return 'long_delay'\n",
    "    if row['dep_delay_new'] > 30:\n",
    "        return 'moderate_delay'\n",
    "    if row['dep_delay_new'] < 30:\n",
    "        return 'short_delay'\n",
    "    return 'no delay'"
   ]
  },
  {
   "cell_type": "code",
   "execution_count": 337,
   "metadata": {},
   "outputs": [],
   "source": [
    "def preprocess_data(file_data):\n",
    "    data_df = file_data.copy()\n",
    "    data_df = data_df.drop(['origin_airport_id', 'origin_airport_seq_id', 'origin_city_market_id', 'dest_airport_id', 'dest_airport_seq_id', 'dest_city_market_id', 'year', 'quarter', 'unnamed: 25'], axis=1)\n",
    "    data_df = data_df.fillna(value={'cancellation_code': 'E'})\n",
    "    data_df = data_df.fillna(0)\n",
    "    data_df['fog'] = list(map(int , (data_df['WT01'] + data_df['WT02']).values > 0))\n",
    "    data_df['hail'] = list(map(int , (data_df['WT04'] + data_df['WT05']).values > 0))\n",
    "    data_df['damaging_wind'] = list(map(int , (data_df['WT10'] + data_df['WT11']).values > 0))\n",
    "    data_df = data_df.drop(['WT01', 'WT02', 'WT04', 'WT05', 'WT06', 'WT10', 'WT11'], axis=1)\n",
    "    data_df = data_df.rename(columns={'SNOW': 'snowfall', 'SNWD': 'snow_depth', 'AWND': 'average_wind_speed','WT03': 'thunder', 'WT07': 'dust', 'WT08': 'haze', 'WT09': 'snow'})\n",
    "    \n",
    "    data_df['cancellation_code'] = list(map(str, data_df['cancellation_code']))\n",
    "    data_df['carrier'] = list(map(str, data_df['carrier']))\n",
    "    data_df['dest'] = list(map(str, data_df['dest']))\n",
    "    data_df['dest_city_name'] = list(map(str, data_df['dest_city_name']))\n",
    "    data_df['origin'] = list(map(str, data_df['origin']))\n",
    "    data_df['origin_city_name'] = list(map(str, data_df['origin_city_name']))\n",
    "    data_df['cancelled'] = list(map(int, data_df['cancelled']))\n",
    "    data_df['diverted'] = list(map(int, data_df['diverted']))\n",
    "    data_df['status'] = data_df.apply (lambda row: get_dependent_variable_value(row), axis=1)\n",
    "    return data_df"
   ]
  },
  {
   "cell_type": "code",
   "execution_count": 338,
   "metadata": {},
   "outputs": [],
   "source": [
    "data = preprocess_data(data)"
   ]
  },
  {
   "cell_type": "markdown",
   "metadata": {},
   "source": [
    "## Analysis with additional data"
   ]
  },
  {
   "cell_type": "markdown",
   "metadata": {},
   "source": [
    "Overall data info"
   ]
  },
  {
   "cell_type": "code",
   "execution_count": 25,
   "metadata": {},
   "outputs": [
    {
     "data": {
      "text/html": [
       "<div>\n",
       "<style scoped>\n",
       "    .dataframe tbody tr th:only-of-type {\n",
       "        vertical-align: middle;\n",
       "    }\n",
       "\n",
       "    .dataframe tbody tr th {\n",
       "        vertical-align: top;\n",
       "    }\n",
       "\n",
       "    .dataframe thead th {\n",
       "        text-align: right;\n",
       "    }\n",
       "</style>\n",
       "<table border=\"1\" class=\"dataframe\">\n",
       "  <thead>\n",
       "    <tr style=\"text-align: right;\">\n",
       "      <th></th>\n",
       "      <th>average_wind_speed</th>\n",
       "      <th>snowfall</th>\n",
       "      <th>snow_depth</th>\n",
       "      <th>thunder</th>\n",
       "      <th>dust</th>\n",
       "      <th>haze</th>\n",
       "      <th>snow</th>\n",
       "      <th>cancelled</th>\n",
       "      <th>carrier_delay</th>\n",
       "      <th>day_of_month</th>\n",
       "      <th>...</th>\n",
       "      <th>diverted</th>\n",
       "      <th>fl_num</th>\n",
       "      <th>late_aircraft_delay</th>\n",
       "      <th>month</th>\n",
       "      <th>nas_delay</th>\n",
       "      <th>security_delay</th>\n",
       "      <th>weather_delay</th>\n",
       "      <th>fog</th>\n",
       "      <th>hail</th>\n",
       "      <th>damaging_wind</th>\n",
       "    </tr>\n",
       "  </thead>\n",
       "  <tbody>\n",
       "    <tr>\n",
       "      <th>count</th>\n",
       "      <td>5.238989e+06</td>\n",
       "      <td>5.238989e+06</td>\n",
       "      <td>5.238989e+06</td>\n",
       "      <td>5.238989e+06</td>\n",
       "      <td>5.238989e+06</td>\n",
       "      <td>5.238989e+06</td>\n",
       "      <td>5.238989e+06</td>\n",
       "      <td>5.238989e+06</td>\n",
       "      <td>5.238989e+06</td>\n",
       "      <td>5.238989e+06</td>\n",
       "      <td>...</td>\n",
       "      <td>5.238989e+06</td>\n",
       "      <td>5.238989e+06</td>\n",
       "      <td>5.238989e+06</td>\n",
       "      <td>5.238989e+06</td>\n",
       "      <td>5.238989e+06</td>\n",
       "      <td>5.238989e+06</td>\n",
       "      <td>5.238989e+06</td>\n",
       "      <td>5.238989e+06</td>\n",
       "      <td>5.238989e+06</td>\n",
       "      <td>5.238989e+06</td>\n",
       "    </tr>\n",
       "    <tr>\n",
       "      <th>mean</th>\n",
       "      <td>2.826448e+01</td>\n",
       "      <td>7.622557e-01</td>\n",
       "      <td>5.023249e+00</td>\n",
       "      <td>1.803222e-01</td>\n",
       "      <td>2.383857e-03</td>\n",
       "      <td>1.394170e-01</td>\n",
       "      <td>1.647455e-03</td>\n",
       "      <td>1.505768e-02</td>\n",
       "      <td>3.692147e+00</td>\n",
       "      <td>1.584771e+01</td>\n",
       "      <td>...</td>\n",
       "      <td>2.008594e-03</td>\n",
       "      <td>2.263090e+03</td>\n",
       "      <td>4.375654e+00</td>\n",
       "      <td>6.728145e+00</td>\n",
       "      <td>2.352459e+00</td>\n",
       "      <td>1.722222e-02</td>\n",
       "      <td>5.349526e-01</td>\n",
       "      <td>3.526033e-01</td>\n",
       "      <td>6.513280e-03</td>\n",
       "      <td>4.077886e-03</td>\n",
       "    </tr>\n",
       "    <tr>\n",
       "      <th>std</th>\n",
       "      <td>2.504670e+01</td>\n",
       "      <td>9.747686e+00</td>\n",
       "      <td>3.543713e+01</td>\n",
       "      <td>3.844556e-01</td>\n",
       "      <td>4.876653e-02</td>\n",
       "      <td>3.463812e-01</td>\n",
       "      <td>4.055541e-02</td>\n",
       "      <td>1.217824e-01</td>\n",
       "      <td>2.875547e+01</td>\n",
       "      <td>8.825034e+00</td>\n",
       "      <td>...</td>\n",
       "      <td>4.477231e-02</td>\n",
       "      <td>1.744048e+03</td>\n",
       "      <td>2.219222e+01</td>\n",
       "      <td>3.364111e+00</td>\n",
       "      <td>1.500126e+01</td>\n",
       "      <td>1.421076e+00</td>\n",
       "      <td>1.123713e+01</td>\n",
       "      <td>4.777806e-01</td>\n",
       "      <td>8.044164e-02</td>\n",
       "      <td>6.372800e-02</td>\n",
       "    </tr>\n",
       "    <tr>\n",
       "      <th>min</th>\n",
       "      <td>0.000000e+00</td>\n",
       "      <td>0.000000e+00</td>\n",
       "      <td>0.000000e+00</td>\n",
       "      <td>0.000000e+00</td>\n",
       "      <td>0.000000e+00</td>\n",
       "      <td>0.000000e+00</td>\n",
       "      <td>0.000000e+00</td>\n",
       "      <td>0.000000e+00</td>\n",
       "      <td>0.000000e+00</td>\n",
       "      <td>1.000000e+00</td>\n",
       "      <td>...</td>\n",
       "      <td>0.000000e+00</td>\n",
       "      <td>1.000000e+00</td>\n",
       "      <td>0.000000e+00</td>\n",
       "      <td>1.000000e+00</td>\n",
       "      <td>0.000000e+00</td>\n",
       "      <td>0.000000e+00</td>\n",
       "      <td>0.000000e+00</td>\n",
       "      <td>0.000000e+00</td>\n",
       "      <td>0.000000e+00</td>\n",
       "      <td>0.000000e+00</td>\n",
       "    </tr>\n",
       "    <tr>\n",
       "      <th>25%</th>\n",
       "      <td>1.500000e+01</td>\n",
       "      <td>0.000000e+00</td>\n",
       "      <td>0.000000e+00</td>\n",
       "      <td>0.000000e+00</td>\n",
       "      <td>0.000000e+00</td>\n",
       "      <td>0.000000e+00</td>\n",
       "      <td>0.000000e+00</td>\n",
       "      <td>0.000000e+00</td>\n",
       "      <td>0.000000e+00</td>\n",
       "      <td>8.000000e+00</td>\n",
       "      <td>...</td>\n",
       "      <td>0.000000e+00</td>\n",
       "      <td>8.640000e+02</td>\n",
       "      <td>0.000000e+00</td>\n",
       "      <td>4.000000e+00</td>\n",
       "      <td>0.000000e+00</td>\n",
       "      <td>0.000000e+00</td>\n",
       "      <td>0.000000e+00</td>\n",
       "      <td>0.000000e+00</td>\n",
       "      <td>0.000000e+00</td>\n",
       "      <td>0.000000e+00</td>\n",
       "    </tr>\n",
       "    <tr>\n",
       "      <th>50%</th>\n",
       "      <td>2.600000e+01</td>\n",
       "      <td>0.000000e+00</td>\n",
       "      <td>0.000000e+00</td>\n",
       "      <td>0.000000e+00</td>\n",
       "      <td>0.000000e+00</td>\n",
       "      <td>0.000000e+00</td>\n",
       "      <td>0.000000e+00</td>\n",
       "      <td>0.000000e+00</td>\n",
       "      <td>0.000000e+00</td>\n",
       "      <td>1.600000e+01</td>\n",
       "      <td>...</td>\n",
       "      <td>0.000000e+00</td>\n",
       "      <td>1.792000e+03</td>\n",
       "      <td>0.000000e+00</td>\n",
       "      <td>7.000000e+00</td>\n",
       "      <td>0.000000e+00</td>\n",
       "      <td>0.000000e+00</td>\n",
       "      <td>0.000000e+00</td>\n",
       "      <td>0.000000e+00</td>\n",
       "      <td>0.000000e+00</td>\n",
       "      <td>0.000000e+00</td>\n",
       "    </tr>\n",
       "    <tr>\n",
       "      <th>75%</th>\n",
       "      <td>3.800000e+01</td>\n",
       "      <td>0.000000e+00</td>\n",
       "      <td>0.000000e+00</td>\n",
       "      <td>0.000000e+00</td>\n",
       "      <td>0.000000e+00</td>\n",
       "      <td>0.000000e+00</td>\n",
       "      <td>0.000000e+00</td>\n",
       "      <td>0.000000e+00</td>\n",
       "      <td>0.000000e+00</td>\n",
       "      <td>2.300000e+01</td>\n",
       "      <td>...</td>\n",
       "      <td>0.000000e+00</td>\n",
       "      <td>3.324000e+03</td>\n",
       "      <td>0.000000e+00</td>\n",
       "      <td>1.000000e+01</td>\n",
       "      <td>0.000000e+00</td>\n",
       "      <td>0.000000e+00</td>\n",
       "      <td>0.000000e+00</td>\n",
       "      <td>1.000000e+00</td>\n",
       "      <td>0.000000e+00</td>\n",
       "      <td>0.000000e+00</td>\n",
       "    </tr>\n",
       "    <tr>\n",
       "      <th>max</th>\n",
       "      <td>1.073000e+03</td>\n",
       "      <td>8.230000e+02</td>\n",
       "      <td>1.626000e+03</td>\n",
       "      <td>1.000000e+00</td>\n",
       "      <td>1.000000e+00</td>\n",
       "      <td>1.000000e+00</td>\n",
       "      <td>1.000000e+00</td>\n",
       "      <td>1.000000e+00</td>\n",
       "      <td>2.007000e+03</td>\n",
       "      <td>3.100000e+01</td>\n",
       "      <td>...</td>\n",
       "      <td>1.000000e+00</td>\n",
       "      <td>7.439000e+03</td>\n",
       "      <td>1.756000e+03</td>\n",
       "      <td>1.200000e+01</td>\n",
       "      <td>1.605000e+03</td>\n",
       "      <td>8.270000e+02</td>\n",
       "      <td>1.682000e+03</td>\n",
       "      <td>1.000000e+00</td>\n",
       "      <td>1.000000e+00</td>\n",
       "      <td>1.000000e+00</td>\n",
       "    </tr>\n",
       "  </tbody>\n",
       "</table>\n",
       "<p>8 rows × 22 columns</p>\n",
       "</div>"
      ],
      "text/plain": [
       "       average_wind_speed      snowfall    snow_depth       thunder  \\\n",
       "count        5.238989e+06  5.238989e+06  5.238989e+06  5.238989e+06   \n",
       "mean         2.826448e+01  7.622557e-01  5.023249e+00  1.803222e-01   \n",
       "std          2.504670e+01  9.747686e+00  3.543713e+01  3.844556e-01   \n",
       "min          0.000000e+00  0.000000e+00  0.000000e+00  0.000000e+00   \n",
       "25%          1.500000e+01  0.000000e+00  0.000000e+00  0.000000e+00   \n",
       "50%          2.600000e+01  0.000000e+00  0.000000e+00  0.000000e+00   \n",
       "75%          3.800000e+01  0.000000e+00  0.000000e+00  0.000000e+00   \n",
       "max          1.073000e+03  8.230000e+02  1.626000e+03  1.000000e+00   \n",
       "\n",
       "               dust          haze          snow     cancelled  carrier_delay  \\\n",
       "count  5.238989e+06  5.238989e+06  5.238989e+06  5.238989e+06   5.238989e+06   \n",
       "mean   2.383857e-03  1.394170e-01  1.647455e-03  1.505768e-02   3.692147e+00   \n",
       "std    4.876653e-02  3.463812e-01  4.055541e-02  1.217824e-01   2.875547e+01   \n",
       "min    0.000000e+00  0.000000e+00  0.000000e+00  0.000000e+00   0.000000e+00   \n",
       "25%    0.000000e+00  0.000000e+00  0.000000e+00  0.000000e+00   0.000000e+00   \n",
       "50%    0.000000e+00  0.000000e+00  0.000000e+00  0.000000e+00   0.000000e+00   \n",
       "75%    0.000000e+00  0.000000e+00  0.000000e+00  0.000000e+00   0.000000e+00   \n",
       "max    1.000000e+00  1.000000e+00  1.000000e+00  1.000000e+00   2.007000e+03   \n",
       "\n",
       "       day_of_month      ...            diverted        fl_num  \\\n",
       "count  5.238989e+06      ...        5.238989e+06  5.238989e+06   \n",
       "mean   1.584771e+01      ...        2.008594e-03  2.263090e+03   \n",
       "std    8.825034e+00      ...        4.477231e-02  1.744048e+03   \n",
       "min    1.000000e+00      ...        0.000000e+00  1.000000e+00   \n",
       "25%    8.000000e+00      ...        0.000000e+00  8.640000e+02   \n",
       "50%    1.600000e+01      ...        0.000000e+00  1.792000e+03   \n",
       "75%    2.300000e+01      ...        0.000000e+00  3.324000e+03   \n",
       "max    3.100000e+01      ...        1.000000e+00  7.439000e+03   \n",
       "\n",
       "       late_aircraft_delay         month     nas_delay  security_delay  \\\n",
       "count         5.238989e+06  5.238989e+06  5.238989e+06    5.238989e+06   \n",
       "mean          4.375654e+00  6.728145e+00  2.352459e+00    1.722222e-02   \n",
       "std           2.219222e+01  3.364111e+00  1.500126e+01    1.421076e+00   \n",
       "min           0.000000e+00  1.000000e+00  0.000000e+00    0.000000e+00   \n",
       "25%           0.000000e+00  4.000000e+00  0.000000e+00    0.000000e+00   \n",
       "50%           0.000000e+00  7.000000e+00  0.000000e+00    0.000000e+00   \n",
       "75%           0.000000e+00  1.000000e+01  0.000000e+00    0.000000e+00   \n",
       "max           1.756000e+03  1.200000e+01  1.605000e+03    8.270000e+02   \n",
       "\n",
       "       weather_delay           fog          hail  damaging_wind  \n",
       "count   5.238989e+06  5.238989e+06  5.238989e+06   5.238989e+06  \n",
       "mean    5.349526e-01  3.526033e-01  6.513280e-03   4.077886e-03  \n",
       "std     1.123713e+01  4.777806e-01  8.044164e-02   6.372800e-02  \n",
       "min     0.000000e+00  0.000000e+00  0.000000e+00   0.000000e+00  \n",
       "25%     0.000000e+00  0.000000e+00  0.000000e+00   0.000000e+00  \n",
       "50%     0.000000e+00  0.000000e+00  0.000000e+00   0.000000e+00  \n",
       "75%     0.000000e+00  1.000000e+00  0.000000e+00   0.000000e+00  \n",
       "max     1.682000e+03  1.000000e+00  1.000000e+00   1.000000e+00  \n",
       "\n",
       "[8 rows x 22 columns]"
      ]
     },
     "execution_count": 25,
     "metadata": {},
     "output_type": "execute_result"
    }
   ],
   "source": [
    "data.describe()"
   ]
  },
  {
   "cell_type": "markdown",
   "metadata": {},
   "source": [
    "Correlations"
   ]
  },
  {
   "cell_type": "code",
   "execution_count": 26,
   "metadata": {},
   "outputs": [
    {
     "data": {
      "text/html": [
       "<div>\n",
       "<style scoped>\n",
       "    .dataframe tbody tr th:only-of-type {\n",
       "        vertical-align: middle;\n",
       "    }\n",
       "\n",
       "    .dataframe tbody tr th {\n",
       "        vertical-align: top;\n",
       "    }\n",
       "\n",
       "    .dataframe thead th {\n",
       "        text-align: right;\n",
       "    }\n",
       "</style>\n",
       "<table border=\"1\" class=\"dataframe\">\n",
       "  <thead>\n",
       "    <tr style=\"text-align: right;\">\n",
       "      <th></th>\n",
       "      <th>average_wind_speed</th>\n",
       "      <th>snowfall</th>\n",
       "      <th>snow_depth</th>\n",
       "      <th>thunder</th>\n",
       "      <th>dust</th>\n",
       "      <th>haze</th>\n",
       "      <th>snow</th>\n",
       "      <th>cancelled</th>\n",
       "      <th>carrier_delay</th>\n",
       "      <th>day_of_month</th>\n",
       "      <th>...</th>\n",
       "      <th>diverted</th>\n",
       "      <th>fl_num</th>\n",
       "      <th>late_aircraft_delay</th>\n",
       "      <th>month</th>\n",
       "      <th>nas_delay</th>\n",
       "      <th>security_delay</th>\n",
       "      <th>weather_delay</th>\n",
       "      <th>fog</th>\n",
       "      <th>hail</th>\n",
       "      <th>damaging_wind</th>\n",
       "    </tr>\n",
       "  </thead>\n",
       "  <tbody>\n",
       "    <tr>\n",
       "      <th>average_wind_speed</th>\n",
       "      <td>1.000000</td>\n",
       "      <td>0.034958</td>\n",
       "      <td>0.014490</td>\n",
       "      <td>0.013897</td>\n",
       "      <td>0.023330</td>\n",
       "      <td>0.016884</td>\n",
       "      <td>0.058536</td>\n",
       "      <td>0.046752</td>\n",
       "      <td>0.004227</td>\n",
       "      <td>-0.008078</td>\n",
       "      <td>...</td>\n",
       "      <td>0.002282</td>\n",
       "      <td>0.003636</td>\n",
       "      <td>0.007155</td>\n",
       "      <td>-0.097134</td>\n",
       "      <td>0.006019</td>\n",
       "      <td>-0.001993</td>\n",
       "      <td>0.005551</td>\n",
       "      <td>0.021961</td>\n",
       "      <td>0.050488</td>\n",
       "      <td>0.014574</td>\n",
       "    </tr>\n",
       "    <tr>\n",
       "      <th>snowfall</th>\n",
       "      <td>0.034958</td>\n",
       "      <td>1.000000</td>\n",
       "      <td>0.393331</td>\n",
       "      <td>-0.034660</td>\n",
       "      <td>-0.003794</td>\n",
       "      <td>0.024247</td>\n",
       "      <td>0.193429</td>\n",
       "      <td>0.043380</td>\n",
       "      <td>0.005846</td>\n",
       "      <td>-0.008624</td>\n",
       "      <td>...</td>\n",
       "      <td>0.002102</td>\n",
       "      <td>0.019229</td>\n",
       "      <td>0.009540</td>\n",
       "      <td>-0.029349</td>\n",
       "      <td>0.011895</td>\n",
       "      <td>-0.000036</td>\n",
       "      <td>0.015354</td>\n",
       "      <td>0.039218</td>\n",
       "      <td>0.027529</td>\n",
       "      <td>0.029932</td>\n",
       "    </tr>\n",
       "    <tr>\n",
       "      <th>snow_depth</th>\n",
       "      <td>0.014490</td>\n",
       "      <td>0.393331</td>\n",
       "      <td>1.000000</td>\n",
       "      <td>-0.065502</td>\n",
       "      <td>-0.006891</td>\n",
       "      <td>0.009965</td>\n",
       "      <td>0.139840</td>\n",
       "      <td>0.017950</td>\n",
       "      <td>0.003020</td>\n",
       "      <td>-0.005113</td>\n",
       "      <td>...</td>\n",
       "      <td>0.002342</td>\n",
       "      <td>0.017860</td>\n",
       "      <td>0.002235</td>\n",
       "      <td>-0.102208</td>\n",
       "      <td>0.002081</td>\n",
       "      <td>0.001163</td>\n",
       "      <td>0.007608</td>\n",
       "      <td>0.005875</td>\n",
       "      <td>0.019769</td>\n",
       "      <td>0.025727</td>\n",
       "    </tr>\n",
       "    <tr>\n",
       "      <th>thunder</th>\n",
       "      <td>0.013897</td>\n",
       "      <td>-0.034660</td>\n",
       "      <td>-0.065502</td>\n",
       "      <td>1.000000</td>\n",
       "      <td>0.036549</td>\n",
       "      <td>0.114641</td>\n",
       "      <td>-0.017462</td>\n",
       "      <td>0.008532</td>\n",
       "      <td>0.017658</td>\n",
       "      <td>-0.022096</td>\n",
       "      <td>...</td>\n",
       "      <td>0.021829</td>\n",
       "      <td>-0.030622</td>\n",
       "      <td>0.046634</td>\n",
       "      <td>-0.013115</td>\n",
       "      <td>0.055175</td>\n",
       "      <td>0.000230</td>\n",
       "      <td>0.021173</td>\n",
       "      <td>0.341152</td>\n",
       "      <td>0.053893</td>\n",
       "      <td>0.048229</td>\n",
       "    </tr>\n",
       "    <tr>\n",
       "      <th>dust</th>\n",
       "      <td>0.023330</td>\n",
       "      <td>-0.003794</td>\n",
       "      <td>-0.006891</td>\n",
       "      <td>0.036549</td>\n",
       "      <td>1.000000</td>\n",
       "      <td>0.115088</td>\n",
       "      <td>-0.001407</td>\n",
       "      <td>0.000512</td>\n",
       "      <td>0.000544</td>\n",
       "      <td>0.005332</td>\n",
       "      <td>...</td>\n",
       "      <td>0.008210</td>\n",
       "      <td>-0.001244</td>\n",
       "      <td>0.006630</td>\n",
       "      <td>0.007715</td>\n",
       "      <td>0.007674</td>\n",
       "      <td>-0.000336</td>\n",
       "      <td>0.005315</td>\n",
       "      <td>-0.019323</td>\n",
       "      <td>-0.003131</td>\n",
       "      <td>0.004058</td>\n",
       "    </tr>\n",
       "    <tr>\n",
       "      <th>haze</th>\n",
       "      <td>0.016884</td>\n",
       "      <td>0.024247</td>\n",
       "      <td>0.009965</td>\n",
       "      <td>0.114641</td>\n",
       "      <td>0.115088</td>\n",
       "      <td>1.000000</td>\n",
       "      <td>0.022076</td>\n",
       "      <td>0.007511</td>\n",
       "      <td>0.005700</td>\n",
       "      <td>-0.013381</td>\n",
       "      <td>...</td>\n",
       "      <td>0.010805</td>\n",
       "      <td>0.000501</td>\n",
       "      <td>0.012587</td>\n",
       "      <td>0.014707</td>\n",
       "      <td>0.017693</td>\n",
       "      <td>0.000376</td>\n",
       "      <td>0.008260</td>\n",
       "      <td>0.249027</td>\n",
       "      <td>0.000347</td>\n",
       "      <td>0.002676</td>\n",
       "    </tr>\n",
       "    <tr>\n",
       "      <th>snow</th>\n",
       "      <td>0.058536</td>\n",
       "      <td>0.193429</td>\n",
       "      <td>0.139840</td>\n",
       "      <td>-0.017462</td>\n",
       "      <td>-0.001407</td>\n",
       "      <td>0.022076</td>\n",
       "      <td>1.000000</td>\n",
       "      <td>0.025934</td>\n",
       "      <td>0.003811</td>\n",
       "      <td>-0.017409</td>\n",
       "      <td>...</td>\n",
       "      <td>0.001962</td>\n",
       "      <td>0.018797</td>\n",
       "      <td>0.006246</td>\n",
       "      <td>-0.040625</td>\n",
       "      <td>0.007833</td>\n",
       "      <td>0.000322</td>\n",
       "      <td>0.008555</td>\n",
       "      <td>0.035470</td>\n",
       "      <td>0.051592</td>\n",
       "      <td>0.058256</td>\n",
       "    </tr>\n",
       "    <tr>\n",
       "      <th>cancelled</th>\n",
       "      <td>0.046752</td>\n",
       "      <td>0.043380</td>\n",
       "      <td>0.017950</td>\n",
       "      <td>0.008532</td>\n",
       "      <td>0.000512</td>\n",
       "      <td>0.007511</td>\n",
       "      <td>0.025934</td>\n",
       "      <td>1.000000</td>\n",
       "      <td>-0.015876</td>\n",
       "      <td>-0.039801</td>\n",
       "      <td>...</td>\n",
       "      <td>-0.004777</td>\n",
       "      <td>0.009042</td>\n",
       "      <td>-0.024379</td>\n",
       "      <td>-0.022203</td>\n",
       "      <td>-0.019390</td>\n",
       "      <td>-0.001498</td>\n",
       "      <td>-0.005886</td>\n",
       "      <td>0.032258</td>\n",
       "      <td>0.015065</td>\n",
       "      <td>0.013092</td>\n",
       "    </tr>\n",
       "    <tr>\n",
       "      <th>carrier_delay</th>\n",
       "      <td>0.004227</td>\n",
       "      <td>0.005846</td>\n",
       "      <td>0.003020</td>\n",
       "      <td>0.017658</td>\n",
       "      <td>0.000544</td>\n",
       "      <td>0.005700</td>\n",
       "      <td>0.003811</td>\n",
       "      <td>-0.015876</td>\n",
       "      <td>1.000000</td>\n",
       "      <td>-0.007327</td>\n",
       "      <td>...</td>\n",
       "      <td>-0.005760</td>\n",
       "      <td>0.019902</td>\n",
       "      <td>0.051072</td>\n",
       "      <td>-0.010387</td>\n",
       "      <td>0.020754</td>\n",
       "      <td>-0.000773</td>\n",
       "      <td>-0.002296</td>\n",
       "      <td>0.011728</td>\n",
       "      <td>0.002183</td>\n",
       "      <td>0.000622</td>\n",
       "    </tr>\n",
       "    <tr>\n",
       "      <th>day_of_month</th>\n",
       "      <td>-0.008078</td>\n",
       "      <td>-0.008624</td>\n",
       "      <td>-0.005113</td>\n",
       "      <td>-0.022096</td>\n",
       "      <td>0.005332</td>\n",
       "      <td>-0.013381</td>\n",
       "      <td>-0.017409</td>\n",
       "      <td>-0.039801</td>\n",
       "      <td>-0.007327</td>\n",
       "      <td>1.000000</td>\n",
       "      <td>...</td>\n",
       "      <td>-0.004572</td>\n",
       "      <td>0.008877</td>\n",
       "      <td>-0.015391</td>\n",
       "      <td>-0.003983</td>\n",
       "      <td>-0.012764</td>\n",
       "      <td>-0.001823</td>\n",
       "      <td>-0.014571</td>\n",
       "      <td>-0.025148</td>\n",
       "      <td>0.006574</td>\n",
       "      <td>-0.001226</td>\n",
       "    </tr>\n",
       "    <tr>\n",
       "      <th>day_of_week</th>\n",
       "      <td>-0.003838</td>\n",
       "      <td>0.003397</td>\n",
       "      <td>0.003300</td>\n",
       "      <td>-0.011087</td>\n",
       "      <td>0.014124</td>\n",
       "      <td>-0.037601</td>\n",
       "      <td>0.001816</td>\n",
       "      <td>-0.009303</td>\n",
       "      <td>0.002219</td>\n",
       "      <td>-0.000574</td>\n",
       "      <td>...</td>\n",
       "      <td>0.000693</td>\n",
       "      <td>0.063484</td>\n",
       "      <td>-0.007192</td>\n",
       "      <td>0.026499</td>\n",
       "      <td>-0.009963</td>\n",
       "      <td>0.002383</td>\n",
       "      <td>-0.003054</td>\n",
       "      <td>-0.030205</td>\n",
       "      <td>-0.017465</td>\n",
       "      <td>-0.008713</td>\n",
       "    </tr>\n",
       "    <tr>\n",
       "      <th>dep_delay_new</th>\n",
       "      <td>0.007169</td>\n",
       "      <td>0.014222</td>\n",
       "      <td>0.004566</td>\n",
       "      <td>0.053065</td>\n",
       "      <td>0.006851</td>\n",
       "      <td>0.015670</td>\n",
       "      <td>0.008370</td>\n",
       "      <td>-0.029434</td>\n",
       "      <td>0.711197</td>\n",
       "      <td>-0.020151</td>\n",
       "      <td>...</td>\n",
       "      <td>0.016523</td>\n",
       "      <td>0.021263</td>\n",
       "      <td>0.586031</td>\n",
       "      <td>-0.025675</td>\n",
       "      <td>0.310393</td>\n",
       "      <td>0.035581</td>\n",
       "      <td>0.275886</td>\n",
       "      <td>0.034542</td>\n",
       "      <td>0.004395</td>\n",
       "      <td>0.003608</td>\n",
       "    </tr>\n",
       "    <tr>\n",
       "      <th>diverted</th>\n",
       "      <td>0.002282</td>\n",
       "      <td>0.002102</td>\n",
       "      <td>0.002342</td>\n",
       "      <td>0.021829</td>\n",
       "      <td>0.008210</td>\n",
       "      <td>0.010805</td>\n",
       "      <td>0.001962</td>\n",
       "      <td>-0.004777</td>\n",
       "      <td>-0.005760</td>\n",
       "      <td>-0.004572</td>\n",
       "      <td>...</td>\n",
       "      <td>1.000000</td>\n",
       "      <td>0.004441</td>\n",
       "      <td>-0.008846</td>\n",
       "      <td>-0.003028</td>\n",
       "      <td>-0.007035</td>\n",
       "      <td>-0.000544</td>\n",
       "      <td>-0.002136</td>\n",
       "      <td>0.017146</td>\n",
       "      <td>0.002462</td>\n",
       "      <td>0.000474</td>\n",
       "    </tr>\n",
       "    <tr>\n",
       "      <th>fl_num</th>\n",
       "      <td>0.003636</td>\n",
       "      <td>0.019229</td>\n",
       "      <td>0.017860</td>\n",
       "      <td>-0.030622</td>\n",
       "      <td>-0.001244</td>\n",
       "      <td>0.000501</td>\n",
       "      <td>0.018797</td>\n",
       "      <td>0.009042</td>\n",
       "      <td>0.019902</td>\n",
       "      <td>0.008877</td>\n",
       "      <td>...</td>\n",
       "      <td>0.004441</td>\n",
       "      <td>1.000000</td>\n",
       "      <td>0.021607</td>\n",
       "      <td>-0.027466</td>\n",
       "      <td>-0.011576</td>\n",
       "      <td>-0.001881</td>\n",
       "      <td>0.001221</td>\n",
       "      <td>0.000925</td>\n",
       "      <td>0.019255</td>\n",
       "      <td>0.001568</td>\n",
       "    </tr>\n",
       "    <tr>\n",
       "      <th>late_aircraft_delay</th>\n",
       "      <td>0.007155</td>\n",
       "      <td>0.009540</td>\n",
       "      <td>0.002235</td>\n",
       "      <td>0.046634</td>\n",
       "      <td>0.006630</td>\n",
       "      <td>0.012587</td>\n",
       "      <td>0.006246</td>\n",
       "      <td>-0.024379</td>\n",
       "      <td>0.051072</td>\n",
       "      <td>-0.015391</td>\n",
       "      <td>...</td>\n",
       "      <td>-0.008846</td>\n",
       "      <td>0.021607</td>\n",
       "      <td>1.000000</td>\n",
       "      <td>-0.022692</td>\n",
       "      <td>0.047064</td>\n",
       "      <td>0.003964</td>\n",
       "      <td>0.023663</td>\n",
       "      <td>0.028511</td>\n",
       "      <td>0.003563</td>\n",
       "      <td>0.004020</td>\n",
       "    </tr>\n",
       "    <tr>\n",
       "      <th>month</th>\n",
       "      <td>-0.097134</td>\n",
       "      <td>-0.029349</td>\n",
       "      <td>-0.102208</td>\n",
       "      <td>-0.013115</td>\n",
       "      <td>0.007715</td>\n",
       "      <td>0.014707</td>\n",
       "      <td>-0.040625</td>\n",
       "      <td>-0.022203</td>\n",
       "      <td>-0.010387</td>\n",
       "      <td>-0.003983</td>\n",
       "      <td>...</td>\n",
       "      <td>-0.003028</td>\n",
       "      <td>-0.027466</td>\n",
       "      <td>-0.022692</td>\n",
       "      <td>1.000000</td>\n",
       "      <td>-0.016620</td>\n",
       "      <td>0.004699</td>\n",
       "      <td>-0.010115</td>\n",
       "      <td>0.032648</td>\n",
       "      <td>-0.046825</td>\n",
       "      <td>0.005532</td>\n",
       "    </tr>\n",
       "    <tr>\n",
       "      <th>nas_delay</th>\n",
       "      <td>0.006019</td>\n",
       "      <td>0.011895</td>\n",
       "      <td>0.002081</td>\n",
       "      <td>0.055175</td>\n",
       "      <td>0.007674</td>\n",
       "      <td>0.017693</td>\n",
       "      <td>0.007833</td>\n",
       "      <td>-0.019390</td>\n",
       "      <td>0.020754</td>\n",
       "      <td>-0.012764</td>\n",
       "      <td>...</td>\n",
       "      <td>-0.007035</td>\n",
       "      <td>-0.011576</td>\n",
       "      <td>0.047064</td>\n",
       "      <td>-0.016620</td>\n",
       "      <td>1.000000</td>\n",
       "      <td>0.001972</td>\n",
       "      <td>0.030207</td>\n",
       "      <td>0.038444</td>\n",
       "      <td>0.004498</td>\n",
       "      <td>0.002072</td>\n",
       "    </tr>\n",
       "    <tr>\n",
       "      <th>security_delay</th>\n",
       "      <td>-0.001993</td>\n",
       "      <td>-0.000036</td>\n",
       "      <td>0.001163</td>\n",
       "      <td>0.000230</td>\n",
       "      <td>-0.000336</td>\n",
       "      <td>0.000376</td>\n",
       "      <td>0.000322</td>\n",
       "      <td>-0.001498</td>\n",
       "      <td>-0.000773</td>\n",
       "      <td>-0.001823</td>\n",
       "      <td>...</td>\n",
       "      <td>-0.000544</td>\n",
       "      <td>-0.001881</td>\n",
       "      <td>0.003964</td>\n",
       "      <td>0.004699</td>\n",
       "      <td>0.001972</td>\n",
       "      <td>1.000000</td>\n",
       "      <td>-0.000518</td>\n",
       "      <td>0.002192</td>\n",
       "      <td>-0.000285</td>\n",
       "      <td>-0.000065</td>\n",
       "    </tr>\n",
       "    <tr>\n",
       "      <th>weather_delay</th>\n",
       "      <td>0.005551</td>\n",
       "      <td>0.015354</td>\n",
       "      <td>0.007608</td>\n",
       "      <td>0.021173</td>\n",
       "      <td>0.005315</td>\n",
       "      <td>0.008260</td>\n",
       "      <td>0.008555</td>\n",
       "      <td>-0.005886</td>\n",
       "      <td>-0.002296</td>\n",
       "      <td>-0.014571</td>\n",
       "      <td>...</td>\n",
       "      <td>-0.002136</td>\n",
       "      <td>0.001221</td>\n",
       "      <td>0.023663</td>\n",
       "      <td>-0.010115</td>\n",
       "      <td>0.030207</td>\n",
       "      <td>-0.000518</td>\n",
       "      <td>1.000000</td>\n",
       "      <td>0.017718</td>\n",
       "      <td>0.004898</td>\n",
       "      <td>0.000999</td>\n",
       "    </tr>\n",
       "    <tr>\n",
       "      <th>fog</th>\n",
       "      <td>0.021961</td>\n",
       "      <td>0.039218</td>\n",
       "      <td>0.005875</td>\n",
       "      <td>0.341152</td>\n",
       "      <td>-0.019323</td>\n",
       "      <td>0.249027</td>\n",
       "      <td>0.035470</td>\n",
       "      <td>0.032258</td>\n",
       "      <td>0.011728</td>\n",
       "      <td>-0.025148</td>\n",
       "      <td>...</td>\n",
       "      <td>0.017146</td>\n",
       "      <td>0.000925</td>\n",
       "      <td>0.028511</td>\n",
       "      <td>0.032648</td>\n",
       "      <td>0.038444</td>\n",
       "      <td>0.002192</td>\n",
       "      <td>0.017718</td>\n",
       "      <td>1.000000</td>\n",
       "      <td>0.052441</td>\n",
       "      <td>0.004344</td>\n",
       "    </tr>\n",
       "    <tr>\n",
       "      <th>hail</th>\n",
       "      <td>0.050488</td>\n",
       "      <td>0.027529</td>\n",
       "      <td>0.019769</td>\n",
       "      <td>0.053893</td>\n",
       "      <td>-0.003131</td>\n",
       "      <td>0.000347</td>\n",
       "      <td>0.051592</td>\n",
       "      <td>0.015065</td>\n",
       "      <td>0.002183</td>\n",
       "      <td>0.006574</td>\n",
       "      <td>...</td>\n",
       "      <td>0.002462</td>\n",
       "      <td>0.019255</td>\n",
       "      <td>0.003563</td>\n",
       "      <td>-0.046825</td>\n",
       "      <td>0.004498</td>\n",
       "      <td>-0.000285</td>\n",
       "      <td>0.004898</td>\n",
       "      <td>0.052441</td>\n",
       "      <td>1.000000</td>\n",
       "      <td>0.032984</td>\n",
       "    </tr>\n",
       "    <tr>\n",
       "      <th>damaging_wind</th>\n",
       "      <td>0.014574</td>\n",
       "      <td>0.029932</td>\n",
       "      <td>0.025727</td>\n",
       "      <td>0.048229</td>\n",
       "      <td>0.004058</td>\n",
       "      <td>0.002676</td>\n",
       "      <td>0.058256</td>\n",
       "      <td>0.013092</td>\n",
       "      <td>0.000622</td>\n",
       "      <td>-0.001226</td>\n",
       "      <td>...</td>\n",
       "      <td>0.000474</td>\n",
       "      <td>0.001568</td>\n",
       "      <td>0.004020</td>\n",
       "      <td>0.005532</td>\n",
       "      <td>0.002072</td>\n",
       "      <td>-0.000065</td>\n",
       "      <td>0.000999</td>\n",
       "      <td>0.004344</td>\n",
       "      <td>0.032984</td>\n",
       "      <td>1.000000</td>\n",
       "    </tr>\n",
       "  </tbody>\n",
       "</table>\n",
       "<p>22 rows × 22 columns</p>\n",
       "</div>"
      ],
      "text/plain": [
       "                     average_wind_speed  snowfall  snow_depth   thunder  \\\n",
       "average_wind_speed             1.000000  0.034958    0.014490  0.013897   \n",
       "snowfall                       0.034958  1.000000    0.393331 -0.034660   \n",
       "snow_depth                     0.014490  0.393331    1.000000 -0.065502   \n",
       "thunder                        0.013897 -0.034660   -0.065502  1.000000   \n",
       "dust                           0.023330 -0.003794   -0.006891  0.036549   \n",
       "haze                           0.016884  0.024247    0.009965  0.114641   \n",
       "snow                           0.058536  0.193429    0.139840 -0.017462   \n",
       "cancelled                      0.046752  0.043380    0.017950  0.008532   \n",
       "carrier_delay                  0.004227  0.005846    0.003020  0.017658   \n",
       "day_of_month                  -0.008078 -0.008624   -0.005113 -0.022096   \n",
       "day_of_week                   -0.003838  0.003397    0.003300 -0.011087   \n",
       "dep_delay_new                  0.007169  0.014222    0.004566  0.053065   \n",
       "diverted                       0.002282  0.002102    0.002342  0.021829   \n",
       "fl_num                         0.003636  0.019229    0.017860 -0.030622   \n",
       "late_aircraft_delay            0.007155  0.009540    0.002235  0.046634   \n",
       "month                         -0.097134 -0.029349   -0.102208 -0.013115   \n",
       "nas_delay                      0.006019  0.011895    0.002081  0.055175   \n",
       "security_delay                -0.001993 -0.000036    0.001163  0.000230   \n",
       "weather_delay                  0.005551  0.015354    0.007608  0.021173   \n",
       "fog                            0.021961  0.039218    0.005875  0.341152   \n",
       "hail                           0.050488  0.027529    0.019769  0.053893   \n",
       "damaging_wind                  0.014574  0.029932    0.025727  0.048229   \n",
       "\n",
       "                         dust      haze      snow  cancelled  carrier_delay  \\\n",
       "average_wind_speed   0.023330  0.016884  0.058536   0.046752       0.004227   \n",
       "snowfall            -0.003794  0.024247  0.193429   0.043380       0.005846   \n",
       "snow_depth          -0.006891  0.009965  0.139840   0.017950       0.003020   \n",
       "thunder              0.036549  0.114641 -0.017462   0.008532       0.017658   \n",
       "dust                 1.000000  0.115088 -0.001407   0.000512       0.000544   \n",
       "haze                 0.115088  1.000000  0.022076   0.007511       0.005700   \n",
       "snow                -0.001407  0.022076  1.000000   0.025934       0.003811   \n",
       "cancelled            0.000512  0.007511  0.025934   1.000000      -0.015876   \n",
       "carrier_delay        0.000544  0.005700  0.003811  -0.015876       1.000000   \n",
       "day_of_month         0.005332 -0.013381 -0.017409  -0.039801      -0.007327   \n",
       "day_of_week          0.014124 -0.037601  0.001816  -0.009303       0.002219   \n",
       "dep_delay_new        0.006851  0.015670  0.008370  -0.029434       0.711197   \n",
       "diverted             0.008210  0.010805  0.001962  -0.004777      -0.005760   \n",
       "fl_num              -0.001244  0.000501  0.018797   0.009042       0.019902   \n",
       "late_aircraft_delay  0.006630  0.012587  0.006246  -0.024379       0.051072   \n",
       "month                0.007715  0.014707 -0.040625  -0.022203      -0.010387   \n",
       "nas_delay            0.007674  0.017693  0.007833  -0.019390       0.020754   \n",
       "security_delay      -0.000336  0.000376  0.000322  -0.001498      -0.000773   \n",
       "weather_delay        0.005315  0.008260  0.008555  -0.005886      -0.002296   \n",
       "fog                 -0.019323  0.249027  0.035470   0.032258       0.011728   \n",
       "hail                -0.003131  0.000347  0.051592   0.015065       0.002183   \n",
       "damaging_wind        0.004058  0.002676  0.058256   0.013092       0.000622   \n",
       "\n",
       "                     day_of_month      ...        diverted    fl_num  \\\n",
       "average_wind_speed      -0.008078      ...        0.002282  0.003636   \n",
       "snowfall                -0.008624      ...        0.002102  0.019229   \n",
       "snow_depth              -0.005113      ...        0.002342  0.017860   \n",
       "thunder                 -0.022096      ...        0.021829 -0.030622   \n",
       "dust                     0.005332      ...        0.008210 -0.001244   \n",
       "haze                    -0.013381      ...        0.010805  0.000501   \n",
       "snow                    -0.017409      ...        0.001962  0.018797   \n",
       "cancelled               -0.039801      ...       -0.004777  0.009042   \n",
       "carrier_delay           -0.007327      ...       -0.005760  0.019902   \n",
       "day_of_month             1.000000      ...       -0.004572  0.008877   \n",
       "day_of_week             -0.000574      ...        0.000693  0.063484   \n",
       "dep_delay_new           -0.020151      ...        0.016523  0.021263   \n",
       "diverted                -0.004572      ...        1.000000  0.004441   \n",
       "fl_num                   0.008877      ...        0.004441  1.000000   \n",
       "late_aircraft_delay     -0.015391      ...       -0.008846  0.021607   \n",
       "month                   -0.003983      ...       -0.003028 -0.027466   \n",
       "nas_delay               -0.012764      ...       -0.007035 -0.011576   \n",
       "security_delay          -0.001823      ...       -0.000544 -0.001881   \n",
       "weather_delay           -0.014571      ...       -0.002136  0.001221   \n",
       "fog                     -0.025148      ...        0.017146  0.000925   \n",
       "hail                     0.006574      ...        0.002462  0.019255   \n",
       "damaging_wind           -0.001226      ...        0.000474  0.001568   \n",
       "\n",
       "                     late_aircraft_delay     month  nas_delay  security_delay  \\\n",
       "average_wind_speed              0.007155 -0.097134   0.006019       -0.001993   \n",
       "snowfall                        0.009540 -0.029349   0.011895       -0.000036   \n",
       "snow_depth                      0.002235 -0.102208   0.002081        0.001163   \n",
       "thunder                         0.046634 -0.013115   0.055175        0.000230   \n",
       "dust                            0.006630  0.007715   0.007674       -0.000336   \n",
       "haze                            0.012587  0.014707   0.017693        0.000376   \n",
       "snow                            0.006246 -0.040625   0.007833        0.000322   \n",
       "cancelled                      -0.024379 -0.022203  -0.019390       -0.001498   \n",
       "carrier_delay                   0.051072 -0.010387   0.020754       -0.000773   \n",
       "day_of_month                   -0.015391 -0.003983  -0.012764       -0.001823   \n",
       "day_of_week                    -0.007192  0.026499  -0.009963        0.002383   \n",
       "dep_delay_new                   0.586031 -0.025675   0.310393        0.035581   \n",
       "diverted                       -0.008846 -0.003028  -0.007035       -0.000544   \n",
       "fl_num                          0.021607 -0.027466  -0.011576       -0.001881   \n",
       "late_aircraft_delay             1.000000 -0.022692   0.047064        0.003964   \n",
       "month                          -0.022692  1.000000  -0.016620        0.004699   \n",
       "nas_delay                       0.047064 -0.016620   1.000000        0.001972   \n",
       "security_delay                  0.003964  0.004699   0.001972        1.000000   \n",
       "weather_delay                   0.023663 -0.010115   0.030207       -0.000518   \n",
       "fog                             0.028511  0.032648   0.038444        0.002192   \n",
       "hail                            0.003563 -0.046825   0.004498       -0.000285   \n",
       "damaging_wind                   0.004020  0.005532   0.002072       -0.000065   \n",
       "\n",
       "                     weather_delay       fog      hail  damaging_wind  \n",
       "average_wind_speed        0.005551  0.021961  0.050488       0.014574  \n",
       "snowfall                  0.015354  0.039218  0.027529       0.029932  \n",
       "snow_depth                0.007608  0.005875  0.019769       0.025727  \n",
       "thunder                   0.021173  0.341152  0.053893       0.048229  \n",
       "dust                      0.005315 -0.019323 -0.003131       0.004058  \n",
       "haze                      0.008260  0.249027  0.000347       0.002676  \n",
       "snow                      0.008555  0.035470  0.051592       0.058256  \n",
       "cancelled                -0.005886  0.032258  0.015065       0.013092  \n",
       "carrier_delay            -0.002296  0.011728  0.002183       0.000622  \n",
       "day_of_month             -0.014571 -0.025148  0.006574      -0.001226  \n",
       "day_of_week              -0.003054 -0.030205 -0.017465      -0.008713  \n",
       "dep_delay_new             0.275886  0.034542  0.004395       0.003608  \n",
       "diverted                 -0.002136  0.017146  0.002462       0.000474  \n",
       "fl_num                    0.001221  0.000925  0.019255       0.001568  \n",
       "late_aircraft_delay       0.023663  0.028511  0.003563       0.004020  \n",
       "month                    -0.010115  0.032648 -0.046825       0.005532  \n",
       "nas_delay                 0.030207  0.038444  0.004498       0.002072  \n",
       "security_delay           -0.000518  0.002192 -0.000285      -0.000065  \n",
       "weather_delay             1.000000  0.017718  0.004898       0.000999  \n",
       "fog                       0.017718  1.000000  0.052441       0.004344  \n",
       "hail                      0.004898  0.052441  1.000000       0.032984  \n",
       "damaging_wind             0.000999  0.004344  0.032984       1.000000  \n",
       "\n",
       "[22 rows x 22 columns]"
      ]
     },
     "execution_count": 26,
     "metadata": {},
     "output_type": "execute_result"
    }
   ],
   "source": [
    "data.corr()"
   ]
  },
  {
   "cell_type": "code",
   "execution_count": 27,
   "metadata": {},
   "outputs": [],
   "source": [
    "def check_correlations(data_df, min_v=0.7):\n",
    "    corr = data_df.corr()\n",
    "    corrs = []\n",
    "    for i in corr:\n",
    "        for j in corr.index[corr[i] >= min_v]:\n",
    "            if i != j and j not in corrs and i not in corrs:\n",
    "                corrs.append(j)\n",
    "                print(\"%s-->%s: r^2=%f\" % (i,j, corr[i][corr.index == j].values[0]))\n",
    "    if len(corrs) == 0:\n",
    "        print('Everything is perfect')"
   ]
  },
  {
   "cell_type": "code",
   "execution_count": 28,
   "metadata": {},
   "outputs": [
    {
     "name": "stdout",
     "output_type": "stream",
     "text": [
      "carrier_delay-->dep_delay_new: r^2=0.711197\n"
     ]
    }
   ],
   "source": [
    "check_correlations(data)"
   ]
  },
  {
   "cell_type": "markdown",
   "metadata": {},
   "source": [
    "Plotting data"
   ]
  },
  {
   "cell_type": "code",
   "execution_count": 29,
   "metadata": {},
   "outputs": [
    {
     "data": {
      "image/png": "[encoded data removed]",
      "text/plain": [
       "<matplotlib.figure.Figure at 0x1a698bb6d8>"
      ]
     },
     "metadata": {},
     "output_type": "display_data"
    }
   ],
   "source": [
    "data.hist(figsize=(15, 15));"
   ]
  },
  {
   "cell_type": "markdown",
   "metadata": {},
   "source": [
    "Plotting classes"
   ]
  },
  {
   "cell_type": "code",
   "execution_count": 245,
   "metadata": {},
   "outputs": [
    {
     "data": {
      "image/png": "[encoded data removed]",
      "text/plain": [
       "<matplotlib.figure.Figure at 0x1a20e8e4a8>"
      ]
     },
     "metadata": {},
     "output_type": "display_data"
    }
   ],
   "source": [
    "plt.figure(figsize=(8, 8))\n",
    "ax = sns.countplot(x = data.status)\n",
    "ax.set_title('Dataset class balance check')\n",
    "ax.set_ylabel('Count')\n",
    "plt.show()"
   ]
  },
  {
   "cell_type": "markdown",
   "metadata": {},
   "source": [
    "huge imbalance here"
   ]
  },
  {
   "cell_type": "markdown",
   "metadata": {},
   "source": [
    "Day / delay"
   ]
  },
  {
   "cell_type": "code",
   "execution_count": 30,
   "metadata": {},
   "outputs": [
    {
     "data": {
      "text/plain": [
       "<matplotlib.axes._subplots.AxesSubplot at 0x118c5ffd0>"
      ]
     },
     "execution_count": 30,
     "metadata": {},
     "output_type": "execute_result"
    },
    {
     "data": {
      "image/png": "[encoded data removed]",
      "text/plain": [
       "<matplotlib.figure.Figure at 0x117b1c668>"
      ]
     },
     "metadata": {},
     "output_type": "display_data"
    }
   ],
   "source": [
    "sns.stripplot(x=\"day_of_week\", y=\"dep_delay_new\", data=data, jitter=True)"
   ]
  },
  {
   "cell_type": "markdown",
   "metadata": {},
   "source": [
    "Month / Delay"
   ]
  },
  {
   "cell_type": "code",
   "execution_count": 31,
   "metadata": {},
   "outputs": [
    {
     "data": {
      "text/plain": [
       "<matplotlib.axes._subplots.AxesSubplot at 0x11409de10>"
      ]
     },
     "execution_count": 31,
     "metadata": {},
     "output_type": "execute_result"
    },
    {
     "data": {
      "image/png": "[encoded data removed]",
      "text/plain": [
       "<matplotlib.figure.Figure at 0x1196056d8>"
      ]
     },
     "metadata": {},
     "output_type": "display_data"
    }
   ],
   "source": [
    "sns.stripplot(x=\"month\", y=\"dep_delay_new\", data=data, jitter=True)"
   ]
  },
  {
   "cell_type": "code",
   "execution_count": 339,
   "metadata": {},
   "outputs": [
    {
     "name": "stderr",
     "output_type": "stream",
     "text": [
      "/Users/bulhakovdmytro/anaconda3/lib/python3.6/site-packages/matplotlib/cbook/deprecation.py:106: MatplotlibDeprecationWarning: The axisbg attribute was deprecated in version 2.0. Use facecolor instead.\n",
      "  warnings.warn(message, mplDeprecation, stacklevel=1)\n"
     ]
    },
    {
     "data": {
      "text/plain": [
       "Text(0.5,1,'Delays in time')"
      ]
     },
     "execution_count": 339,
     "metadata": {},
     "output_type": "execute_result"
    },
    {
     "data": {
      "text/plain": [
       "<matplotlib.figure.Figure at 0x1a20df4b70>"
      ]
     },
     "metadata": {},
     "output_type": "display_data"
    },
    {
     "data": {
      "image/png": "[encoded data removed]",
      "text/plain": [
       "<matplotlib.figure.Figure at 0x1a708d7710>"
      ]
     },
     "metadata": {},
     "output_type": "display_data"
    }
   ],
   "source": [
    "plot_df = data.copy()\n",
    "plot_df['fl_date'] = pd.to_datetime(plot_df['fl_date'], dayfirst=True, infer_datetime_format = True)\n",
    "plot_df.set_index('fl_date', inplace=True)\n",
    "# set Race as categorical\n",
    "plot_df['status'] = plot_df['status'].astype('category')\n",
    "\n",
    "grouped = plot_df.groupby('status')\n",
    "\n",
    "plt.clf()\n",
    "fig = plt.figure(figsize=(10, 8))\n",
    "ax = fig.add_subplot(111, axisbg='w', frame_on=True)\n",
    "\n",
    "for key, group in grouped:\n",
    "    plot_df = group.groupby(lambda x: x.year).count()\n",
    "    plot_df['status'].plot(label=key, ax=ax, lw=2.)\n",
    "\n",
    "# label x and y axis\n",
    "plt.xlabel(\"Year\")\n",
    "plt.ylabel(\"Number of Executions\")\n",
    "# turn off background grid\n",
    "ax.grid(b=None)\n",
    "# show a semi-transparent legend\n",
    "leg = ax.legend(loc='best')\n",
    "leg.get_frame().set_alpha(0.75)\n",
    "# set a title\n",
    "plt.title('Delays in time')"
   ]
  },
  {
   "cell_type": "markdown",
   "metadata": {},
   "source": [
    "## Additional preprocessing"
   ]
  },
  {
   "cell_type": "code",
   "execution_count": 306,
   "metadata": {},
   "outputs": [],
   "source": [
    "data2 = data[data['origin'] == 'ALB']"
   ]
  },
  {
   "cell_type": "code",
   "execution_count": 307,
   "metadata": {},
   "outputs": [],
   "source": [
    "working_df = data2"
   ]
  },
  {
   "cell_type": "code",
   "execution_count": 308,
   "metadata": {},
   "outputs": [],
   "source": [
    "def additional_preprocessing(data_df):\n",
    "    data_info = data_df.copy()\n",
    "    data_info = data_info.drop(['cancellation_code', 'cancelled', 'carrier_delay', 'dep_delay_new', 'late_aircraft_delay', 'nas_delay', 'security_delay', 'weather_delay', 'diverted', 'origin_city_name', 'dest_city_name'], axis = 1)\n",
    "    \n",
    "    return data_info"
   ]
  },
  {
   "cell_type": "code",
   "execution_count": 309,
   "metadata": {},
   "outputs": [],
   "source": [
    "working_df = additional_preprocessing(working_df)"
   ]
  },
  {
   "cell_type": "markdown",
   "metadata": {},
   "source": [
    "## Processing"
   ]
  },
  {
   "cell_type": "code",
   "execution_count": 310,
   "metadata": {},
   "outputs": [],
   "source": [
    "def process_data(data_df):\n",
    "    data_info = data_df.copy()\n",
    "    data_info = pd.get_dummies(data_info, columns=['origin', 'dest', 'carrier'])\n",
    "    le = LabelEncoder()\n",
    "    le.fit(np.unique(data_info['status'].values))\n",
    "    data_info['status'] = le.transform(data_info['status'].values)\n",
    "    data_info = data_info.drop(['fl_date'], axis=1)\n",
    "    \n",
    "    # hh2['fl_date'] = (hh2['fl_date'] - hh2['fl_date'].min())  / np.timedelta64(1,'D')\n",
    "    return data_info"
   ]
  },
  {
   "cell_type": "code",
   "execution_count": 311,
   "metadata": {},
   "outputs": [],
   "source": [
    "working_df = process_data(working_df)"
   ]
  },
  {
   "cell_type": "markdown",
   "metadata": {},
   "source": [
    "## Train test split"
   ]
  },
  {
   "cell_type": "code",
   "execution_count": 312,
   "metadata": {},
   "outputs": [],
   "source": [
    "X_train, X_test, y_train, y_test = train_test_split(working_df.loc[:, working_df.columns != 'status'], working_df['status'], test_size = 0.3, random_state = RND_STATE)"
   ]
  },
  {
   "cell_type": "markdown",
   "metadata": {},
   "source": [
    "## Due to huge dataset performing undersampling"
   ]
  },
  {
   "cell_type": "code",
   "execution_count": null,
   "metadata": {},
   "outputs": [],
   "source": [
    "tl = TomekLinks(random_state = RND_STATE)\n",
    "X_train, y_train = tl.fit_sample(X_train, y_train)"
   ]
  },
  {
   "cell_type": "markdown",
   "metadata": {},
   "source": [
    "## Predictions"
   ]
  },
  {
   "cell_type": "code",
   "execution_count": 291,
   "metadata": {},
   "outputs": [],
   "source": [
    "classifiers = []"
   ]
  },
  {
   "cell_type": "code",
   "execution_count": 292,
   "metadata": {},
   "outputs": [],
   "source": [
    "class ModelTester():\n",
    "    def __init__(self, parameters, model, scoring='f1_micro', njobs=-1, cv=10):\n",
    "        self.cv = GridSearchCV(model, param_grid=parameters, scoring = scoring, n_jobs = njobs, cv = cv, verbose = 1)\n",
    "    \n",
    "    def test_model(self, Xtrain, ytrain, Xtest, ytest):\n",
    "        self.cv.fit(Xtrain, ytrain);\n",
    "        print('Best score cv: ', self.cv.best_score_)\n",
    "        print('Params: ', self.cv.best_params_)\n",
    "    \n",
    "        y_predicted = self.cv.predict(Xtest)\n",
    "        print('Score on test sample:', f1_score(ytest, y_predicted, average='micro'))\n",
    "        \n",
    "    def best_estimator(self):\n",
    "        return self.cv.best_estimator_"
   ]
  },
  {
   "cell_type": "markdown",
   "metadata": {},
   "source": [
    "### Random Forest"
   ]
  },
  {
   "cell_type": "code",
   "execution_count": 295,
   "metadata": {},
   "outputs": [
    {
     "name": "stdout",
     "output_type": "stream",
     "text": [
      "Fitting 3 folds for each of 168 candidates, totalling 504 fits\n"
     ]
    },
    {
     "name": "stderr",
     "output_type": "stream",
     "text": [
      "[Parallel(n_jobs=-1)]: Done  76 tasks      | elapsed:    2.1s\n",
      "[Parallel(n_jobs=-1)]: Done 376 tasks      | elapsed:   10.8s\n"
     ]
    },
    {
     "name": "stdout",
     "output_type": "stream",
     "text": [
      "Best score cv:  0.9311305732484076\n",
      "Params:  {'class_weight': None, 'criterion': 'entropy', 'max_depth': 16, 'max_features': 4}\n",
      "Score on test sample: 0.8761799000555247\n"
     ]
    },
    {
     "name": "stderr",
     "output_type": "stream",
     "text": [
      "[Parallel(n_jobs=-1)]: Done 504 out of 504 | elapsed:   14.2s finished\n"
     ]
    }
   ],
   "source": [
    "param = {'criterion':['gini', 'entropy'], 'max_features':[1, 2, 3, 4, 5, 'log2', 'auto'],\n",
    "         'max_depth':[2, 4, 8, 16, 32, 64], 'class_weight':['balanced', None]}\n",
    "\n",
    "mt = ModelTester(parameters = param, model = RandomForestClassifier(random_state=RND_STATE))\n",
    "mt.test_model(X_train, y_train, X_test, y_test)\n",
    "rf_clf = mt.best_estimator()\n",
    "classifiers.append({'name': 'Random Forest Classifier', 'clf': rf_clf})"
   ]
  },
  {
   "cell_type": "markdown",
   "metadata": {},
   "source": [
    "### SVC"
   ]
  },
  {
   "cell_type": "code",
   "execution_count": 296,
   "metadata": {},
   "outputs": [
    {
     "name": "stdout",
     "output_type": "stream",
     "text": [
      "Fitting 3 folds for each of 18 candidates, totalling 54 fits\n"
     ]
    },
    {
     "ename": "KeyboardInterrupt",
     "evalue": "",
     "output_type": "error",
     "traceback": [
      "\u001b[0;31m---------------------------------------------------------------------------\u001b[0m",
      "\u001b[0;31mKeyboardInterrupt\u001b[0m                         Traceback (most recent call last)",
      "\u001b[0;32m<ipython-input-296-5f6314b5e3b4>\u001b[0m in \u001b[0;36m<module>\u001b[0;34m()\u001b[0m\n\u001b[1;32m      4\u001b[0m \u001b[0;34m\u001b[0m\u001b[0m\n\u001b[1;32m      5\u001b[0m \u001b[0mmt\u001b[0m \u001b[0;34m=\u001b[0m \u001b[0mModelTester\u001b[0m\u001b[0;34m(\u001b[0m\u001b[0mparameters\u001b[0m \u001b[0;34m=\u001b[0m \u001b[0mparam\u001b[0m\u001b[0;34m,\u001b[0m \u001b[0mmodel\u001b[0m \u001b[0;34m=\u001b[0m \u001b[0mSVC\u001b[0m\u001b[0;34m(\u001b[0m\u001b[0mrandom_state\u001b[0m\u001b[0;34m=\u001b[0m\u001b[0mRND_STATE\u001b[0m\u001b[0;34m,\u001b[0m \u001b[0mcache_size\u001b[0m\u001b[0;34m=\u001b[0m\u001b[0;36m2048\u001b[0m\u001b[0;34m)\u001b[0m\u001b[0;34m)\u001b[0m\u001b[0;34m\u001b[0m\u001b[0m\n\u001b[0;32m----> 6\u001b[0;31m \u001b[0mmt\u001b[0m\u001b[0;34m.\u001b[0m\u001b[0mtest_model\u001b[0m\u001b[0;34m(\u001b[0m\u001b[0mX_train\u001b[0m\u001b[0;34m,\u001b[0m \u001b[0my_train\u001b[0m\u001b[0;34m,\u001b[0m \u001b[0mX_test\u001b[0m\u001b[0;34m,\u001b[0m \u001b[0my_test\u001b[0m\u001b[0;34m)\u001b[0m\u001b[0;34m\u001b[0m\u001b[0m\n\u001b[0m\u001b[1;32m      7\u001b[0m \u001b[0msvc_clf\u001b[0m \u001b[0;34m=\u001b[0m \u001b[0mmt\u001b[0m\u001b[0;34m.\u001b[0m\u001b[0mbest_estimator\u001b[0m\u001b[0;34m(\u001b[0m\u001b[0;34m)\u001b[0m\u001b[0;34m\u001b[0m\u001b[0m\n\u001b[1;32m      8\u001b[0m \u001b[0mclassifiers\u001b[0m\u001b[0;34m.\u001b[0m\u001b[0mappend\u001b[0m\u001b[0;34m(\u001b[0m\u001b[0;34m{\u001b[0m\u001b[0;34m'name'\u001b[0m\u001b[0;34m:\u001b[0m \u001b[0;34m'SVC'\u001b[0m\u001b[0;34m,\u001b[0m \u001b[0;34m'clf'\u001b[0m\u001b[0;34m:\u001b[0m \u001b[0msvc_clf\u001b[0m\u001b[0;34m}\u001b[0m\u001b[0;34m)\u001b[0m\u001b[0;34m\u001b[0m\u001b[0m\n",
      "\u001b[0;32m<ipython-input-292-284df46bdc0a>\u001b[0m in \u001b[0;36mtest_model\u001b[0;34m(self, Xtrain, ytrain, Xtest, ytest)\u001b[0m\n\u001b[1;32m      4\u001b[0m \u001b[0;34m\u001b[0m\u001b[0m\n\u001b[1;32m      5\u001b[0m     \u001b[0;32mdef\u001b[0m \u001b[0mtest_model\u001b[0m\u001b[0;34m(\u001b[0m\u001b[0mself\u001b[0m\u001b[0;34m,\u001b[0m \u001b[0mXtrain\u001b[0m\u001b[0;34m,\u001b[0m \u001b[0mytrain\u001b[0m\u001b[0;34m,\u001b[0m \u001b[0mXtest\u001b[0m\u001b[0;34m,\u001b[0m \u001b[0mytest\u001b[0m\u001b[0;34m)\u001b[0m\u001b[0;34m:\u001b[0m\u001b[0;34m\u001b[0m\u001b[0m\n\u001b[0;32m----> 6\u001b[0;31m         \u001b[0mself\u001b[0m\u001b[0;34m.\u001b[0m\u001b[0mcv\u001b[0m\u001b[0;34m.\u001b[0m\u001b[0mfit\u001b[0m\u001b[0;34m(\u001b[0m\u001b[0mXtrain\u001b[0m\u001b[0;34m,\u001b[0m \u001b[0mytrain\u001b[0m\u001b[0;34m)\u001b[0m\u001b[0;34m;\u001b[0m\u001b[0;34m\u001b[0m\u001b[0m\n\u001b[0m\u001b[1;32m      7\u001b[0m         \u001b[0mprint\u001b[0m\u001b[0;34m(\u001b[0m\u001b[0;34m'Best score cv: '\u001b[0m\u001b[0;34m,\u001b[0m \u001b[0mself\u001b[0m\u001b[0;34m.\u001b[0m\u001b[0mcv\u001b[0m\u001b[0;34m.\u001b[0m\u001b[0mbest_score_\u001b[0m\u001b[0;34m)\u001b[0m\u001b[0;34m\u001b[0m\u001b[0m\n\u001b[1;32m      8\u001b[0m         \u001b[0mprint\u001b[0m\u001b[0;34m(\u001b[0m\u001b[0;34m'Params: '\u001b[0m\u001b[0;34m,\u001b[0m \u001b[0mself\u001b[0m\u001b[0;34m.\u001b[0m\u001b[0mcv\u001b[0m\u001b[0;34m.\u001b[0m\u001b[0mbest_params_\u001b[0m\u001b[0;34m)\u001b[0m\u001b[0;34m\u001b[0m\u001b[0m\n",
      "\u001b[0;32m~/anaconda3/lib/python3.6/site-packages/sklearn/model_selection/_search.py\u001b[0m in \u001b[0;36mfit\u001b[0;34m(self, X, y, groups, **fit_params)\u001b[0m\n\u001b[1;32m    637\u001b[0m                                   error_score=self.error_score)\n\u001b[1;32m    638\u001b[0m           for parameters, (train, test) in product(candidate_params,\n\u001b[0;32m--> 639\u001b[0;31m                                                    cv.split(X, y, groups)))\n\u001b[0m\u001b[1;32m    640\u001b[0m \u001b[0;34m\u001b[0m\u001b[0m\n\u001b[1;32m    641\u001b[0m         \u001b[0;31m# if one choose to see train score, \"out\" will contain train score info\u001b[0m\u001b[0;34m\u001b[0m\u001b[0;34m\u001b[0m\u001b[0m\n",
      "\u001b[0;32m~/anaconda3/lib/python3.6/site-packages/sklearn/externals/joblib/parallel.py\u001b[0m in \u001b[0;36m__call__\u001b[0;34m(self, iterable)\u001b[0m\n\u001b[1;32m    787\u001b[0m                 \u001b[0;31m# consumption.\u001b[0m\u001b[0;34m\u001b[0m\u001b[0;34m\u001b[0m\u001b[0m\n\u001b[1;32m    788\u001b[0m                 \u001b[0mself\u001b[0m\u001b[0;34m.\u001b[0m\u001b[0m_iterating\u001b[0m \u001b[0;34m=\u001b[0m \u001b[0;32mFalse\u001b[0m\u001b[0;34m\u001b[0m\u001b[0m\n\u001b[0;32m--> 789\u001b[0;31m             \u001b[0mself\u001b[0m\u001b[0;34m.\u001b[0m\u001b[0mretrieve\u001b[0m\u001b[0;34m(\u001b[0m\u001b[0;34m)\u001b[0m\u001b[0;34m\u001b[0m\u001b[0m\n\u001b[0m\u001b[1;32m    790\u001b[0m             \u001b[0;31m# Make sure that we get a last message telling us we are done\u001b[0m\u001b[0;34m\u001b[0m\u001b[0;34m\u001b[0m\u001b[0m\n\u001b[1;32m    791\u001b[0m             \u001b[0melapsed_time\u001b[0m \u001b[0;34m=\u001b[0m \u001b[0mtime\u001b[0m\u001b[0;34m.\u001b[0m\u001b[0mtime\u001b[0m\u001b[0;34m(\u001b[0m\u001b[0;34m)\u001b[0m \u001b[0;34m-\u001b[0m \u001b[0mself\u001b[0m\u001b[0;34m.\u001b[0m\u001b[0m_start_time\u001b[0m\u001b[0;34m\u001b[0m\u001b[0m\n",
      "\u001b[0;32m~/anaconda3/lib/python3.6/site-packages/sklearn/externals/joblib/parallel.py\u001b[0m in \u001b[0;36mretrieve\u001b[0;34m(self)\u001b[0m\n\u001b[1;32m    697\u001b[0m             \u001b[0;32mtry\u001b[0m\u001b[0;34m:\u001b[0m\u001b[0;34m\u001b[0m\u001b[0m\n\u001b[1;32m    698\u001b[0m                 \u001b[0;32mif\u001b[0m \u001b[0mgetattr\u001b[0m\u001b[0;34m(\u001b[0m\u001b[0mself\u001b[0m\u001b[0;34m.\u001b[0m\u001b[0m_backend\u001b[0m\u001b[0;34m,\u001b[0m \u001b[0;34m'supports_timeout'\u001b[0m\u001b[0;34m,\u001b[0m \u001b[0;32mFalse\u001b[0m\u001b[0;34m)\u001b[0m\u001b[0;34m:\u001b[0m\u001b[0;34m\u001b[0m\u001b[0m\n\u001b[0;32m--> 699\u001b[0;31m                     \u001b[0mself\u001b[0m\u001b[0;34m.\u001b[0m\u001b[0m_output\u001b[0m\u001b[0;34m.\u001b[0m\u001b[0mextend\u001b[0m\u001b[0;34m(\u001b[0m\u001b[0mjob\u001b[0m\u001b[0;34m.\u001b[0m\u001b[0mget\u001b[0m\u001b[0;34m(\u001b[0m\u001b[0mtimeout\u001b[0m\u001b[0;34m=\u001b[0m\u001b[0mself\u001b[0m\u001b[0;34m.\u001b[0m\u001b[0mtimeout\u001b[0m\u001b[0;34m)\u001b[0m\u001b[0;34m)\u001b[0m\u001b[0;34m\u001b[0m\u001b[0m\n\u001b[0m\u001b[1;32m    700\u001b[0m                 \u001b[0;32melse\u001b[0m\u001b[0;34m:\u001b[0m\u001b[0;34m\u001b[0m\u001b[0m\n\u001b[1;32m    701\u001b[0m                     \u001b[0mself\u001b[0m\u001b[0;34m.\u001b[0m\u001b[0m_output\u001b[0m\u001b[0;34m.\u001b[0m\u001b[0mextend\u001b[0m\u001b[0;34m(\u001b[0m\u001b[0mjob\u001b[0m\u001b[0;34m.\u001b[0m\u001b[0mget\u001b[0m\u001b[0;34m(\u001b[0m\u001b[0;34m)\u001b[0m\u001b[0;34m)\u001b[0m\u001b[0;34m\u001b[0m\u001b[0m\n",
      "\u001b[0;32m~/anaconda3/lib/python3.6/multiprocessing/pool.py\u001b[0m in \u001b[0;36mget\u001b[0;34m(self, timeout)\u001b[0m\n\u001b[1;32m    636\u001b[0m \u001b[0;34m\u001b[0m\u001b[0m\n\u001b[1;32m    637\u001b[0m     \u001b[0;32mdef\u001b[0m \u001b[0mget\u001b[0m\u001b[0;34m(\u001b[0m\u001b[0mself\u001b[0m\u001b[0;34m,\u001b[0m \u001b[0mtimeout\u001b[0m\u001b[0;34m=\u001b[0m\u001b[0;32mNone\u001b[0m\u001b[0;34m)\u001b[0m\u001b[0;34m:\u001b[0m\u001b[0;34m\u001b[0m\u001b[0m\n\u001b[0;32m--> 638\u001b[0;31m         \u001b[0mself\u001b[0m\u001b[0;34m.\u001b[0m\u001b[0mwait\u001b[0m\u001b[0;34m(\u001b[0m\u001b[0mtimeout\u001b[0m\u001b[0;34m)\u001b[0m\u001b[0;34m\u001b[0m\u001b[0m\n\u001b[0m\u001b[1;32m    639\u001b[0m         \u001b[0;32mif\u001b[0m \u001b[0;32mnot\u001b[0m \u001b[0mself\u001b[0m\u001b[0;34m.\u001b[0m\u001b[0mready\u001b[0m\u001b[0;34m(\u001b[0m\u001b[0;34m)\u001b[0m\u001b[0;34m:\u001b[0m\u001b[0;34m\u001b[0m\u001b[0m\n\u001b[1;32m    640\u001b[0m             \u001b[0;32mraise\u001b[0m \u001b[0mTimeoutError\u001b[0m\u001b[0;34m\u001b[0m\u001b[0m\n",
      "\u001b[0;32m~/anaconda3/lib/python3.6/multiprocessing/pool.py\u001b[0m in \u001b[0;36mwait\u001b[0;34m(self, timeout)\u001b[0m\n\u001b[1;32m    633\u001b[0m \u001b[0;34m\u001b[0m\u001b[0m\n\u001b[1;32m    634\u001b[0m     \u001b[0;32mdef\u001b[0m \u001b[0mwait\u001b[0m\u001b[0;34m(\u001b[0m\u001b[0mself\u001b[0m\u001b[0;34m,\u001b[0m \u001b[0mtimeout\u001b[0m\u001b[0;34m=\u001b[0m\u001b[0;32mNone\u001b[0m\u001b[0;34m)\u001b[0m\u001b[0;34m:\u001b[0m\u001b[0;34m\u001b[0m\u001b[0m\n\u001b[0;32m--> 635\u001b[0;31m         \u001b[0mself\u001b[0m\u001b[0;34m.\u001b[0m\u001b[0m_event\u001b[0m\u001b[0;34m.\u001b[0m\u001b[0mwait\u001b[0m\u001b[0;34m(\u001b[0m\u001b[0mtimeout\u001b[0m\u001b[0;34m)\u001b[0m\u001b[0;34m\u001b[0m\u001b[0m\n\u001b[0m\u001b[1;32m    636\u001b[0m \u001b[0;34m\u001b[0m\u001b[0m\n\u001b[1;32m    637\u001b[0m     \u001b[0;32mdef\u001b[0m \u001b[0mget\u001b[0m\u001b[0;34m(\u001b[0m\u001b[0mself\u001b[0m\u001b[0;34m,\u001b[0m \u001b[0mtimeout\u001b[0m\u001b[0;34m=\u001b[0m\u001b[0;32mNone\u001b[0m\u001b[0;34m)\u001b[0m\u001b[0;34m:\u001b[0m\u001b[0;34m\u001b[0m\u001b[0m\n",
      "\u001b[0;32m~/anaconda3/lib/python3.6/threading.py\u001b[0m in \u001b[0;36mwait\u001b[0;34m(self, timeout)\u001b[0m\n\u001b[1;32m    549\u001b[0m             \u001b[0msignaled\u001b[0m \u001b[0;34m=\u001b[0m \u001b[0mself\u001b[0m\u001b[0;34m.\u001b[0m\u001b[0m_flag\u001b[0m\u001b[0;34m\u001b[0m\u001b[0m\n\u001b[1;32m    550\u001b[0m             \u001b[0;32mif\u001b[0m \u001b[0;32mnot\u001b[0m \u001b[0msignaled\u001b[0m\u001b[0;34m:\u001b[0m\u001b[0;34m\u001b[0m\u001b[0m\n\u001b[0;32m--> 551\u001b[0;31m                 \u001b[0msignaled\u001b[0m \u001b[0;34m=\u001b[0m \u001b[0mself\u001b[0m\u001b[0;34m.\u001b[0m\u001b[0m_cond\u001b[0m\u001b[0;34m.\u001b[0m\u001b[0mwait\u001b[0m\u001b[0;34m(\u001b[0m\u001b[0mtimeout\u001b[0m\u001b[0;34m)\u001b[0m\u001b[0;34m\u001b[0m\u001b[0m\n\u001b[0m\u001b[1;32m    552\u001b[0m             \u001b[0;32mreturn\u001b[0m \u001b[0msignaled\u001b[0m\u001b[0;34m\u001b[0m\u001b[0m\n\u001b[1;32m    553\u001b[0m \u001b[0;34m\u001b[0m\u001b[0m\n",
      "\u001b[0;32m~/anaconda3/lib/python3.6/threading.py\u001b[0m in \u001b[0;36mwait\u001b[0;34m(self, timeout)\u001b[0m\n\u001b[1;32m    293\u001b[0m         \u001b[0;32mtry\u001b[0m\u001b[0;34m:\u001b[0m    \u001b[0;31m# restore state no matter what (e.g., KeyboardInterrupt)\u001b[0m\u001b[0;34m\u001b[0m\u001b[0m\n\u001b[1;32m    294\u001b[0m             \u001b[0;32mif\u001b[0m \u001b[0mtimeout\u001b[0m \u001b[0;32mis\u001b[0m \u001b[0;32mNone\u001b[0m\u001b[0;34m:\u001b[0m\u001b[0;34m\u001b[0m\u001b[0m\n\u001b[0;32m--> 295\u001b[0;31m                 \u001b[0mwaiter\u001b[0m\u001b[0;34m.\u001b[0m\u001b[0macquire\u001b[0m\u001b[0;34m(\u001b[0m\u001b[0;34m)\u001b[0m\u001b[0;34m\u001b[0m\u001b[0m\n\u001b[0m\u001b[1;32m    296\u001b[0m                 \u001b[0mgotit\u001b[0m \u001b[0;34m=\u001b[0m \u001b[0;32mTrue\u001b[0m\u001b[0;34m\u001b[0m\u001b[0m\n\u001b[1;32m    297\u001b[0m             \u001b[0;32melse\u001b[0m\u001b[0;34m:\u001b[0m\u001b[0;34m\u001b[0m\u001b[0m\n",
      "\u001b[0;31mKeyboardInterrupt\u001b[0m: "
     ]
    }
   ],
   "source": [
    "param = {'C': np.linspace(0.01, 0.03, num=3), \n",
    "              'class_weight':['balanced', None], 'kernel':['linear'],\n",
    "              'decision_function_shape' : ['ovo', 'ovr', None]}\n",
    "\n",
    "mt = ModelTester(parameters = param, model = SVC(random_state=RND_STATE, cache_size=2048))\n",
    "mt.test_model(X_train, y_train, X_test, y_test)\n",
    "svc_clf = mt.best_estimator()\n",
    "classifiers.append({'name': 'SVC', 'clf': svc_clf})"
   ]
  },
  {
   "cell_type": "markdown",
   "metadata": {},
   "source": [
    "### AdaBoostClassifier"
   ]
  },
  {
   "cell_type": "code",
   "execution_count": 297,
   "metadata": {},
   "outputs": [
    {
     "name": "stdout",
     "output_type": "stream",
     "text": [
      "Fitting 3 folds for each of 10 candidates, totalling 30 fits\n"
     ]
    },
    {
     "name": "stderr",
     "output_type": "stream",
     "text": [
      "[Parallel(n_jobs=-1)]: Done  30 out of  30 | elapsed:    5.6s finished\n"
     ]
    },
    {
     "name": "stdout",
     "output_type": "stream",
     "text": [
      "Best score cv:  0.9305997876857749\n",
      "Params:  {'algorithm': 'SAMME.R', 'learning_rate': 0.1}\n",
      "Score on test sample: 0.8770127706829539\n"
     ]
    }
   ],
   "source": [
    "param = {'algorithm': ['SAMME.R', 'SAMME'], 'learning_rate': [0.1, 0.3, 0.6, 0.8, 1.0]}\n",
    "mt = ModelTester(parameters = param, model = AdaBoostClassifier(random_state=RND_STATE))\n",
    "mt.test_model(X_train, y_train, X_test, y_test)\n",
    "adc_clf = mt.best_estimator()\n",
    "classifiers.append({'name': 'AdaBoost Classifier', 'clf': adc_clf})"
   ]
  },
  {
   "cell_type": "markdown",
   "metadata": {},
   "source": [
    "### Decision Tree Classifier"
   ]
  },
  {
   "cell_type": "code",
   "execution_count": 298,
   "metadata": {},
   "outputs": [
    {
     "name": "stdout",
     "output_type": "stream",
     "text": [
      "Fitting 3 folds for each of 56 candidates, totalling 168 fits\n"
     ]
    },
    {
     "name": "stderr",
     "output_type": "stream",
     "text": [
      "[Parallel(n_jobs=-1)]: Done 128 tasks      | elapsed:    2.1s\n"
     ]
    },
    {
     "name": "stdout",
     "output_type": "stream",
     "text": [
      "Best score cv:  0.8888004246284501\n",
      "Params:  {'class_weight': 'balanced', 'criterion': 'gini', 'max_features': 4, 'presort': False, 'random_state': 100412, 'splitter': 'best'}\n",
      "Score on test sample: 0.8484175458078845\n"
     ]
    },
    {
     "name": "stderr",
     "output_type": "stream",
     "text": [
      "[Parallel(n_jobs=-1)]: Done 168 out of 168 | elapsed:    2.8s finished\n"
     ]
    }
   ],
   "source": [
    "param = {'criterion': ['gini', 'entropy'], 'splitter': ['best', 'random'], 'max_features':[1, 2, 3, 4, 5, 'log2', 'auto'], \n",
    "         'class_weight' : ['balanced'], 'random_state':[RND_STATE], 'presort':[True, False]}\n",
    "\n",
    "mt = ModelTester(parameters = param, model = DecisionTreeClassifier(random_state=RND_STATE))\n",
    "mt.test_model(X_train, y_train, X_test, y_test)\n",
    "dtc_clf = mt.best_estimator()\n",
    "classifiers.append({'name': 'Decision Tree Classifier', 'clf': dtc_clf})"
   ]
  },
  {
   "cell_type": "markdown",
   "metadata": {},
   "source": [
    "### K-Neighbors Classifier"
   ]
  },
  {
   "cell_type": "code",
   "execution_count": 299,
   "metadata": {},
   "outputs": [
    {
     "name": "stdout",
     "output_type": "stream",
     "text": [
      "Fitting 3 folds for each of 192 candidates, totalling 576 fits\n"
     ]
    },
    {
     "name": "stderr",
     "output_type": "stream",
     "text": [
      "[Parallel(n_jobs=-1)]: Done  42 tasks      | elapsed:    9.5s\n",
      "[Parallel(n_jobs=-1)]: Done 192 tasks      | elapsed:   45.2s\n",
      "[Parallel(n_jobs=-1)]: Done 442 tasks      | elapsed:  1.8min\n",
      "[Parallel(n_jobs=-1)]: Done 576 out of 576 | elapsed:  4.0min finished\n"
     ]
    },
    {
     "name": "stdout",
     "output_type": "stream",
     "text": [
      "Best score cv:  0.9305997876857749\n",
      "Params:  {'algorithm': 'auto', 'leaf_size': 10, 'n_neighbors': 30, 'p': 1, 'weights': 'uniform'}\n",
      "Score on test sample: 0.8770127706829539\n"
     ]
    }
   ],
   "source": [
    "param = {'n_neighbors': [30, 50, 65, 70], 'weights': ['uniform', 'distance'], 'algorithm':['auto', 'ball_tree', 'kd_tree', 'brute'], \n",
    "         'leaf_size' : [10, 15, 20], 'p':[1, 2]}\n",
    "\n",
    "mt = ModelTester(parameters = param, model = KNeighborsClassifier())\n",
    "mt.test_model(X_train, y_train, X_test, y_test)\n",
    "knn_clf = mt.best_estimator()\n",
    "classifiers.append({'name': 'K-Neighbors Classifier', 'clf': knn_clf})"
   ]
  },
  {
   "cell_type": "markdown",
   "metadata": {},
   "source": [
    "### Gradient Boosting Classifier"
   ]
  },
  {
   "cell_type": "code",
   "execution_count": 300,
   "metadata": {},
   "outputs": [
    {
     "name": "stdout",
     "output_type": "stream",
     "text": [
      "Fitting 3 folds for each of 28 candidates, totalling 84 fits\n"
     ]
    },
    {
     "name": "stderr",
     "output_type": "stream",
     "text": [
      "[Parallel(n_jobs=-1)]: Done  42 tasks      | elapsed:  1.5min\n",
      "[Parallel(n_jobs=-1)]: Done  84 out of  84 | elapsed:  4.3min finished\n"
     ]
    },
    {
     "name": "stdout",
     "output_type": "stream",
     "text": [
      "Best score cv:  0.9335191082802548\n",
      "Params:  {'loss': 'deviance', 'max_features': 4, 'min_samples_leaf': 3, 'n_estimators': 300, 'presort': False}\n",
      "Score on test sample: 0.8792337590227651\n"
     ]
    }
   ],
   "source": [
    "param = {'loss': ['deviance'], 'max_features':[1, 2, 3, 4, 5, 'log2', 'auto'], 'presort':[True, False],\n",
    "         'n_estimators':[200, 300], 'min_samples_leaf' : [3]}\n",
    "\n",
    "mt = ModelTester(parameters = param, model = GradientBoostingClassifier(random_state=RND_STATE))\n",
    "mt.test_model(X_train, y_train, X_test, y_test)\n",
    "gbc_clf = mt.best_estimator()\n",
    "classifiers.append({'name': 'Gradient Boosting Classifier', 'clf': gbc_clf})"
   ]
  },
  {
   "cell_type": "markdown",
   "metadata": {},
   "source": [
    "## Working with the results"
   ]
  },
  {
   "cell_type": "code",
   "execution_count": 301,
   "metadata": {},
   "outputs": [],
   "source": [
    "def save_clfs(file_name, data_to_save):\n",
    "    with open(file_name, 'wb') as f:\n",
    "        pickle.dump(data_to_save, f)"
   ]
  },
  {
   "cell_type": "code",
   "execution_count": 302,
   "metadata": {},
   "outputs": [],
   "source": [
    "def load_clfs(file_name):\n",
    "    with open('data.pickle', 'rb') as f:\n",
    "        return pickle.load(f)"
   ]
  },
  {
   "cell_type": "code",
   "execution_count": 303,
   "metadata": {},
   "outputs": [],
   "source": [
    "save_clfs(CLF_FILE, classifiers)"
   ]
  },
  {
   "cell_type": "markdown",
   "metadata": {},
   "source": [
    "### Results per classifier:"
   ]
  },
  {
   "cell_type": "code",
   "execution_count": 398,
   "metadata": {},
   "outputs": [],
   "source": [
    "def print_importances_internal(data_df, imp_list):\n",
    "    print('Top 5 features:')\n",
    "    val_zip = zip(data_df.columns, imp_list) \n",
    "    for a, b, in sorted(val_zip, key = lambda zp_gb: zp_gb[1], reverse = True)[:5]:\n",
    "        print(\"{0}: {1}\".format(a, b))"
   ]
  },
  {
   "cell_type": "code",
   "execution_count": 399,
   "metadata": {},
   "outputs": [],
   "source": [
    "def print_importances(data_df, model):\n",
    "    if hasattr(model, 'feature_importances_'):\n",
    "        print_importances_internal(data_df, model.feature_importances_)\n",
    "    elif hasattr(model, 'coef_'):\n",
    "        print_importances_internal(data_df, model.coef_.flatten())"
   ]
  },
  {
   "cell_type": "code",
   "execution_count": 400,
   "metadata": {},
   "outputs": [
    {
     "data": {
      "application/vnd.jupyter.widget-view+json": {
       "model_id": "e40c2697452a448fab675c637fcd3a30",
       "version_major": 2,
       "version_minor": 0
      },
      "text/html": [
       "<p>Failed to display Jupyter Widget of type <code>VBox</code>.</p>\n",
       "<p>\n",
       "  If you're reading this message in the Jupyter Notebook or JupyterLab Notebook, it may mean\n",
       "  that the widgets JavaScript is still loading. If this message persists, it\n",
       "  likely means that the widgets JavaScript library is either not installed or\n",
       "  not enabled. See the <a href=\"https://ipywidgets.readthedocs.io/en/stable/user_install.html\">Jupyter\n",
       "  Widgets Documentation</a> for setup instructions.\n",
       "</p>\n",
       "<p>\n",
       "  If you're reading this message in another frontend (for example, a static\n",
       "  rendering on GitHub or <a href=\"https://nbviewer.jupyter.org/\">NBViewer</a>),\n",
       "  it may mean that your frontend doesn't currently support widgets.\n",
       "</p>\n"
      ],
      "text/plain": [
       "VBox(children=(HTML(value=''), IntProgress(value=0, max=5)))"
      ]
     },
     "metadata": {},
     "output_type": "display_data"
    },
    {
     "name": "stdout",
     "output_type": "stream",
     "text": [
      "\n",
      "Random Forest Classifier\n",
      "F1 score:  0.8761799000555247\n",
      "Top 5 features:\n",
      "average_wind_speed: 0.17247399008790246\n",
      "day_of_month: 0.1661492413957504\n",
      "fl_num: 0.1500456010153745\n",
      "month: 0.11912382489318092\n",
      "day_of_week: 0.09742323035819492\n",
      "\n",
      "AdaBoost Classifier\n",
      "F1 score:  0.8770127706829539\n",
      "Top 5 features:\n",
      "day_of_month: 0.34\n",
      "average_wind_speed: 0.14\n",
      "fl_num: 0.1\n",
      "carrier_DL: 0.1\n",
      "month: 0.08\n",
      "\n",
      "Decision Tree Classifier\n",
      "F1 score:  0.8484175458078845\n",
      "Top 5 features:\n",
      "day_of_month: 0.16436351400298096\n",
      "fl_num: 0.1615938708781539\n",
      "average_wind_speed: 0.1613494223711255\n",
      "month: 0.10977449497743812\n",
      "day_of_week: 0.09773549546811296\n",
      "\n",
      "K-Neighbors Classifier\n",
      "F1 score:  0.8770127706829539\n",
      "\n",
      "Gradient Boosting Classifier\n",
      "F1 score:  0.8792337590227651\n",
      "Top 5 features:\n",
      "average_wind_speed: 0.1684720338499684\n",
      "fl_num: 0.16270721466123553\n",
      "day_of_month: 0.14894957025142838\n",
      "month: 0.09549463829858008\n",
      "day_of_week: 0.0931519940114888\n"
     ]
    }
   ],
   "source": [
    "results_data = []\n",
    "for clf in log_progress(classifiers, every = 1):\n",
    "    print('\\n' + clf['name'])\n",
    "    score = f1_score(clf['clf'].predict(X_test), y_test, average='micro')\n",
    "    print('F1 score: ', score)\n",
    "    results_data.append({'Classifier': clf['name'], 'F1 Score': score})\n",
    "    print_importances(X_train, clf['clf'])"
   ]
  },
  {
   "cell_type": "code",
   "execution_count": 369,
   "metadata": {},
   "outputs": [
    {
     "data": {
      "text/plain": [
       "Text(0.5,1,'Models and F1 score')"
      ]
     },
     "execution_count": 369,
     "metadata": {},
     "output_type": "execute_result"
    },
    {
     "data": {
      "image/png": "[encoded data removed]",
      "text/plain": [
       "<matplotlib.figure.Figure at 0x1aef985860>"
      ]
     },
     "metadata": {},
     "output_type": "display_data"
    }
   ],
   "source": [
    "pd.DataFrame(results_data).plot(x='Classifier', y='F1 Score', kind = 'bar', figsize = (15, 10), fontsize = 12)\n",
    "plt.xticks(rotation = 0)\n",
    "plt.title('Models and F1 score', fontsize = 12)"
   ]
  },
  {
   "cell_type": "code",
   "execution_count": null,
   "metadata": {},
   "outputs": [],
   "source": []
  }
 ],
 "metadata": {
  "kernelspec": {
   "display_name": "Python 3",
   "language": "python",
   "name": "python3"
  },
  "language_info": {
   "codemirror_mode": {
    "name": "ipython",
    "version": 3
   },
   "file_extension": ".py",
   "mimetype": "text/x-python",
   "name": "python",
   "nbconvert_exporter": "python",
   "pygments_lexer": "ipython3",
   "version": "3.6.4"
  }
 },
 "nbformat": 4,
 "nbformat_minor": 2
}
