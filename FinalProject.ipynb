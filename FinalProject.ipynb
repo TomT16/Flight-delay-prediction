{
 "cells": [
  {
   "cell_type": "code",
   "execution_count": 1,
   "metadata": {},
   "outputs": [],
   "source": [
    "import pandas as pd\n",
    "import numpy as np\n",
    "import glob\n",
    "import requests\n",
    "import json\n",
    "import gc\n",
    "import pickle\n",
    "import concurrent.futures\n",
    "\n",
    "import seaborn as sns\n",
    "import matplotlib.pyplot as plt\n",
    "\n",
    "from sklearn.model_selection import train_test_split\n",
    "from sklearn.model_selection import GridSearchCV\n",
    "from sklearn.model_selection import StratifiedKFold\n",
    "from sklearn.metrics import f1_score\n",
    "from imblearn.under_sampling import TomekLinks\n",
    "\n",
    "from sklearn.svm import SVC\n",
    "from sklearn.ensemble import AdaBoostClassifier\n",
    "from sklearn.neighbors import KNeighborsClassifier\n",
    "from sklearn.ensemble import GradientBoostingClassifier\n",
    "from sklearn.ensemble import VotingClassifier\n",
    "from sklearn.ensemble import VotingClassifier\n",
    "from sklearn.ensemble import RandomForestClassifier\n",
    "from sklearn.tree import DecisionTreeClassifier\n",
    "from sklearn.ensemble import RandomForestClassifier\n",
    "\n",
    "RND_STATE = 100412"
   ]
  },
  {
   "cell_type": "code",
   "execution_count": 2,
   "metadata": {},
   "outputs": [],
   "source": [
    "def log_progress(sequence, every=None, size=None, name='Items'):\n",
    "    from ipywidgets import IntProgress, HTML, VBox\n",
    "    from IPython.display import display\n",
    "\n",
    "    is_iterator = False\n",
    "    if size is None:\n",
    "        try:\n",
    "            size = len(sequence)\n",
    "        except TypeError:\n",
    "            is_iterator = True\n",
    "    if size is not None:\n",
    "        if every is None:\n",
    "            if size <= 200:\n",
    "                every = 1\n",
    "            else:\n",
    "                every = int(size / 200)     # every 0.5%\n",
    "    else:\n",
    "        assert every is not None, 'sequence is iterator, set every'\n",
    "\n",
    "    if is_iterator:\n",
    "        progress = IntProgress(min=0, max=1, value=1)\n",
    "        progress.bar_style = 'info'\n",
    "    else:\n",
    "        progress = IntProgress(min=0, max=size, value=0)\n",
    "    label = HTML()\n",
    "    box = VBox(children=[label, progress])\n",
    "    display(box)\n",
    "\n",
    "    index = 0\n",
    "    try:\n",
    "        for index, record in enumerate(sequence, 1):\n",
    "            if index == 1 or index % every == 0:\n",
    "                if is_iterator:\n",
    "                    label.value = '{name}: {index} / ?'.format(\n",
    "                        name=name,\n",
    "                        index=index\n",
    "                    )\n",
    "                else:\n",
    "                    progress.value = index\n",
    "                    label.value = u'{name}: {index} / {size}'.format(\n",
    "                        name=name,\n",
    "                        index=index,\n",
    "                        size=size\n",
    "                    )\n",
    "            yield record\n",
    "    except:\n",
    "        progress.bar_style = 'danger'\n",
    "        raise\n",
    "    else:\n",
    "        progress.bar_style = 'success'\n",
    "        progress.value = index\n",
    "        label.value = \"{name}: {index}\".format(\n",
    "            name=name,\n",
    "            index=str(index or '?')\n",
    "        )"
   ]
  },
  {
   "cell_type": "markdown",
   "metadata": {},
   "source": [
    "## Configuration"
   ]
  },
  {
   "cell_type": "code",
   "execution_count": 3,
   "metadata": {},
   "outputs": [],
   "source": [
    "# weather links\n",
    "# ftp://ftp.ncdc.noaa.gov/pub/data/ghcn/daily/readme.txt"
   ]
  },
  {
   "cell_type": "code",
   "execution_count": 4,
   "metadata": {},
   "outputs": [],
   "source": [
    "WEATHER_API_KEY = ''"
   ]
  },
  {
   "cell_type": "code",
   "execution_count": 5,
   "metadata": {},
   "outputs": [],
   "source": [
    "STARTING_DATE = '2017-03-01'\n",
    "END_DATE = '2018-03-01'"
   ]
  },
  {
   "cell_type": "code",
   "execution_count": 6,
   "metadata": {},
   "outputs": [],
   "source": [
    "DATA_FOLDER = 'historical_data'\n",
    "DICT_FOLDER = 'dictionaries'\n",
    "WEATHER_FOLDER = 'weather_data'"
   ]
  },
  {
   "cell_type": "code",
   "execution_count": 7,
   "metadata": {},
   "outputs": [],
   "source": [
    "DATA_FILE = 'merged_data.csv'"
   ]
  },
  {
   "cell_type": "code",
   "execution_count": 8,
   "metadata": {},
   "outputs": [],
   "source": [
    "CLF_FILE = 'classifiers.data'"
   ]
  },
  {
   "cell_type": "markdown",
   "metadata": {},
   "source": [
    "## Merging and loading data"
   ]
  },
  {
   "cell_type": "markdown",
   "metadata": {},
   "source": [
    "### Loading flights data"
   ]
  },
  {
   "cell_type": "code",
   "execution_count": 9,
   "metadata": {},
   "outputs": [],
   "source": [
    "def get_file_list(folder_name):\n",
    "    return glob.glob(folder_name + '/*.csv')"
   ]
  },
  {
   "cell_type": "code",
   "execution_count": 10,
   "metadata": {},
   "outputs": [],
   "source": [
    "def read_csv(file_name):\n",
    "    file_data = pd.read_csv(file_name, dtype={'CANCELLATION_CODE': str}, parse_dates=True)\n",
    "    file_data['FL_DATE'] = pd.to_datetime(file_data.FL_DATE)\n",
    "    return file_data"
   ]
  },
  {
   "cell_type": "code",
   "execution_count": 11,
   "metadata": {},
   "outputs": [],
   "source": [
    "def read_csv_backup(file_name):\n",
    "    file_data = pd.read_csv(file_name, dtype={'cancellation_code': str}, parse_dates=True)\n",
    "    file_data['fl_date'] = pd.to_datetime(file_data.fl_date)\n",
    "    file_data = file_data.drop(['Unnamed: 0'], axis = 1)\n",
    "    return file_data"
   ]
  },
  {
   "cell_type": "code",
   "execution_count": 12,
   "metadata": {},
   "outputs": [],
   "source": [
    "def gather_data(folder_name):\n",
    "    file_list = get_file_list(folder_name)\n",
    "    \n",
    "    files_data = read_csv(file_list[0])\n",
    "    for file in log_progress(file_list[1:], every=1):\n",
    "        tmp = read_csv(file)\n",
    "        files_data = pd.concat([files_data, tmp])\n",
    "        del tmp\n",
    "        \n",
    "    files_data = files_data.reindex()\n",
    "    files_data.columns = map(str.lower, files_data.columns)\n",
    "    return files_data"
   ]
  },
  {
   "cell_type": "code",
   "execution_count": 13,
   "metadata": {},
   "outputs": [],
   "source": [
    "def append_city_names(files_data, dict_folder_name):\n",
    "    files_data_df = files_data.copy()\n",
    "    city_info = pd.read_csv(dict_folder_name + '/city_codes_info.csv')\n",
    "    city_info['Description'] =  city_info['Description'].str.replace(',.*|\\/.*| City', '')\n",
    "    \n",
    "    city_info.columns = ['origin_city_market_id', 'origin_city_name']\n",
    "    files_data_df = pd.merge(files_data_df, city_info, on='origin_city_market_id')\n",
    "    \n",
    "    city_info.columns = ['dest_city_market_id', 'dest_city_name']\n",
    "    files_data_df = pd.merge(files_data_df, city_info, on='dest_city_market_id')\n",
    "    \n",
    "    del city_info\n",
    "    \n",
    "    return files_data_df"
   ]
  },
  {
   "cell_type": "code",
   "execution_count": 14,
   "metadata": {},
   "outputs": [],
   "source": [
    "def load_data(folder_name, dict_folder_name):\n",
    "    files_data = gather_data(folder_name)\n",
    "    files_data = files_data.sort_values(by='fl_date')\n",
    "    files_data = files_data.dropna(thresh=9)\n",
    "    files_data = append_city_names(files_data, dict_folder_name)\n",
    "    return files_data.reindex()"
   ]
  },
  {
   "cell_type": "code",
   "execution_count": 15,
   "metadata": {},
   "outputs": [
    {
     "data": {
      "application/vnd.jupyter.widget-view+json": {
       "model_id": "87f34bfd0e894eb5adb4e900bf844b42",
       "version_major": 2,
       "version_minor": 0
      },
      "text/html": [
       "<p>Failed to display Jupyter Widget of type <code>VBox</code>.</p>\n",
       "<p>\n",
       "  If you're reading this message in the Jupyter Notebook or JupyterLab Notebook, it may mean\n",
       "  that the widgets JavaScript is still loading. If this message persists, it\n",
       "  likely means that the widgets JavaScript library is either not installed or\n",
       "  not enabled. See the <a href=\"https://ipywidgets.readthedocs.io/en/stable/user_install.html\">Jupyter\n",
       "  Widgets Documentation</a> for setup instructions.\n",
       "</p>\n",
       "<p>\n",
       "  If you're reading this message in another frontend (for example, a static\n",
       "  rendering on GitHub or <a href=\"https://nbviewer.jupyter.org/\">NBViewer</a>),\n",
       "  it may mean that your frontend doesn't currently support widgets.\n",
       "</p>\n"
      ],
      "text/plain": [
       "VBox(children=(HTML(value=''), IntProgress(value=0, max=11)))"
      ]
     },
     "metadata": {},
     "output_type": "display_data"
    }
   ],
   "source": [
    "data = load_data(DATA_FOLDER, DICT_FOLDER)"
   ]
  },
  {
   "cell_type": "code",
   "execution_count": 16,
   "metadata": {},
   "outputs": [],
   "source": [
    "data.to_csv(DATA_FILE)"
   ]
  },
  {
   "cell_type": "markdown",
   "metadata": {},
   "source": [
    "### Loading weather data"
   ]
  },
  {
   "cell_type": "code",
   "execution_count": 17,
   "metadata": {},
   "outputs": [],
   "source": [
    "def get_data_city_names(data_df):\n",
    "    return list(set(list(data['origin_city_name'].values) + list(data['dest_city_name'].values)))"
   ]
  },
  {
   "cell_type": "code",
   "execution_count": 18,
   "metadata": {},
   "outputs": [],
   "source": [
    "def load_city_codes(dict_folder_name):\n",
    "    tmp = pd.read_csv(dict_folder_name + '/weather_city_codes_info.csv')\n",
    "    tmp['name'] = tmp['name'].str.lower()\n",
    "    tmp['name'] = tmp['name'].str.replace(',.*|\\/.*| city', '')\n",
    "    tmp['name'] = tmp['name'].str.strip()\n",
    "    return tmp"
   ]
  },
  {
   "cell_type": "code",
   "execution_count": 19,
   "metadata": {},
   "outputs": [],
   "source": [
    "def get_weather_city_codes(data_df, dict_folder_name):\n",
    "    weather_cities_codes = load_city_codes(dict_folder_name)\n",
    "    data_city_names = get_data_city_names(data_df)\n",
    "    \n",
    "    processed_cities = []\n",
    "    failed_cities = []\n",
    "    for city in data_city_names:\n",
    "        city_data = weather_cities_codes[weather_cities_codes['name'].str.contains(city.lower())]\n",
    "        if len(city_data) == 0:\n",
    "            failed_cities.append(city)\n",
    "        else:\n",
    "            processed_cities.append({'name': city, 'weather_id': city_data['id'].values[0]})\n",
    "    return processed_cities, failed_cities"
   ]
  },
  {
   "cell_type": "code",
   "execution_count": 20,
   "metadata": {},
   "outputs": [],
   "source": [
    "def get_weather_for_city(city_info, start_date, end_date, api_key, limit=1000, offset=0):\n",
    "    req_url = 'http://www.ncdc.noaa.gov/cdo-web/api/v2/data?datasetid=GHCND&locationid={0}&startdate={1}&enddate={2}&limit={3}&offset={4}'\n",
    "    req_url = req_url.format(city_info['weather_id'], start_date, end_date, limit, offset)\n",
    "    \n",
    "    result_json = requests.get(req_url, headers={'token': api_key}, timeout=20)\n",
    "    result_json = json.loads(result_json.content)\n",
    "    result_data = pd.DataFrame(result_json['results'])\n",
    "    \n",
    "    if result_json['metadata']['resultset']['count'] > offset + limit:\n",
    "        return pd.concat([result_data, get_weather_for_city(city_info, start_date, end_date, api_key, limit, offset + limit)])\n",
    "    else:\n",
    "        return result_data"
   ]
  },
  {
   "cell_type": "code",
   "execution_count": 21,
   "metadata": {},
   "outputs": [],
   "source": [
    "def save_weather_data(data_df, dict_folder_name, save_folder, start_date, end_date, api_key):\n",
    "    weather_city_codes, error_cities = get_weather_city_codes(data_df, dict_folder_name)\n",
    "    \n",
    "    for city in log_progress(weather_city_codes, every=1):\n",
    "        try:\n",
    "            city_weather = get_weather_for_city(city, start_date, end_date, api_key)\n",
    "            city_weather.to_csv(save_folder + '/' + city['name'] + '.csv')\n",
    "        except Exception as e:\n",
    "            error_cities.append(city)\n",
    "            print(e)\n",
    "    return weather_city_codes, error_cities"
   ]
  },
  {
   "cell_type": "code",
   "execution_count": null,
   "metadata": {},
   "outputs": [],
   "source": [
    "ok, err = save_weather_data(data, DICT_FOLDER, WEATHER_FOLDER, STARTING_DATE, END_DATE, WEATHER_API_KEY)"
   ]
  },
  {
   "cell_type": "code",
   "execution_count": 22,
   "metadata": {},
   "outputs": [],
   "source": [
    "def filter_data_by_available_weather(data_df, weather_data_folder):\n",
    "    city_list = get_file_list(weather_data_folder)\n",
    "    fixed_city_list = []\n",
    "    for city in city_list:\n",
    "        fixed_city_list.append(city.replace(weather_data_folder + '/', '').replace('.csv', ''))\n",
    "    \n",
    "    tmp_df = data_df[(data_df['origin_city_name'].isin(fixed_city_list)) | (data_df['dest_city_name'].isin(fixed_city_list))]\n",
    "    return tmp_df, city_list "
   ]
  },
  {
   "cell_type": "code",
   "execution_count": 23,
   "metadata": {},
   "outputs": [],
   "source": [
    "def read_weather_file(weather_data_folder, weather_file_path):\n",
    "    weather_data = pd.read_csv(weather_file_path)\n",
    "    weather_data['date'] = pd.to_datetime(weather_data.date)\n",
    "    weather_data = weather_data.drop(['Unnamed: 0', 'attributes', 'station'], axis=1)\n",
    "    weather_data = weather_data.rename(columns={'date': 'fl_date'})\n",
    "    weather_data = weather_data.drop_duplicates([\"fl_date\", \"datatype\"])\n",
    "    weather_data = weather_data.pivot_table(weather_data, index='fl_date', columns='datatype', aggfunc=sum, fill_value=0)\n",
    "    weather_data = weather_data.reset_index()\n",
    "    weather_data_value = weather_data['value'].copy()\n",
    "    weather_data_value['fl_date'] = weather_data['fl_date']\n",
    "    del weather_data\n",
    "    selected_cols = ['fl_date', 'AWND', 'SNOW', 'SNWD', 'WT01', 'WT02', 'WT03', 'WT04', 'WT05', 'WT06', 'WT07', 'WT08', 'WT09', 'WT10', 'WT11']\n",
    "    available_cols = list(set(weather_data_value.columns).intersection(selected_cols))\n",
    "    na_cols = list(set(selected_cols) - set(available_cols))\n",
    "    weather_data_value = weather_data_value[available_cols]\n",
    "    \n",
    "    for na_col in na_cols:\n",
    "        weather_data_value[na_col] = None\n",
    "    \n",
    "    weather_data_value = weather_data_value.rename({'SNOW': 'snowfall_mm', 'SNWD': 'snow_depth_mm', 'AWND': 'avg_wind_ms', 'WT08': 'smoke', 'WT01': 'fog', 'WT03': 'thunder'})\n",
    "    weather_data_value['city_name'] = weather_file_path.replace(weather_data_folder + '/', '').replace('.csv', '')\n",
    "    \n",
    "    return weather_data_value"
   ]
  },
  {
   "cell_type": "code",
   "execution_count": 24,
   "metadata": {},
   "outputs": [],
   "source": [
    "def merge_data_with_weather(data_df, weather_data_folder):\n",
    "    filtered_df, city_list = filter_data_by_available_weather(data_df, weather_data_folder)\n",
    "    dfs = []\n",
    "    \n",
    "    for city in log_progress(city_list, every=1):\n",
    "        tmp = read_weather_file(weather_data_folder, city)\n",
    "        tmp = tmp.rename(columns={'city_name': 'origin_city_name'})\n",
    "        dfs.append(pd.merge(filtered_df, tmp, on=['fl_date', 'origin_city_name']))\n",
    "        tmp = tmp.rename(columns={'origin_city_name': 'dest_city_name'})\n",
    "        dfs.append(pd.merge(filtered_df, tmp, on=['fl_date', 'dest_city_name']))\n",
    "        del tmp\n",
    "        gc.collect()\n",
    "        \n",
    "    final_df = pd.concat(dfs)\n",
    "    final_df = final_df.sort_values(by=['fl_date', 'origin_city_name', 'dest_city_name'])\n",
    "    return final_df"
   ]
  },
  {
   "cell_type": "code",
   "execution_count": 25,
   "metadata": {},
   "outputs": [
    {
     "data": {
      "application/vnd.jupyter.widget-view+json": {
       "model_id": "3fe3ba8664c84a14954294e598447ea8",
       "version_major": 2,
       "version_minor": 0
      },
      "text/html": [
       "<p>Failed to display Jupyter Widget of type <code>VBox</code>.</p>\n",
       "<p>\n",
       "  If you're reading this message in the Jupyter Notebook or JupyterLab Notebook, it may mean\n",
       "  that the widgets JavaScript is still loading. If this message persists, it\n",
       "  likely means that the widgets JavaScript library is either not installed or\n",
       "  not enabled. See the <a href=\"https://ipywidgets.readthedocs.io/en/stable/user_install.html\">Jupyter\n",
       "  Widgets Documentation</a> for setup instructions.\n",
       "</p>\n",
       "<p>\n",
       "  If you're reading this message in another frontend (for example, a static\n",
       "  rendering on GitHub or <a href=\"https://nbviewer.jupyter.org/\">NBViewer</a>),\n",
       "  it may mean that your frontend doesn't currently support widgets.\n",
       "</p>\n"
      ],
      "text/plain": [
       "VBox(children=(HTML(value=''), IntProgress(value=0, max=235)))"
      ]
     },
     "metadata": {},
     "output_type": "display_data"
    }
   ],
   "source": [
    "data = merge_data_with_weather(data, WEATHER_FOLDER)"
   ]
  },
  {
   "cell_type": "code",
   "execution_count": 26,
   "metadata": {},
   "outputs": [],
   "source": [
    "data.to_csv(DATA_FILE)"
   ]
  },
  {
   "cell_type": "markdown",
   "metadata": {},
   "source": [
    "## Preprocessing data "
   ]
  },
  {
   "cell_type": "code",
   "execution_count": 33,
   "metadata": {},
   "outputs": [],
   "source": [
    "data = read_csv_backup(DATA_FILE)"
   ]
  },
  {
   "cell_type": "code",
   "execution_count": 34,
   "metadata": {},
   "outputs": [],
   "source": [
    "def get_dependent_variable_value(cancelled, cancelled_code, dep_delay_new):\n",
    "    if cancelled == 1 or cancelled_code != 'E':\n",
    "        return 'cancelled_flight'\n",
    "    if dep_delay_new > 300:\n",
    "        return 'extra_long_delay'\n",
    "    if dep_delay_new > 120:\n",
    "        return 'long_delay'\n",
    "    if dep_delay_new > 30:\n",
    "        return 'moderate_delay'\n",
    "    return 'no_delay'"
   ]
  },
  {
   "cell_type": "code",
   "execution_count": 35,
   "metadata": {},
   "outputs": [],
   "source": [
    "def preprocess_data(file_data):\n",
    "    data_df = file_data.copy()\n",
    "    data_df = data_df.drop(['origin_airport_id', 'origin_airport_seq_id', 'origin_city_market_id', 'dest_airport_id', 'dest_airport_seq_id', 'dest_city_market_id', 'year', 'unnamed: 28'], axis=1)\n",
    "    data_df = data_df.fillna(value={'cancellation_code': 'E'})\n",
    "    data_df = data_df.fillna(0)\n",
    "    data_df['fog'] = list(map(int , (data_df['WT01'] + data_df['WT02']).values > 0))\n",
    "    data_df['hail'] = list(map(int , (data_df['WT04'] + data_df['WT05']).values > 0))\n",
    "    data_df['damaging_wind'] = list(map(int , (data_df['WT10'] + data_df['WT11']).values > 0))\n",
    "    data_df = data_df.drop(['WT01', 'WT02', 'WT04', 'WT05', 'WT06', 'WT10', 'WT11'], axis=1)\n",
    "    data_df = data_df.rename(columns={'SNOW': 'snowfall', 'SNWD': 'snow_depth', 'AWND': 'average_wind_speed','WT03': 'thunder', 'WT07': 'dust', 'WT08': 'haze', 'WT09': 'snow'})\n",
    "    \n",
    "    data_df['cancellation_code'] = list(map(str, data_df['cancellation_code']))\n",
    "    data_df['carrier'] = list(map(str, data_df['carrier']))\n",
    "    data_df['dest'] = list(map(str, data_df['dest']))\n",
    "    data_df['dest_city_name'] = list(map(str, data_df['dest_city_name']))\n",
    "    data_df['origin'] = list(map(str, data_df['origin']))\n",
    "    data_df['origin_city_name'] = list(map(str, data_df['origin_city_name']))\n",
    "    data_df['cancelled'] = list(map(int, data_df['cancelled']))\n",
    "    data_df['diverted'] = list(map(int, data_df['diverted']))\n",
    "    \n",
    "    with concurrent.futures.ProcessPoolExecutor(16) as pool:\n",
    "        data_df['status'] = list(pool.map(get_dependent_variable_value, data_df['cancelled'], data_df['cancellation_code'], data_df['dep_delay_new'], chunksize=1_000))\n",
    "    return data_df"
   ]
  },
  {
   "cell_type": "code",
   "execution_count": 36,
   "metadata": {},
   "outputs": [],
   "source": [
    "data = preprocess_data(data)"
   ]
  },
  {
   "cell_type": "markdown",
   "metadata": {},
   "source": [
    "## Analysis with additional data"
   ]
  },
  {
   "cell_type": "markdown",
   "metadata": {},
   "source": [
    "Overall data info"
   ]
  },
  {
   "cell_type": "code",
   "execution_count": 38,
   "metadata": {},
   "outputs": [
    {
     "data": {
      "text/html": [
       "<div>\n",
       "<style scoped>\n",
       "    .dataframe tbody tr th:only-of-type {\n",
       "        vertical-align: middle;\n",
       "    }\n",
       "\n",
       "    .dataframe tbody tr th {\n",
       "        vertical-align: top;\n",
       "    }\n",
       "\n",
       "    .dataframe thead th {\n",
       "        text-align: right;\n",
       "    }\n",
       "</style>\n",
       "<table border=\"1\" class=\"dataframe\">\n",
       "  <thead>\n",
       "    <tr style=\"text-align: right;\">\n",
       "      <th></th>\n",
       "      <th>average_wind_speed</th>\n",
       "      <th>snowfall</th>\n",
       "      <th>snow_depth</th>\n",
       "      <th>thunder</th>\n",
       "      <th>dust</th>\n",
       "      <th>haze</th>\n",
       "      <th>snow</th>\n",
       "      <th>cancelled</th>\n",
       "      <th>carrier_delay</th>\n",
       "      <th>crs_dep_time</th>\n",
       "      <th>...</th>\n",
       "      <th>fl_num</th>\n",
       "      <th>late_aircraft_delay</th>\n",
       "      <th>month</th>\n",
       "      <th>nas_delay</th>\n",
       "      <th>quarter</th>\n",
       "      <th>security_delay</th>\n",
       "      <th>weather_delay</th>\n",
       "      <th>fog</th>\n",
       "      <th>hail</th>\n",
       "      <th>damaging_wind</th>\n",
       "    </tr>\n",
       "  </thead>\n",
       "  <tbody>\n",
       "    <tr>\n",
       "      <th>count</th>\n",
       "      <td>4.666579e+06</td>\n",
       "      <td>4.666579e+06</td>\n",
       "      <td>4.666579e+06</td>\n",
       "      <td>4.666579e+06</td>\n",
       "      <td>4.666579e+06</td>\n",
       "      <td>4.666579e+06</td>\n",
       "      <td>4.666579e+06</td>\n",
       "      <td>4.666579e+06</td>\n",
       "      <td>4.666579e+06</td>\n",
       "      <td>4.666579e+06</td>\n",
       "      <td>...</td>\n",
       "      <td>4.666579e+06</td>\n",
       "      <td>4.666579e+06</td>\n",
       "      <td>4.666579e+06</td>\n",
       "      <td>4.666579e+06</td>\n",
       "      <td>4.666579e+06</td>\n",
       "      <td>4.666579e+06</td>\n",
       "      <td>4.666579e+06</td>\n",
       "      <td>4.666579e+06</td>\n",
       "      <td>4.666579e+06</td>\n",
       "      <td>4.666579e+06</td>\n",
       "    </tr>\n",
       "    <tr>\n",
       "      <th>mean</th>\n",
       "      <td>2.797055e+01</td>\n",
       "      <td>5.401027e-01</td>\n",
       "      <td>2.967996e+00</td>\n",
       "      <td>1.996743e-01</td>\n",
       "      <td>2.674550e-03</td>\n",
       "      <td>1.417231e-01</td>\n",
       "      <td>7.290137e-04</td>\n",
       "      <td>1.352640e-02</td>\n",
       "      <td>3.687214e+00</td>\n",
       "      <td>1.332838e+03</td>\n",
       "      <td>...</td>\n",
       "      <td>2.222141e+03</td>\n",
       "      <td>4.380498e+00</td>\n",
       "      <td>7.430768e+00</td>\n",
       "      <td>2.367079e+00</td>\n",
       "      <td>2.778629e+00</td>\n",
       "      <td>1.760090e-02</td>\n",
       "      <td>4.958002e-01</td>\n",
       "      <td>3.588335e-01</td>\n",
       "      <td>5.467817e-03</td>\n",
       "      <td>4.311938e-03</td>\n",
       "    </tr>\n",
       "    <tr>\n",
       "      <th>std</th>\n",
       "      <td>2.551131e+01</td>\n",
       "      <td>8.485501e+00</td>\n",
       "      <td>2.975954e+01</td>\n",
       "      <td>3.997556e-01</td>\n",
       "      <td>5.164685e-02</td>\n",
       "      <td>3.487659e-01</td>\n",
       "      <td>2.699041e-02</td>\n",
       "      <td>1.155138e-01</td>\n",
       "      <td>2.873237e+01</td>\n",
       "      <td>4.901060e+02</td>\n",
       "      <td>...</td>\n",
       "      <td>1.727191e+03</td>\n",
       "      <td>2.211855e+01</td>\n",
       "      <td>2.861298e+00</td>\n",
       "      <td>1.517216e+01</td>\n",
       "      <td>9.802593e-01</td>\n",
       "      <td>1.434897e+00</td>\n",
       "      <td>1.065670e+01</td>\n",
       "      <td>4.796583e-01</td>\n",
       "      <td>7.374226e-02</td>\n",
       "      <td>6.552363e-02</td>\n",
       "    </tr>\n",
       "    <tr>\n",
       "      <th>min</th>\n",
       "      <td>0.000000e+00</td>\n",
       "      <td>0.000000e+00</td>\n",
       "      <td>0.000000e+00</td>\n",
       "      <td>0.000000e+00</td>\n",
       "      <td>0.000000e+00</td>\n",
       "      <td>0.000000e+00</td>\n",
       "      <td>0.000000e+00</td>\n",
       "      <td>0.000000e+00</td>\n",
       "      <td>0.000000e+00</td>\n",
       "      <td>1.000000e+00</td>\n",
       "      <td>...</td>\n",
       "      <td>1.000000e+00</td>\n",
       "      <td>0.000000e+00</td>\n",
       "      <td>3.000000e+00</td>\n",
       "      <td>0.000000e+00</td>\n",
       "      <td>1.000000e+00</td>\n",
       "      <td>0.000000e+00</td>\n",
       "      <td>0.000000e+00</td>\n",
       "      <td>0.000000e+00</td>\n",
       "      <td>0.000000e+00</td>\n",
       "      <td>0.000000e+00</td>\n",
       "    </tr>\n",
       "    <tr>\n",
       "      <th>25%</th>\n",
       "      <td>1.500000e+01</td>\n",
       "      <td>0.000000e+00</td>\n",
       "      <td>0.000000e+00</td>\n",
       "      <td>0.000000e+00</td>\n",
       "      <td>0.000000e+00</td>\n",
       "      <td>0.000000e+00</td>\n",
       "      <td>0.000000e+00</td>\n",
       "      <td>0.000000e+00</td>\n",
       "      <td>0.000000e+00</td>\n",
       "      <td>9.200000e+02</td>\n",
       "      <td>...</td>\n",
       "      <td>8.460000e+02</td>\n",
       "      <td>0.000000e+00</td>\n",
       "      <td>5.000000e+00</td>\n",
       "      <td>0.000000e+00</td>\n",
       "      <td>2.000000e+00</td>\n",
       "      <td>0.000000e+00</td>\n",
       "      <td>0.000000e+00</td>\n",
       "      <td>0.000000e+00</td>\n",
       "      <td>0.000000e+00</td>\n",
       "      <td>0.000000e+00</td>\n",
       "    </tr>\n",
       "    <tr>\n",
       "      <th>50%</th>\n",
       "      <td>2.600000e+01</td>\n",
       "      <td>0.000000e+00</td>\n",
       "      <td>0.000000e+00</td>\n",
       "      <td>0.000000e+00</td>\n",
       "      <td>0.000000e+00</td>\n",
       "      <td>0.000000e+00</td>\n",
       "      <td>0.000000e+00</td>\n",
       "      <td>0.000000e+00</td>\n",
       "      <td>0.000000e+00</td>\n",
       "      <td>1.325000e+03</td>\n",
       "      <td>...</td>\n",
       "      <td>1.765000e+03</td>\n",
       "      <td>0.000000e+00</td>\n",
       "      <td>7.000000e+00</td>\n",
       "      <td>0.000000e+00</td>\n",
       "      <td>3.000000e+00</td>\n",
       "      <td>0.000000e+00</td>\n",
       "      <td>0.000000e+00</td>\n",
       "      <td>0.000000e+00</td>\n",
       "      <td>0.000000e+00</td>\n",
       "      <td>0.000000e+00</td>\n",
       "    </tr>\n",
       "    <tr>\n",
       "      <th>75%</th>\n",
       "      <td>3.800000e+01</td>\n",
       "      <td>0.000000e+00</td>\n",
       "      <td>0.000000e+00</td>\n",
       "      <td>0.000000e+00</td>\n",
       "      <td>0.000000e+00</td>\n",
       "      <td>0.000000e+00</td>\n",
       "      <td>0.000000e+00</td>\n",
       "      <td>0.000000e+00</td>\n",
       "      <td>0.000000e+00</td>\n",
       "      <td>1.735000e+03</td>\n",
       "      <td>...</td>\n",
       "      <td>3.083000e+03</td>\n",
       "      <td>0.000000e+00</td>\n",
       "      <td>1.000000e+01</td>\n",
       "      <td>0.000000e+00</td>\n",
       "      <td>4.000000e+00</td>\n",
       "      <td>0.000000e+00</td>\n",
       "      <td>0.000000e+00</td>\n",
       "      <td>1.000000e+00</td>\n",
       "      <td>0.000000e+00</td>\n",
       "      <td>0.000000e+00</td>\n",
       "    </tr>\n",
       "    <tr>\n",
       "      <th>max</th>\n",
       "      <td>1.073000e+03</td>\n",
       "      <td>8.230000e+02</td>\n",
       "      <td>1.626000e+03</td>\n",
       "      <td>1.000000e+00</td>\n",
       "      <td>1.000000e+00</td>\n",
       "      <td>1.000000e+00</td>\n",
       "      <td>1.000000e+00</td>\n",
       "      <td>1.000000e+00</td>\n",
       "      <td>1.810000e+03</td>\n",
       "      <td>2.359000e+03</td>\n",
       "      <td>...</td>\n",
       "      <td>7.439000e+03</td>\n",
       "      <td>1.756000e+03</td>\n",
       "      <td>1.200000e+01</td>\n",
       "      <td>1.605000e+03</td>\n",
       "      <td>4.000000e+00</td>\n",
       "      <td>8.270000e+02</td>\n",
       "      <td>1.587000e+03</td>\n",
       "      <td>1.000000e+00</td>\n",
       "      <td>1.000000e+00</td>\n",
       "      <td>1.000000e+00</td>\n",
       "    </tr>\n",
       "  </tbody>\n",
       "</table>\n",
       "<p>8 rows × 25 columns</p>\n",
       "</div>"
      ],
      "text/plain": [
       "       average_wind_speed      snowfall    snow_depth       thunder  \\\n",
       "count        4.666579e+06  4.666579e+06  4.666579e+06  4.666579e+06   \n",
       "mean         2.797055e+01  5.401027e-01  2.967996e+00  1.996743e-01   \n",
       "std          2.551131e+01  8.485501e+00  2.975954e+01  3.997556e-01   \n",
       "min          0.000000e+00  0.000000e+00  0.000000e+00  0.000000e+00   \n",
       "25%          1.500000e+01  0.000000e+00  0.000000e+00  0.000000e+00   \n",
       "50%          2.600000e+01  0.000000e+00  0.000000e+00  0.000000e+00   \n",
       "75%          3.800000e+01  0.000000e+00  0.000000e+00  0.000000e+00   \n",
       "max          1.073000e+03  8.230000e+02  1.626000e+03  1.000000e+00   \n",
       "\n",
       "               dust          haze          snow     cancelled  carrier_delay  \\\n",
       "count  4.666579e+06  4.666579e+06  4.666579e+06  4.666579e+06   4.666579e+06   \n",
       "mean   2.674550e-03  1.417231e-01  7.290137e-04  1.352640e-02   3.687214e+00   \n",
       "std    5.164685e-02  3.487659e-01  2.699041e-02  1.155138e-01   2.873237e+01   \n",
       "min    0.000000e+00  0.000000e+00  0.000000e+00  0.000000e+00   0.000000e+00   \n",
       "25%    0.000000e+00  0.000000e+00  0.000000e+00  0.000000e+00   0.000000e+00   \n",
       "50%    0.000000e+00  0.000000e+00  0.000000e+00  0.000000e+00   0.000000e+00   \n",
       "75%    0.000000e+00  0.000000e+00  0.000000e+00  0.000000e+00   0.000000e+00   \n",
       "max    1.000000e+00  1.000000e+00  1.000000e+00  1.000000e+00   1.810000e+03   \n",
       "\n",
       "       crs_dep_time      ...              fl_num  late_aircraft_delay  \\\n",
       "count  4.666579e+06      ...        4.666579e+06         4.666579e+06   \n",
       "mean   1.332838e+03      ...        2.222141e+03         4.380498e+00   \n",
       "std    4.901060e+02      ...        1.727191e+03         2.211855e+01   \n",
       "min    1.000000e+00      ...        1.000000e+00         0.000000e+00   \n",
       "25%    9.200000e+02      ...        8.460000e+02         0.000000e+00   \n",
       "50%    1.325000e+03      ...        1.765000e+03         0.000000e+00   \n",
       "75%    1.735000e+03      ...        3.083000e+03         0.000000e+00   \n",
       "max    2.359000e+03      ...        7.439000e+03         1.756000e+03   \n",
       "\n",
       "              month     nas_delay       quarter  security_delay  \\\n",
       "count  4.666579e+06  4.666579e+06  4.666579e+06    4.666579e+06   \n",
       "mean   7.430768e+00  2.367079e+00  2.778629e+00    1.760090e-02   \n",
       "std    2.861298e+00  1.517216e+01  9.802593e-01    1.434897e+00   \n",
       "min    3.000000e+00  0.000000e+00  1.000000e+00    0.000000e+00   \n",
       "25%    5.000000e+00  0.000000e+00  2.000000e+00    0.000000e+00   \n",
       "50%    7.000000e+00  0.000000e+00  3.000000e+00    0.000000e+00   \n",
       "75%    1.000000e+01  0.000000e+00  4.000000e+00    0.000000e+00   \n",
       "max    1.200000e+01  1.605000e+03  4.000000e+00    8.270000e+02   \n",
       "\n",
       "       weather_delay           fog          hail  damaging_wind  \n",
       "count   4.666579e+06  4.666579e+06  4.666579e+06   4.666579e+06  \n",
       "mean    4.958002e-01  3.588335e-01  5.467817e-03   4.311938e-03  \n",
       "std     1.065670e+01  4.796583e-01  7.374226e-02   6.552363e-02  \n",
       "min     0.000000e+00  0.000000e+00  0.000000e+00   0.000000e+00  \n",
       "25%     0.000000e+00  0.000000e+00  0.000000e+00   0.000000e+00  \n",
       "50%     0.000000e+00  0.000000e+00  0.000000e+00   0.000000e+00  \n",
       "75%     0.000000e+00  1.000000e+00  0.000000e+00   0.000000e+00  \n",
       "max     1.587000e+03  1.000000e+00  1.000000e+00   1.000000e+00  \n",
       "\n",
       "[8 rows x 25 columns]"
      ]
     },
     "execution_count": 38,
     "metadata": {},
     "output_type": "execute_result"
    }
   ],
   "source": [
    "data.describe()"
   ]
  },
  {
   "cell_type": "markdown",
   "metadata": {},
   "source": [
    "Correlations"
   ]
  },
  {
   "cell_type": "code",
   "execution_count": 39,
   "metadata": {},
   "outputs": [
    {
     "data": {
      "text/html": [
       "<div>\n",
       "<style scoped>\n",
       "    .dataframe tbody tr th:only-of-type {\n",
       "        vertical-align: middle;\n",
       "    }\n",
       "\n",
       "    .dataframe tbody tr th {\n",
       "        vertical-align: top;\n",
       "    }\n",
       "\n",
       "    .dataframe thead th {\n",
       "        text-align: right;\n",
       "    }\n",
       "</style>\n",
       "<table border=\"1\" class=\"dataframe\">\n",
       "  <thead>\n",
       "    <tr style=\"text-align: right;\">\n",
       "      <th></th>\n",
       "      <th>average_wind_speed</th>\n",
       "      <th>snowfall</th>\n",
       "      <th>snow_depth</th>\n",
       "      <th>thunder</th>\n",
       "      <th>dust</th>\n",
       "      <th>haze</th>\n",
       "      <th>snow</th>\n",
       "      <th>cancelled</th>\n",
       "      <th>carrier_delay</th>\n",
       "      <th>crs_dep_time</th>\n",
       "      <th>...</th>\n",
       "      <th>fl_num</th>\n",
       "      <th>late_aircraft_delay</th>\n",
       "      <th>month</th>\n",
       "      <th>nas_delay</th>\n",
       "      <th>quarter</th>\n",
       "      <th>security_delay</th>\n",
       "      <th>weather_delay</th>\n",
       "      <th>fog</th>\n",
       "      <th>hail</th>\n",
       "      <th>damaging_wind</th>\n",
       "    </tr>\n",
       "  </thead>\n",
       "  <tbody>\n",
       "    <tr>\n",
       "      <th>average_wind_speed</th>\n",
       "      <td>1.000000</td>\n",
       "      <td>0.020475</td>\n",
       "      <td>0.003610</td>\n",
       "      <td>0.016132</td>\n",
       "      <td>0.024853</td>\n",
       "      <td>0.015841</td>\n",
       "      <td>0.027020</td>\n",
       "      <td>0.045726</td>\n",
       "      <td>0.004003</td>\n",
       "      <td>-0.003864</td>\n",
       "      <td>...</td>\n",
       "      <td>-0.003611</td>\n",
       "      <td>0.006299</td>\n",
       "      <td>-0.099981</td>\n",
       "      <td>0.005490</td>\n",
       "      <td>-0.095455</td>\n",
       "      <td>-0.001895</td>\n",
       "      <td>0.003766</td>\n",
       "      <td>0.013802</td>\n",
       "      <td>0.035896</td>\n",
       "      <td>0.010429</td>\n",
       "    </tr>\n",
       "    <tr>\n",
       "      <th>snowfall</th>\n",
       "      <td>0.020475</td>\n",
       "      <td>1.000000</td>\n",
       "      <td>0.398069</td>\n",
       "      <td>-0.029398</td>\n",
       "      <td>-0.003262</td>\n",
       "      <td>0.005742</td>\n",
       "      <td>0.117315</td>\n",
       "      <td>0.037992</td>\n",
       "      <td>0.005786</td>\n",
       "      <td>-0.000082</td>\n",
       "      <td>...</td>\n",
       "      <td>0.013806</td>\n",
       "      <td>0.006976</td>\n",
       "      <td>0.014339</td>\n",
       "      <td>0.008094</td>\n",
       "      <td>0.001422</td>\n",
       "      <td>0.000196</td>\n",
       "      <td>0.011704</td>\n",
       "      <td>0.031742</td>\n",
       "      <td>0.029591</td>\n",
       "      <td>-0.002844</td>\n",
       "    </tr>\n",
       "    <tr>\n",
       "      <th>snow_depth</th>\n",
       "      <td>0.003610</td>\n",
       "      <td>0.398069</td>\n",
       "      <td>1.000000</td>\n",
       "      <td>-0.048602</td>\n",
       "      <td>-0.005116</td>\n",
       "      <td>-0.008279</td>\n",
       "      <td>0.059578</td>\n",
       "      <td>0.007379</td>\n",
       "      <td>0.002162</td>\n",
       "      <td>0.004208</td>\n",
       "      <td>...</td>\n",
       "      <td>-0.003125</td>\n",
       "      <td>0.000601</td>\n",
       "      <td>-0.005430</td>\n",
       "      <td>0.001638</td>\n",
       "      <td>-0.025987</td>\n",
       "      <td>0.001629</td>\n",
       "      <td>0.005594</td>\n",
       "      <td>-0.000810</td>\n",
       "      <td>0.016864</td>\n",
       "      <td>-0.003448</td>\n",
       "    </tr>\n",
       "    <tr>\n",
       "      <th>thunder</th>\n",
       "      <td>0.016132</td>\n",
       "      <td>-0.029398</td>\n",
       "      <td>-0.048602</td>\n",
       "      <td>1.000000</td>\n",
       "      <td>0.034769</td>\n",
       "      <td>0.116344</td>\n",
       "      <td>-0.013412</td>\n",
       "      <td>0.015514</td>\n",
       "      <td>0.019167</td>\n",
       "      <td>-0.001374</td>\n",
       "      <td>...</td>\n",
       "      <td>-0.022956</td>\n",
       "      <td>0.050081</td>\n",
       "      <td>-0.125450</td>\n",
       "      <td>0.057899</td>\n",
       "      <td>-0.099691</td>\n",
       "      <td>0.000153</td>\n",
       "      <td>0.025595</td>\n",
       "      <td>0.351190</td>\n",
       "      <td>0.067620</td>\n",
       "      <td>0.049227</td>\n",
       "    </tr>\n",
       "    <tr>\n",
       "      <th>dust</th>\n",
       "      <td>0.024853</td>\n",
       "      <td>-0.003262</td>\n",
       "      <td>-0.005116</td>\n",
       "      <td>0.034769</td>\n",
       "      <td>1.000000</td>\n",
       "      <td>0.120741</td>\n",
       "      <td>-0.000476</td>\n",
       "      <td>0.001264</td>\n",
       "      <td>0.000590</td>\n",
       "      <td>0.001411</td>\n",
       "      <td>...</td>\n",
       "      <td>-0.000131</td>\n",
       "      <td>0.007047</td>\n",
       "      <td>-0.003034</td>\n",
       "      <td>0.007999</td>\n",
       "      <td>0.002658</td>\n",
       "      <td>-0.000366</td>\n",
       "      <td>0.006133</td>\n",
       "      <td>-0.021051</td>\n",
       "      <td>-0.002883</td>\n",
       "      <td>0.004001</td>\n",
       "    </tr>\n",
       "    <tr>\n",
       "      <th>haze</th>\n",
       "      <td>0.015841</td>\n",
       "      <td>0.005742</td>\n",
       "      <td>-0.008279</td>\n",
       "      <td>0.116344</td>\n",
       "      <td>0.120741</td>\n",
       "      <td>1.000000</td>\n",
       "      <td>0.012176</td>\n",
       "      <td>0.006990</td>\n",
       "      <td>0.005336</td>\n",
       "      <td>-0.002471</td>\n",
       "      <td>...</td>\n",
       "      <td>-0.001689</td>\n",
       "      <td>0.011300</td>\n",
       "      <td>0.004419</td>\n",
       "      <td>0.017414</td>\n",
       "      <td>0.006345</td>\n",
       "      <td>0.000224</td>\n",
       "      <td>0.008736</td>\n",
       "      <td>0.231572</td>\n",
       "      <td>0.002873</td>\n",
       "      <td>0.000387</td>\n",
       "    </tr>\n",
       "    <tr>\n",
       "      <th>snow</th>\n",
       "      <td>0.027020</td>\n",
       "      <td>0.117315</td>\n",
       "      <td>0.059578</td>\n",
       "      <td>-0.013412</td>\n",
       "      <td>-0.000476</td>\n",
       "      <td>0.012176</td>\n",
       "      <td>1.000000</td>\n",
       "      <td>0.015532</td>\n",
       "      <td>0.003221</td>\n",
       "      <td>-0.000096</td>\n",
       "      <td>...</td>\n",
       "      <td>0.013880</td>\n",
       "      <td>0.004567</td>\n",
       "      <td>-0.004094</td>\n",
       "      <td>0.006759</td>\n",
       "      <td>-0.011792</td>\n",
       "      <td>0.000892</td>\n",
       "      <td>0.008752</td>\n",
       "      <td>0.031189</td>\n",
       "      <td>0.004027</td>\n",
       "      <td>0.001858</td>\n",
       "    </tr>\n",
       "    <tr>\n",
       "      <th>cancelled</th>\n",
       "      <td>0.045726</td>\n",
       "      <td>0.037992</td>\n",
       "      <td>0.007379</td>\n",
       "      <td>0.015514</td>\n",
       "      <td>0.001264</td>\n",
       "      <td>0.006990</td>\n",
       "      <td>0.015532</td>\n",
       "      <td>1.000000</td>\n",
       "      <td>-0.015027</td>\n",
       "      <td>0.012305</td>\n",
       "      <td>...</td>\n",
       "      <td>-0.001015</td>\n",
       "      <td>-0.023191</td>\n",
       "      <td>-0.001103</td>\n",
       "      <td>-0.018269</td>\n",
       "      <td>-0.009463</td>\n",
       "      <td>-0.001436</td>\n",
       "      <td>-0.005448</td>\n",
       "      <td>0.031566</td>\n",
       "      <td>0.000550</td>\n",
       "      <td>0.013245</td>\n",
       "    </tr>\n",
       "    <tr>\n",
       "      <th>carrier_delay</th>\n",
       "      <td>0.004003</td>\n",
       "      <td>0.005786</td>\n",
       "      <td>0.002162</td>\n",
       "      <td>0.019167</td>\n",
       "      <td>0.000590</td>\n",
       "      <td>0.005336</td>\n",
       "      <td>0.003221</td>\n",
       "      <td>-0.015027</td>\n",
       "      <td>1.000000</td>\n",
       "      <td>0.014480</td>\n",
       "      <td>...</td>\n",
       "      <td>0.019843</td>\n",
       "      <td>0.051375</td>\n",
       "      <td>-0.013335</td>\n",
       "      <td>0.020539</td>\n",
       "      <td>-0.011813</td>\n",
       "      <td>-0.000749</td>\n",
       "      <td>-0.002219</td>\n",
       "      <td>0.012001</td>\n",
       "      <td>0.001725</td>\n",
       "      <td>0.000672</td>\n",
       "    </tr>\n",
       "    <tr>\n",
       "      <th>crs_dep_time</th>\n",
       "      <td>-0.003864</td>\n",
       "      <td>-0.000082</td>\n",
       "      <td>0.004208</td>\n",
       "      <td>-0.001374</td>\n",
       "      <td>0.001411</td>\n",
       "      <td>-0.002471</td>\n",
       "      <td>-0.000096</td>\n",
       "      <td>0.012305</td>\n",
       "      <td>0.014480</td>\n",
       "      <td>1.000000</td>\n",
       "      <td>...</td>\n",
       "      <td>0.025200</td>\n",
       "      <td>0.108690</td>\n",
       "      <td>-0.002847</td>\n",
       "      <td>0.028504</td>\n",
       "      <td>-0.003176</td>\n",
       "      <td>0.002960</td>\n",
       "      <td>0.014277</td>\n",
       "      <td>-0.001334</td>\n",
       "      <td>0.001102</td>\n",
       "      <td>0.002236</td>\n",
       "    </tr>\n",
       "    <tr>\n",
       "      <th>crs_elapsed_time</th>\n",
       "      <td>-0.011536</td>\n",
       "      <td>-0.003083</td>\n",
       "      <td>0.010464</td>\n",
       "      <td>0.002873</td>\n",
       "      <td>0.008636</td>\n",
       "      <td>-0.002453</td>\n",
       "      <td>-0.004403</td>\n",
       "      <td>-0.008199</td>\n",
       "      <td>0.004603</td>\n",
       "      <td>-0.008773</td>\n",
       "      <td>...</td>\n",
       "      <td>-0.232734</td>\n",
       "      <td>-0.008246</td>\n",
       "      <td>0.005324</td>\n",
       "      <td>0.029100</td>\n",
       "      <td>0.002623</td>\n",
       "      <td>0.004494</td>\n",
       "      <td>-0.002192</td>\n",
       "      <td>-0.031938</td>\n",
       "      <td>-0.009529</td>\n",
       "      <td>0.001658</td>\n",
       "    </tr>\n",
       "    <tr>\n",
       "      <th>day_of_month</th>\n",
       "      <td>-0.012486</td>\n",
       "      <td>-0.008940</td>\n",
       "      <td>0.010546</td>\n",
       "      <td>-0.023774</td>\n",
       "      <td>0.005764</td>\n",
       "      <td>0.005328</td>\n",
       "      <td>-0.004809</td>\n",
       "      <td>-0.031726</td>\n",
       "      <td>-0.002518</td>\n",
       "      <td>0.001139</td>\n",
       "      <td>...</td>\n",
       "      <td>0.011224</td>\n",
       "      <td>-0.007490</td>\n",
       "      <td>-0.002359</td>\n",
       "      <td>-0.010741</td>\n",
       "      <td>-0.002668</td>\n",
       "      <td>-0.001507</td>\n",
       "      <td>-0.013905</td>\n",
       "      <td>-0.008319</td>\n",
       "      <td>0.014782</td>\n",
       "      <td>0.002578</td>\n",
       "    </tr>\n",
       "    <tr>\n",
       "      <th>day_of_week</th>\n",
       "      <td>-0.000092</td>\n",
       "      <td>0.007199</td>\n",
       "      <td>0.010485</td>\n",
       "      <td>-0.018081</td>\n",
       "      <td>0.014315</td>\n",
       "      <td>-0.031702</td>\n",
       "      <td>0.006666</td>\n",
       "      <td>-0.006468</td>\n",
       "      <td>0.003429</td>\n",
       "      <td>0.006774</td>\n",
       "      <td>...</td>\n",
       "      <td>0.069527</td>\n",
       "      <td>-0.004152</td>\n",
       "      <td>0.008277</td>\n",
       "      <td>-0.007645</td>\n",
       "      <td>0.006216</td>\n",
       "      <td>0.002525</td>\n",
       "      <td>-0.001549</td>\n",
       "      <td>-0.021787</td>\n",
       "      <td>-0.006145</td>\n",
       "      <td>-0.011013</td>\n",
       "    </tr>\n",
       "    <tr>\n",
       "      <th>dep_delay_new</th>\n",
       "      <td>0.006194</td>\n",
       "      <td>0.010890</td>\n",
       "      <td>0.002347</td>\n",
       "      <td>0.057673</td>\n",
       "      <td>0.007348</td>\n",
       "      <td>0.014919</td>\n",
       "      <td>0.006975</td>\n",
       "      <td>-0.027570</td>\n",
       "      <td>0.713772</td>\n",
       "      <td>0.095354</td>\n",
       "      <td>...</td>\n",
       "      <td>0.019646</td>\n",
       "      <td>0.586329</td>\n",
       "      <td>-0.032136</td>\n",
       "      <td>0.314087</td>\n",
       "      <td>-0.028414</td>\n",
       "      <td>0.036001</td>\n",
       "      <td>0.263170</td>\n",
       "      <td>0.033324</td>\n",
       "      <td>0.002016</td>\n",
       "      <td>0.003780</td>\n",
       "    </tr>\n",
       "    <tr>\n",
       "      <th>diverted</th>\n",
       "      <td>0.001986</td>\n",
       "      <td>0.001776</td>\n",
       "      <td>0.002002</td>\n",
       "      <td>0.023021</td>\n",
       "      <td>0.008691</td>\n",
       "      <td>0.010322</td>\n",
       "      <td>0.001799</td>\n",
       "      <td>-0.004679</td>\n",
       "      <td>-0.005763</td>\n",
       "      <td>0.002345</td>\n",
       "      <td>...</td>\n",
       "      <td>0.003570</td>\n",
       "      <td>-0.008894</td>\n",
       "      <td>-0.004194</td>\n",
       "      <td>-0.007006</td>\n",
       "      <td>-0.003555</td>\n",
       "      <td>-0.000551</td>\n",
       "      <td>-0.002089</td>\n",
       "      <td>0.016446</td>\n",
       "      <td>0.002700</td>\n",
       "      <td>0.000547</td>\n",
       "    </tr>\n",
       "    <tr>\n",
       "      <th>fl_num</th>\n",
       "      <td>-0.003611</td>\n",
       "      <td>0.013806</td>\n",
       "      <td>-0.003125</td>\n",
       "      <td>-0.022956</td>\n",
       "      <td>-0.000131</td>\n",
       "      <td>-0.001689</td>\n",
       "      <td>0.013880</td>\n",
       "      <td>-0.001015</td>\n",
       "      <td>0.019843</td>\n",
       "      <td>0.025200</td>\n",
       "      <td>...</td>\n",
       "      <td>1.000000</td>\n",
       "      <td>0.019832</td>\n",
       "      <td>0.016676</td>\n",
       "      <td>-0.013081</td>\n",
       "      <td>0.016038</td>\n",
       "      <td>-0.002198</td>\n",
       "      <td>-0.000875</td>\n",
       "      <td>-0.002373</td>\n",
       "      <td>0.018302</td>\n",
       "      <td>0.002903</td>\n",
       "    </tr>\n",
       "    <tr>\n",
       "      <th>late_aircraft_delay</th>\n",
       "      <td>0.006299</td>\n",
       "      <td>0.006976</td>\n",
       "      <td>0.000601</td>\n",
       "      <td>0.050081</td>\n",
       "      <td>0.007047</td>\n",
       "      <td>0.011300</td>\n",
       "      <td>0.004567</td>\n",
       "      <td>-0.023191</td>\n",
       "      <td>0.051375</td>\n",
       "      <td>0.108690</td>\n",
       "      <td>...</td>\n",
       "      <td>0.019832</td>\n",
       "      <td>1.000000</td>\n",
       "      <td>-0.030544</td>\n",
       "      <td>0.045665</td>\n",
       "      <td>-0.027284</td>\n",
       "      <td>0.003942</td>\n",
       "      <td>0.023356</td>\n",
       "      <td>0.026625</td>\n",
       "      <td>0.001386</td>\n",
       "      <td>0.004115</td>\n",
       "    </tr>\n",
       "    <tr>\n",
       "      <th>month</th>\n",
       "      <td>-0.099981</td>\n",
       "      <td>0.014339</td>\n",
       "      <td>-0.005430</td>\n",
       "      <td>-0.125450</td>\n",
       "      <td>-0.003034</td>\n",
       "      <td>0.004419</td>\n",
       "      <td>-0.004094</td>\n",
       "      <td>-0.001103</td>\n",
       "      <td>-0.013335</td>\n",
       "      <td>-0.002847</td>\n",
       "      <td>...</td>\n",
       "      <td>0.016676</td>\n",
       "      <td>-0.030544</td>\n",
       "      <td>1.000000</td>\n",
       "      <td>-0.023856</td>\n",
       "      <td>0.959306</td>\n",
       "      <td>0.005550</td>\n",
       "      <td>-0.005821</td>\n",
       "      <td>0.013733</td>\n",
       "      <td>-0.035558</td>\n",
       "      <td>-0.000927</td>\n",
       "    </tr>\n",
       "    <tr>\n",
       "      <th>nas_delay</th>\n",
       "      <td>0.005490</td>\n",
       "      <td>0.008094</td>\n",
       "      <td>0.001638</td>\n",
       "      <td>0.057899</td>\n",
       "      <td>0.007999</td>\n",
       "      <td>0.017414</td>\n",
       "      <td>0.006759</td>\n",
       "      <td>-0.018269</td>\n",
       "      <td>0.020539</td>\n",
       "      <td>0.028504</td>\n",
       "      <td>...</td>\n",
       "      <td>-0.013081</td>\n",
       "      <td>0.045665</td>\n",
       "      <td>-0.023856</td>\n",
       "      <td>1.000000</td>\n",
       "      <td>-0.021845</td>\n",
       "      <td>0.002055</td>\n",
       "      <td>0.027320</td>\n",
       "      <td>0.036793</td>\n",
       "      <td>0.002047</td>\n",
       "      <td>0.002187</td>\n",
       "    </tr>\n",
       "    <tr>\n",
       "      <th>quarter</th>\n",
       "      <td>-0.095455</td>\n",
       "      <td>0.001422</td>\n",
       "      <td>-0.025987</td>\n",
       "      <td>-0.099691</td>\n",
       "      <td>0.002658</td>\n",
       "      <td>0.006345</td>\n",
       "      <td>-0.011792</td>\n",
       "      <td>-0.009463</td>\n",
       "      <td>-0.011813</td>\n",
       "      <td>-0.003176</td>\n",
       "      <td>...</td>\n",
       "      <td>0.016038</td>\n",
       "      <td>-0.027284</td>\n",
       "      <td>0.959306</td>\n",
       "      <td>-0.021845</td>\n",
       "      <td>1.000000</td>\n",
       "      <td>0.005331</td>\n",
       "      <td>-0.004650</td>\n",
       "      <td>0.014101</td>\n",
       "      <td>-0.034173</td>\n",
       "      <td>0.000202</td>\n",
       "    </tr>\n",
       "    <tr>\n",
       "      <th>security_delay</th>\n",
       "      <td>-0.001895</td>\n",
       "      <td>0.000196</td>\n",
       "      <td>0.001629</td>\n",
       "      <td>0.000153</td>\n",
       "      <td>-0.000366</td>\n",
       "      <td>0.000224</td>\n",
       "      <td>0.000892</td>\n",
       "      <td>-0.001436</td>\n",
       "      <td>-0.000749</td>\n",
       "      <td>0.002960</td>\n",
       "      <td>...</td>\n",
       "      <td>-0.002198</td>\n",
       "      <td>0.003942</td>\n",
       "      <td>0.005550</td>\n",
       "      <td>0.002055</td>\n",
       "      <td>0.005331</td>\n",
       "      <td>1.000000</td>\n",
       "      <td>-0.000539</td>\n",
       "      <td>0.002498</td>\n",
       "      <td>-0.000162</td>\n",
       "      <td>-0.000039</td>\n",
       "    </tr>\n",
       "    <tr>\n",
       "      <th>weather_delay</th>\n",
       "      <td>0.003766</td>\n",
       "      <td>0.011704</td>\n",
       "      <td>0.005594</td>\n",
       "      <td>0.025595</td>\n",
       "      <td>0.006133</td>\n",
       "      <td>0.008736</td>\n",
       "      <td>0.008752</td>\n",
       "      <td>-0.005448</td>\n",
       "      <td>-0.002219</td>\n",
       "      <td>0.014277</td>\n",
       "      <td>...</td>\n",
       "      <td>-0.000875</td>\n",
       "      <td>0.023356</td>\n",
       "      <td>-0.005821</td>\n",
       "      <td>0.027320</td>\n",
       "      <td>-0.004650</td>\n",
       "      <td>-0.000539</td>\n",
       "      <td>1.000000</td>\n",
       "      <td>0.017281</td>\n",
       "      <td>0.002022</td>\n",
       "      <td>0.001153</td>\n",
       "    </tr>\n",
       "    <tr>\n",
       "      <th>fog</th>\n",
       "      <td>0.013802</td>\n",
       "      <td>0.031742</td>\n",
       "      <td>-0.000810</td>\n",
       "      <td>0.351190</td>\n",
       "      <td>-0.021051</td>\n",
       "      <td>0.231572</td>\n",
       "      <td>0.031189</td>\n",
       "      <td>0.031566</td>\n",
       "      <td>0.012001</td>\n",
       "      <td>-0.001334</td>\n",
       "      <td>...</td>\n",
       "      <td>-0.002373</td>\n",
       "      <td>0.026625</td>\n",
       "      <td>0.013733</td>\n",
       "      <td>0.036793</td>\n",
       "      <td>0.014101</td>\n",
       "      <td>0.002498</td>\n",
       "      <td>0.017281</td>\n",
       "      <td>1.000000</td>\n",
       "      <td>0.049812</td>\n",
       "      <td>0.003754</td>\n",
       "    </tr>\n",
       "    <tr>\n",
       "      <th>hail</th>\n",
       "      <td>0.035896</td>\n",
       "      <td>0.029591</td>\n",
       "      <td>0.016864</td>\n",
       "      <td>0.067620</td>\n",
       "      <td>-0.002883</td>\n",
       "      <td>0.002873</td>\n",
       "      <td>0.004027</td>\n",
       "      <td>0.000550</td>\n",
       "      <td>0.001725</td>\n",
       "      <td>0.001102</td>\n",
       "      <td>...</td>\n",
       "      <td>0.018302</td>\n",
       "      <td>0.001386</td>\n",
       "      <td>-0.035558</td>\n",
       "      <td>0.002047</td>\n",
       "      <td>-0.034173</td>\n",
       "      <td>-0.000162</td>\n",
       "      <td>0.002022</td>\n",
       "      <td>0.049812</td>\n",
       "      <td>1.000000</td>\n",
       "      <td>0.040135</td>\n",
       "    </tr>\n",
       "    <tr>\n",
       "      <th>damaging_wind</th>\n",
       "      <td>0.010429</td>\n",
       "      <td>-0.002844</td>\n",
       "      <td>-0.003448</td>\n",
       "      <td>0.049227</td>\n",
       "      <td>0.004001</td>\n",
       "      <td>0.000387</td>\n",
       "      <td>0.001858</td>\n",
       "      <td>0.013245</td>\n",
       "      <td>0.000672</td>\n",
       "      <td>0.002236</td>\n",
       "      <td>...</td>\n",
       "      <td>0.002903</td>\n",
       "      <td>0.004115</td>\n",
       "      <td>-0.000927</td>\n",
       "      <td>0.002187</td>\n",
       "      <td>0.000202</td>\n",
       "      <td>-0.000039</td>\n",
       "      <td>0.001153</td>\n",
       "      <td>0.003754</td>\n",
       "      <td>0.040135</td>\n",
       "      <td>1.000000</td>\n",
       "    </tr>\n",
       "  </tbody>\n",
       "</table>\n",
       "<p>25 rows × 25 columns</p>\n",
       "</div>"
      ],
      "text/plain": [
       "                     average_wind_speed  snowfall  snow_depth   thunder  \\\n",
       "average_wind_speed             1.000000  0.020475    0.003610  0.016132   \n",
       "snowfall                       0.020475  1.000000    0.398069 -0.029398   \n",
       "snow_depth                     0.003610  0.398069    1.000000 -0.048602   \n",
       "thunder                        0.016132 -0.029398   -0.048602  1.000000   \n",
       "dust                           0.024853 -0.003262   -0.005116  0.034769   \n",
       "haze                           0.015841  0.005742   -0.008279  0.116344   \n",
       "snow                           0.027020  0.117315    0.059578 -0.013412   \n",
       "cancelled                      0.045726  0.037992    0.007379  0.015514   \n",
       "carrier_delay                  0.004003  0.005786    0.002162  0.019167   \n",
       "crs_dep_time                  -0.003864 -0.000082    0.004208 -0.001374   \n",
       "crs_elapsed_time              -0.011536 -0.003083    0.010464  0.002873   \n",
       "day_of_month                  -0.012486 -0.008940    0.010546 -0.023774   \n",
       "day_of_week                   -0.000092  0.007199    0.010485 -0.018081   \n",
       "dep_delay_new                  0.006194  0.010890    0.002347  0.057673   \n",
       "diverted                       0.001986  0.001776    0.002002  0.023021   \n",
       "fl_num                        -0.003611  0.013806   -0.003125 -0.022956   \n",
       "late_aircraft_delay            0.006299  0.006976    0.000601  0.050081   \n",
       "month                         -0.099981  0.014339   -0.005430 -0.125450   \n",
       "nas_delay                      0.005490  0.008094    0.001638  0.057899   \n",
       "quarter                       -0.095455  0.001422   -0.025987 -0.099691   \n",
       "security_delay                -0.001895  0.000196    0.001629  0.000153   \n",
       "weather_delay                  0.003766  0.011704    0.005594  0.025595   \n",
       "fog                            0.013802  0.031742   -0.000810  0.351190   \n",
       "hail                           0.035896  0.029591    0.016864  0.067620   \n",
       "damaging_wind                  0.010429 -0.002844   -0.003448  0.049227   \n",
       "\n",
       "                         dust      haze      snow  cancelled  carrier_delay  \\\n",
       "average_wind_speed   0.024853  0.015841  0.027020   0.045726       0.004003   \n",
       "snowfall            -0.003262  0.005742  0.117315   0.037992       0.005786   \n",
       "snow_depth          -0.005116 -0.008279  0.059578   0.007379       0.002162   \n",
       "thunder              0.034769  0.116344 -0.013412   0.015514       0.019167   \n",
       "dust                 1.000000  0.120741 -0.000476   0.001264       0.000590   \n",
       "haze                 0.120741  1.000000  0.012176   0.006990       0.005336   \n",
       "snow                -0.000476  0.012176  1.000000   0.015532       0.003221   \n",
       "cancelled            0.001264  0.006990  0.015532   1.000000      -0.015027   \n",
       "carrier_delay        0.000590  0.005336  0.003221  -0.015027       1.000000   \n",
       "crs_dep_time         0.001411 -0.002471 -0.000096   0.012305       0.014480   \n",
       "crs_elapsed_time     0.008636 -0.002453 -0.004403  -0.008199       0.004603   \n",
       "day_of_month         0.005764  0.005328 -0.004809  -0.031726      -0.002518   \n",
       "day_of_week          0.014315 -0.031702  0.006666  -0.006468       0.003429   \n",
       "dep_delay_new        0.007348  0.014919  0.006975  -0.027570       0.713772   \n",
       "diverted             0.008691  0.010322  0.001799  -0.004679      -0.005763   \n",
       "fl_num              -0.000131 -0.001689  0.013880  -0.001015       0.019843   \n",
       "late_aircraft_delay  0.007047  0.011300  0.004567  -0.023191       0.051375   \n",
       "month               -0.003034  0.004419 -0.004094  -0.001103      -0.013335   \n",
       "nas_delay            0.007999  0.017414  0.006759  -0.018269       0.020539   \n",
       "quarter              0.002658  0.006345 -0.011792  -0.009463      -0.011813   \n",
       "security_delay      -0.000366  0.000224  0.000892  -0.001436      -0.000749   \n",
       "weather_delay        0.006133  0.008736  0.008752  -0.005448      -0.002219   \n",
       "fog                 -0.021051  0.231572  0.031189   0.031566       0.012001   \n",
       "hail                -0.002883  0.002873  0.004027   0.000550       0.001725   \n",
       "damaging_wind        0.004001  0.000387  0.001858   0.013245       0.000672   \n",
       "\n",
       "                     crs_dep_time      ...          fl_num  \\\n",
       "average_wind_speed      -0.003864      ...       -0.003611   \n",
       "snowfall                -0.000082      ...        0.013806   \n",
       "snow_depth               0.004208      ...       -0.003125   \n",
       "thunder                 -0.001374      ...       -0.022956   \n",
       "dust                     0.001411      ...       -0.000131   \n",
       "haze                    -0.002471      ...       -0.001689   \n",
       "snow                    -0.000096      ...        0.013880   \n",
       "cancelled                0.012305      ...       -0.001015   \n",
       "carrier_delay            0.014480      ...        0.019843   \n",
       "crs_dep_time             1.000000      ...        0.025200   \n",
       "crs_elapsed_time        -0.008773      ...       -0.232734   \n",
       "day_of_month             0.001139      ...        0.011224   \n",
       "day_of_week              0.006774      ...        0.069527   \n",
       "dep_delay_new            0.095354      ...        0.019646   \n",
       "diverted                 0.002345      ...        0.003570   \n",
       "fl_num                   0.025200      ...        1.000000   \n",
       "late_aircraft_delay      0.108690      ...        0.019832   \n",
       "month                   -0.002847      ...        0.016676   \n",
       "nas_delay                0.028504      ...       -0.013081   \n",
       "quarter                 -0.003176      ...        0.016038   \n",
       "security_delay           0.002960      ...       -0.002198   \n",
       "weather_delay            0.014277      ...       -0.000875   \n",
       "fog                     -0.001334      ...       -0.002373   \n",
       "hail                     0.001102      ...        0.018302   \n",
       "damaging_wind            0.002236      ...        0.002903   \n",
       "\n",
       "                     late_aircraft_delay     month  nas_delay   quarter  \\\n",
       "average_wind_speed              0.006299 -0.099981   0.005490 -0.095455   \n",
       "snowfall                        0.006976  0.014339   0.008094  0.001422   \n",
       "snow_depth                      0.000601 -0.005430   0.001638 -0.025987   \n",
       "thunder                         0.050081 -0.125450   0.057899 -0.099691   \n",
       "dust                            0.007047 -0.003034   0.007999  0.002658   \n",
       "haze                            0.011300  0.004419   0.017414  0.006345   \n",
       "snow                            0.004567 -0.004094   0.006759 -0.011792   \n",
       "cancelled                      -0.023191 -0.001103  -0.018269 -0.009463   \n",
       "carrier_delay                   0.051375 -0.013335   0.020539 -0.011813   \n",
       "crs_dep_time                    0.108690 -0.002847   0.028504 -0.003176   \n",
       "crs_elapsed_time               -0.008246  0.005324   0.029100  0.002623   \n",
       "day_of_month                   -0.007490 -0.002359  -0.010741 -0.002668   \n",
       "day_of_week                    -0.004152  0.008277  -0.007645  0.006216   \n",
       "dep_delay_new                   0.586329 -0.032136   0.314087 -0.028414   \n",
       "diverted                       -0.008894 -0.004194  -0.007006 -0.003555   \n",
       "fl_num                          0.019832  0.016676  -0.013081  0.016038   \n",
       "late_aircraft_delay             1.000000 -0.030544   0.045665 -0.027284   \n",
       "month                          -0.030544  1.000000  -0.023856  0.959306   \n",
       "nas_delay                       0.045665 -0.023856   1.000000 -0.021845   \n",
       "quarter                        -0.027284  0.959306  -0.021845  1.000000   \n",
       "security_delay                  0.003942  0.005550   0.002055  0.005331   \n",
       "weather_delay                   0.023356 -0.005821   0.027320 -0.004650   \n",
       "fog                             0.026625  0.013733   0.036793  0.014101   \n",
       "hail                            0.001386 -0.035558   0.002047 -0.034173   \n",
       "damaging_wind                   0.004115 -0.000927   0.002187  0.000202   \n",
       "\n",
       "                     security_delay  weather_delay       fog      hail  \\\n",
       "average_wind_speed        -0.001895       0.003766  0.013802  0.035896   \n",
       "snowfall                   0.000196       0.011704  0.031742  0.029591   \n",
       "snow_depth                 0.001629       0.005594 -0.000810  0.016864   \n",
       "thunder                    0.000153       0.025595  0.351190  0.067620   \n",
       "dust                      -0.000366       0.006133 -0.021051 -0.002883   \n",
       "haze                       0.000224       0.008736  0.231572  0.002873   \n",
       "snow                       0.000892       0.008752  0.031189  0.004027   \n",
       "cancelled                 -0.001436      -0.005448  0.031566  0.000550   \n",
       "carrier_delay             -0.000749      -0.002219  0.012001  0.001725   \n",
       "crs_dep_time               0.002960       0.014277 -0.001334  0.001102   \n",
       "crs_elapsed_time           0.004494      -0.002192 -0.031938 -0.009529   \n",
       "day_of_month              -0.001507      -0.013905 -0.008319  0.014782   \n",
       "day_of_week                0.002525      -0.001549 -0.021787 -0.006145   \n",
       "dep_delay_new              0.036001       0.263170  0.033324  0.002016   \n",
       "diverted                  -0.000551      -0.002089  0.016446  0.002700   \n",
       "fl_num                    -0.002198      -0.000875 -0.002373  0.018302   \n",
       "late_aircraft_delay        0.003942       0.023356  0.026625  0.001386   \n",
       "month                      0.005550      -0.005821  0.013733 -0.035558   \n",
       "nas_delay                  0.002055       0.027320  0.036793  0.002047   \n",
       "quarter                    0.005331      -0.004650  0.014101 -0.034173   \n",
       "security_delay             1.000000      -0.000539  0.002498 -0.000162   \n",
       "weather_delay             -0.000539       1.000000  0.017281  0.002022   \n",
       "fog                        0.002498       0.017281  1.000000  0.049812   \n",
       "hail                      -0.000162       0.002022  0.049812  1.000000   \n",
       "damaging_wind             -0.000039       0.001153  0.003754  0.040135   \n",
       "\n",
       "                     damaging_wind  \n",
       "average_wind_speed        0.010429  \n",
       "snowfall                 -0.002844  \n",
       "snow_depth               -0.003448  \n",
       "thunder                   0.049227  \n",
       "dust                      0.004001  \n",
       "haze                      0.000387  \n",
       "snow                      0.001858  \n",
       "cancelled                 0.013245  \n",
       "carrier_delay             0.000672  \n",
       "crs_dep_time              0.002236  \n",
       "crs_elapsed_time          0.001658  \n",
       "day_of_month              0.002578  \n",
       "day_of_week              -0.011013  \n",
       "dep_delay_new             0.003780  \n",
       "diverted                  0.000547  \n",
       "fl_num                    0.002903  \n",
       "late_aircraft_delay       0.004115  \n",
       "month                    -0.000927  \n",
       "nas_delay                 0.002187  \n",
       "quarter                   0.000202  \n",
       "security_delay           -0.000039  \n",
       "weather_delay             0.001153  \n",
       "fog                       0.003754  \n",
       "hail                      0.040135  \n",
       "damaging_wind             1.000000  \n",
       "\n",
       "[25 rows x 25 columns]"
      ]
     },
     "execution_count": 39,
     "metadata": {},
     "output_type": "execute_result"
    }
   ],
   "source": [
    "data.corr()"
   ]
  },
  {
   "cell_type": "code",
   "execution_count": 40,
   "metadata": {},
   "outputs": [],
   "source": [
    "def check_correlations(data_df, min_v=0.7):\n",
    "    corr = data_df.corr()\n",
    "    corrs = []\n",
    "    for i in corr:\n",
    "        for j in corr.index[corr[i] >= min_v]:\n",
    "            if i != j and j not in corrs and i not in corrs:\n",
    "                corrs.append(j)\n",
    "                print(\"%s-->%s: r^2=%f\" % (i,j, corr[i][corr.index == j].values[0]))\n",
    "    if len(corrs) == 0:\n",
    "        print('Everything is perfect')"
   ]
  },
  {
   "cell_type": "code",
   "execution_count": 41,
   "metadata": {},
   "outputs": [
    {
     "name": "stdout",
     "output_type": "stream",
     "text": [
      "carrier_delay-->dep_delay_new: r^2=0.713772\n",
      "month-->quarter: r^2=0.959306\n"
     ]
    }
   ],
   "source": [
    "check_correlations(data)"
   ]
  },
  {
   "cell_type": "markdown",
   "metadata": {},
   "source": [
    "Plotting data"
   ]
  },
  {
   "cell_type": "code",
   "execution_count": 42,
   "metadata": {},
   "outputs": [
    {
     "data": {
      "image/png": "[encoded data removed]",
      "text/plain": [
       "<matplotlib.figure.Figure at 0x1a2a448898>"
      ]
     },
     "metadata": {},
     "output_type": "display_data"
    }
   ],
   "source": [
    "data.hist(figsize=(15, 15));"
   ]
  },
  {
   "cell_type": "markdown",
   "metadata": {},
   "source": [
    "Plotting classes"
   ]
  },
  {
   "cell_type": "code",
   "execution_count": 43,
   "metadata": {},
   "outputs": [
    {
     "data": {
      "image/png": "[encoded data removed]",
      "text/plain": [
       "<matplotlib.figure.Figure at 0x1a2a0d8ba8>"
      ]
     },
     "metadata": {},
     "output_type": "display_data"
    }
   ],
   "source": [
    "plt.figure(figsize=(8, 8))\n",
    "ax = sns.countplot(x = data.status)\n",
    "ax.set_title('Dataset class balance check')\n",
    "ax.set_ylabel('Count')\n",
    "plt.show()"
   ]
  },
  {
   "cell_type": "markdown",
   "metadata": {},
   "source": [
    "huge imbalance here"
   ]
  },
  {
   "cell_type": "markdown",
   "metadata": {},
   "source": [
    "Day / delay"
   ]
  },
  {
   "cell_type": "code",
   "execution_count": 44,
   "metadata": {},
   "outputs": [
    {
     "data": {
      "text/plain": [
       "<matplotlib.axes._subplots.AxesSubplot at 0x1a29d37be0>"
      ]
     },
     "execution_count": 44,
     "metadata": {},
     "output_type": "execute_result"
    },
    {
     "data": {
      "image/png": "[encoded data removed]",
      "text/plain": [
       "<matplotlib.figure.Figure at 0x1a2a2d7e48>"
      ]
     },
     "metadata": {},
     "output_type": "display_data"
    }
   ],
   "source": [
    "sns.stripplot(x=\"day_of_week\", y=\"dep_delay_new\", data=data, jitter=True)"
   ]
  },
  {
   "cell_type": "markdown",
   "metadata": {},
   "source": [
    "Month / Delay"
   ]
  },
  {
   "cell_type": "code",
   "execution_count": 45,
   "metadata": {},
   "outputs": [
    {
     "data": {
      "text/plain": [
       "<matplotlib.axes._subplots.AxesSubplot at 0x1a29ed3e10>"
      ]
     },
     "execution_count": 45,
     "metadata": {},
     "output_type": "execute_result"
    },
    {
     "data": {
      "image/png": "[encoded data removed]",
      "text/plain": [
       "<matplotlib.figure.Figure at 0x1a29ed3550>"
      ]
     },
     "metadata": {},
     "output_type": "display_data"
    }
   ],
   "source": [
    "sns.stripplot(x=\"month\", y=\"dep_delay_new\", data=data, jitter=True)"
   ]
  },
  {
   "cell_type": "code",
   "execution_count": 46,
   "metadata": {},
   "outputs": [
    {
     "name": "stderr",
     "output_type": "stream",
     "text": [
      "/Users/bulhakovdmytro/anaconda3/lib/python3.6/site-packages/matplotlib/cbook/deprecation.py:106: MatplotlibDeprecationWarning: The axisbg attribute was deprecated in version 2.0. Use facecolor instead.\n",
      "  warnings.warn(message, mplDeprecation, stacklevel=1)\n"
     ]
    },
    {
     "data": {
      "text/plain": [
       "Text(0.5,1,'Delays in time')"
      ]
     },
     "execution_count": 46,
     "metadata": {},
     "output_type": "execute_result"
    },
    {
     "data": {
      "text/plain": [
       "<matplotlib.figure.Figure at 0x1a27f3c208>"
      ]
     },
     "metadata": {},
     "output_type": "display_data"
    },
    {
     "data": {
      "image/png": "[encoded data removed]",
      "text/plain": [
       "<matplotlib.figure.Figure at 0x1a29eabfd0>"
      ]
     },
     "metadata": {},
     "output_type": "display_data"
    }
   ],
   "source": [
    "plot_df = data.copy()\n",
    "plot_df['fl_date'] = pd.to_datetime(plot_df['fl_date'], dayfirst=True, infer_datetime_format = True)\n",
    "plot_df.set_index('fl_date', inplace=True)\n",
    "# set Race as categorical\n",
    "plot_df['status'] = plot_df['status'].astype('category')\n",
    "\n",
    "grouped = plot_df.groupby('status')\n",
    "\n",
    "plt.clf()\n",
    "fig = plt.figure(figsize=(10, 8))\n",
    "ax = fig.add_subplot(111, axisbg='w', frame_on=True)\n",
    "\n",
    "for key, group in grouped:\n",
    "    plot_df = group.groupby(lambda x: x.year).count()\n",
    "    plot_df['status'].plot(label=key, ax=ax, lw=2.)\n",
    "\n",
    "# label x and y axis\n",
    "plt.xlabel(\"Year\")\n",
    "plt.ylabel(\"Number of Executions\")\n",
    "# turn off background grid\n",
    "ax.grid(b=None)\n",
    "# show a semi-transparent legend\n",
    "leg = ax.legend(loc='best')\n",
    "leg.get_frame().set_alpha(0.75)\n",
    "# set a title\n",
    "plt.title('Delays in time')"
   ]
  },
  {
   "cell_type": "markdown",
   "metadata": {},
   "source": [
    "Flights per airline"
   ]
  },
  {
   "cell_type": "code",
   "execution_count": 47,
   "metadata": {},
   "outputs": [],
   "source": [
    "airlines_group = data[['status', 'carrier']]\n",
    "airlines_group_num = airlines_group.groupby(['carrier']).size()\n",
    "airlines_group = data[['status', 'carrier']]\n",
    "airlines_group = airlines_group[(airlines_group['status'] != 'no_delay') & (airlines_group['status'] != 'short_delay')]\n",
    "airlines_group_delays_num = airlines_group.groupby(['carrier']).size()\n",
    "delay_info = pd.DataFrame({'Carrier': np.unique(airlines_group.carrier.values), 'Number of flights': airlines_group_num.values, 'Number of delays': airlines_group_delays_num.values})"
   ]
  },
  {
   "cell_type": "code",
   "execution_count": 48,
   "metadata": {},
   "outputs": [
    {
     "data": {
      "text/plain": [
       "<matplotlib.axes._subplots.AxesSubplot at 0x1a29bdc278>"
      ]
     },
     "execution_count": 48,
     "metadata": {},
     "output_type": "execute_result"
    },
    {
     "data": {
      "image/png": "[encoded data removed]",
      "text/plain": [
       "<matplotlib.figure.Figure at 0x1a29ea75c0>"
      ]
     },
     "metadata": {},
     "output_type": "display_data"
    }
   ],
   "source": [
    "delay_info.plot(kind='bar', figsize=(8, 8), title = 'Number of flights per carrier')"
   ]
  },
  {
   "cell_type": "markdown",
   "metadata": {},
   "source": [
    "Delay ratings"
   ]
  },
  {
   "cell_type": "code",
   "execution_count": 49,
   "metadata": {},
   "outputs": [],
   "source": [
    "delay_info['Delay index'] = delay_info['Number of delays'] / delay_info['Number of flights']"
   ]
  },
  {
   "cell_type": "code",
   "execution_count": 50,
   "metadata": {},
   "outputs": [
    {
     "data": {
      "image/png": "[encoded data removed]",
      "text/plain": [
       "<matplotlib.figure.Figure at 0x1a283e1668>"
      ]
     },
     "metadata": {},
     "output_type": "display_data"
    }
   ],
   "source": [
    "plt.figure(figsize=(8, 8))\n",
    "ax = sns.barplot(x=\"Carrier\", y=\"Delay index\", data=delay_info)\n",
    "ax.set_title('Airline delay index ')\n",
    "plt.show()"
   ]
  },
  {
   "cell_type": "markdown",
   "metadata": {},
   "source": [
    "## Additional preprocessing"
   ]
  },
  {
   "cell_type": "code",
   "execution_count": 122,
   "metadata": {},
   "outputs": [],
   "source": [
    "data2 = data[data['origin'] == 'ALB']"
   ]
  },
  {
   "cell_type": "code",
   "execution_count": 123,
   "metadata": {},
   "outputs": [],
   "source": [
    "working_df = data2"
   ]
  },
  {
   "cell_type": "code",
   "execution_count": 124,
   "metadata": {},
   "outputs": [],
   "source": [
    "def additional_preprocessing(data_df):\n",
    "    data_info = data_df.copy()\n",
    "    data_info = data_info.drop(['cancellation_code', 'cancelled', 'carrier_delay', 'dep_delay_new', 'late_aircraft_delay', 'nas_delay', 'security_delay', 'weather_delay', 'diverted', 'origin_city_name', 'dest_city_name'], axis = 1)\n",
    "    \n",
    "    data_info = data_info.drop(['snowfall', 'snow_depth', 'thunder', 'dust', 'haze', 'snow', 'fog', 'hail', 'damaging_wind'], axis = 1)\n",
    "    \n",
    "    data_info = data_info.drop(['tail_num'], axis = 1)\n",
    "    \n",
    "    data_info['crs_dep_time'] = list(map(int, working_df['crs_dep_time'].values / 100))\n",
    "    \n",
    "    return data_info"
   ]
  },
  {
   "cell_type": "code",
   "execution_count": 125,
   "metadata": {},
   "outputs": [],
   "source": [
    "working_df = additional_preprocessing(working_df)"
   ]
  },
  {
   "cell_type": "markdown",
   "metadata": {},
   "source": [
    "## Processing"
   ]
  },
  {
   "cell_type": "code",
   "execution_count": 126,
   "metadata": {},
   "outputs": [],
   "source": [
    "def add_airline_delay_index(carrier):\n",
    "    return delay_info[delay_info['Carrier'] == carrier]['Delay index'].values[0]"
   ]
  },
  {
   "cell_type": "code",
   "execution_count": 127,
   "metadata": {},
   "outputs": [],
   "source": [
    "def process_data(data_df):\n",
    "    data_info = data_df.copy()\n",
    "    \n",
    "    airlines_group = data_info[['status', 'carrier']]\n",
    "    airlines_group_num = airlines_group.groupby(['carrier']).size()\n",
    "    airlines_group = data_info[['status', 'carrier']]\n",
    "    airlines_group = airlines_group[(airlines_group['status'] != 'no_delay') & (airlines_group['status'] != 'short_delay')]\n",
    "    airlines_group_delays_num = airlines_group.groupby(['carrier']).size()\n",
    "    delay_info = pd.DataFrame({'Carrier': np.unique(airlines_group.carrier.values), 'Number of flights': airlines_group_num.values, 'Number of delays': airlines_group_delays_num.values})\n",
    "    delay_info['Delay index'] = delay_info['Number of delays'] / delay_info['Number of flights']\n",
    "    \n",
    "    with concurrent.futures.ProcessPoolExecutor(16) as pool:\n",
    "        data_info['airline_delay_index'] = list(pool.map(add_airline_delay_index, data_info['carrier'], chunksize=1_000))\n",
    "    \n",
    "    # data_info['airline_delay_index'] = data_df.apply (lambda row: add_airline_delay_index(row, delay_info), axis=1)\n",
    "    \n",
    "    data_info = pd.get_dummies(data_info, columns=['origin', 'dest', 'carrier'])\n",
    "    data_info['day_of_year'] = (data_info['fl_date'] - data_info['fl_date'].min())  / np.timedelta64(1,'D')\n",
    "    data_info = data_info.drop(['fl_date'], axis=1)\n",
    "    \n",
    "    return data_info"
   ]
  },
  {
   "cell_type": "code",
   "execution_count": 128,
   "metadata": {},
   "outputs": [],
   "source": [
    "working_df = process_data(working_df)"
   ]
  },
  {
   "cell_type": "markdown",
   "metadata": {},
   "source": [
    "## Train test split"
   ]
  },
  {
   "cell_type": "code",
   "execution_count": 129,
   "metadata": {},
   "outputs": [],
   "source": [
    "X_train, X_test, y_train, y_test = train_test_split(working_df.loc[:, working_df.columns != 'status'], working_df['status'], test_size = 0.3, random_state = RND_STATE)"
   ]
  },
  {
   "cell_type": "markdown",
   "metadata": {},
   "source": [
    "## Due to huge dataset performing undersampling"
   ]
  },
  {
   "cell_type": "code",
   "execution_count": 130,
   "metadata": {},
   "outputs": [
    {
     "name": "stdout",
     "output_type": "stream",
     "text": [
      "Before undersampling:  7443\n"
     ]
    }
   ],
   "source": [
    "print('Before undersampling: ', len(X_train))"
   ]
  },
  {
   "cell_type": "code",
   "execution_count": 131,
   "metadata": {},
   "outputs": [],
   "source": [
    "tl = TomekLinks(random_state = RND_STATE)\n",
    "X_train, y_train = tl.fit_sample(X_train, y_train)"
   ]
  },
  {
   "cell_type": "code",
   "execution_count": 132,
   "metadata": {},
   "outputs": [
    {
     "name": "stdout",
     "output_type": "stream",
     "text": [
      "After undersampling: 6792\n"
     ]
    }
   ],
   "source": [
    "print('After undersampling:', len(X_train))"
   ]
  },
  {
   "cell_type": "markdown",
   "metadata": {},
   "source": [
    "## Predictions"
   ]
  },
  {
   "cell_type": "code",
   "execution_count": 133,
   "metadata": {},
   "outputs": [],
   "source": [
    "classifiers = []"
   ]
  },
  {
   "cell_type": "code",
   "execution_count": 134,
   "metadata": {},
   "outputs": [],
   "source": [
    "class ModelTester():\n",
    "    def __init__(self, parameters, model, scoring='f1_micro', njobs=-1, cv=3):\n",
    "        self.cv = GridSearchCV(model, param_grid=parameters, scoring = scoring, n_jobs = njobs, cv = cv, verbose = 1)\n",
    "    \n",
    "    def test_model(self, Xtrain, ytrain, Xtest, ytest):\n",
    "        self.cv.fit(Xtrain, ytrain);\n",
    "        print('Best score cv: ', self.cv.best_score_)\n",
    "        print('Params: ', self.cv.best_params_)\n",
    "    \n",
    "        y_predicted = self.cv.predict(Xtest)\n",
    "        print('Score on test sample:', f1_score(ytest, y_predicted, average='micro'))\n",
    "        \n",
    "    def best_estimator(self):\n",
    "        return self.cv.best_estimator_"
   ]
  },
  {
   "cell_type": "markdown",
   "metadata": {},
   "source": [
    "### Random Forest"
   ]
  },
  {
   "cell_type": "code",
   "execution_count": 135,
   "metadata": {},
   "outputs": [
    {
     "name": "stdout",
     "output_type": "stream",
     "text": [
      "Fitting 3 folds for each of 504 candidates, totalling 1512 fits\n"
     ]
    },
    {
     "name": "stderr",
     "output_type": "stream",
     "text": [
      "[Parallel(n_jobs=-1)]: Done  42 tasks      | elapsed:    2.6s\n",
      "[Parallel(n_jobs=-1)]: Done 192 tasks      | elapsed:   16.2s\n",
      "[Parallel(n_jobs=-1)]: Done 442 tasks      | elapsed:   42.5s\n",
      "[Parallel(n_jobs=-1)]: Done 792 tasks      | elapsed:  1.3min\n",
      "[Parallel(n_jobs=-1)]: Done 1242 tasks      | elapsed:  1.8min\n",
      "[Parallel(n_jobs=-1)]: Done 1512 out of 1512 | elapsed:  2.2min finished\n"
     ]
    },
    {
     "name": "stdout",
     "output_type": "stream",
     "text": [
      "Best score cv:  0.9405182567726738\n",
      "Params:  {'class_weight': 'balanced', 'criterion': 'gini', 'max_depth': 32, 'max_features': 4, 'n_estimators': 30}\n",
      "Score on test sample: 0.9037919147602632\n"
     ]
    }
   ],
   "source": [
    "param = {'criterion':['gini', 'entropy'], 'max_features':[1, 2, 3, 4, 5, 'log2', 'auto'],\n",
    "         'max_depth':[2, 4, 8, 16, 32, 64], 'class_weight':['balanced', None], 'n_estimators': [10, 20, 30]}\n",
    "\n",
    "mt = ModelTester(parameters = param, model = RandomForestClassifier(random_state=RND_STATE))\n",
    "mt.test_model(X_train, y_train, X_test, y_test)\n",
    "rf_clf = mt.best_estimator()\n",
    "classifiers.append({'name': 'Random Forest Classifier', 'clf': rf_clf})"
   ]
  },
  {
   "cell_type": "markdown",
   "metadata": {},
   "source": [
    "### SVC"
   ]
  },
  {
   "cell_type": "code",
   "execution_count": 136,
   "metadata": {},
   "outputs": [],
   "source": [
    "param = {'C': np.linspace(0.01, 0.03, num=3), \n",
    "              'class_weight':['balanced', None], 'kernel':['linear'],\n",
    "              'decision_function_shape' : ['ovo', 'ovr', None]}\n",
    "\n",
    "mt = ModelTester(parameters = param, model = SVC(random_state=RND_STATE, cache_size=2048))\n",
    "# mt.test_model(X_train, y_train, X_test, y_test)\n",
    "# svc_clf = mt.best_estimator()\n",
    "# classifiers.append({'name': 'SVC', 'clf': svc_clf})"
   ]
  },
  {
   "cell_type": "markdown",
   "metadata": {},
   "source": [
    "### AdaBoostClassifier"
   ]
  },
  {
   "cell_type": "code",
   "execution_count": 137,
   "metadata": {},
   "outputs": [
    {
     "name": "stdout",
     "output_type": "stream",
     "text": [
      "Fitting 3 folds for each of 10 candidates, totalling 30 fits\n"
     ]
    },
    {
     "name": "stderr",
     "output_type": "stream",
     "text": [
      "[Parallel(n_jobs=-1)]: Done  30 out of  30 | elapsed:   10.1s finished\n"
     ]
    },
    {
     "name": "stdout",
     "output_type": "stream",
     "text": [
      "Best score cv:  0.9293286219081273\n",
      "Params:  {'algorithm': 'SAMME.R', 'learning_rate': 0.1}\n",
      "Score on test sample: 0.8903165151989971\n"
     ]
    }
   ],
   "source": [
    "param = {'algorithm': ['SAMME.R', 'SAMME'], 'learning_rate': [0.1, 0.3, 0.6, 0.8, 1.0]}\n",
    "mt = ModelTester(parameters = param, model = AdaBoostClassifier(random_state=RND_STATE))\n",
    "mt.test_model(X_train, y_train, X_test, y_test)\n",
    "adc_clf = mt.best_estimator()\n",
    "classifiers.append({'name': 'AdaBoost Classifier', 'clf': adc_clf})"
   ]
  },
  {
   "cell_type": "markdown",
   "metadata": {},
   "source": [
    "### Decision Tree Classifier"
   ]
  },
  {
   "cell_type": "code",
   "execution_count": 138,
   "metadata": {},
   "outputs": [
    {
     "name": "stdout",
     "output_type": "stream",
     "text": [
      "Fitting 3 folds for each of 56 candidates, totalling 168 fits\n"
     ]
    },
    {
     "name": "stderr",
     "output_type": "stream",
     "text": [
      "[Parallel(n_jobs=-1)]: Done  76 tasks      | elapsed:    2.5s\n"
     ]
    },
    {
     "name": "stdout",
     "output_type": "stream",
     "text": [
      "Best score cv:  0.90650765606596\n",
      "Params:  {'class_weight': 'balanced', 'criterion': 'entropy', 'max_features': 4, 'presort': True, 'random_state': 100412, 'splitter': 'best'}\n",
      "Score on test sample: 0.8696333437793794\n"
     ]
    },
    {
     "name": "stderr",
     "output_type": "stream",
     "text": [
      "[Parallel(n_jobs=-1)]: Done 168 out of 168 | elapsed:    5.2s finished\n"
     ]
    }
   ],
   "source": [
    "param = {'criterion': ['gini', 'entropy'], 'splitter': ['best', 'random'], 'max_features':[1, 2, 3, 4, 5, 'log2', 'auto'], \n",
    "         'class_weight' : ['balanced'], 'random_state':[RND_STATE], 'presort':[True, False]}\n",
    "\n",
    "mt = ModelTester(parameters = param, model = DecisionTreeClassifier(random_state=RND_STATE))\n",
    "mt.test_model(X_train, y_train, X_test, y_test)\n",
    "dtc_clf = mt.best_estimator()\n",
    "classifiers.append({'name': 'Decision Tree Classifier', 'clf': dtc_clf})"
   ]
  },
  {
   "cell_type": "markdown",
   "metadata": {},
   "source": [
    "### K-Neighbors Classifier"
   ]
  },
  {
   "cell_type": "code",
   "execution_count": 139,
   "metadata": {},
   "outputs": [
    {
     "name": "stdout",
     "output_type": "stream",
     "text": [
      "Fitting 3 folds for each of 192 candidates, totalling 576 fits\n"
     ]
    },
    {
     "name": "stderr",
     "output_type": "stream",
     "text": [
      "[Parallel(n_jobs=-1)]: Done  42 tasks      | elapsed:   10.0s\n",
      "[Parallel(n_jobs=-1)]: Done 192 tasks      | elapsed:   48.0s\n",
      "[Parallel(n_jobs=-1)]: Done 442 tasks      | elapsed:  1.9min\n",
      "[Parallel(n_jobs=-1)]: Done 576 out of 576 | elapsed:  3.8min finished\n"
     ]
    },
    {
     "name": "stdout",
     "output_type": "stream",
     "text": [
      "Best score cv:  0.9335983510011778\n",
      "Params:  {'algorithm': 'auto', 'leaf_size': 10, 'n_neighbors': 30, 'p': 1, 'weights': 'distance'}\n",
      "Score on test sample: 0.8931369476653087\n"
     ]
    }
   ],
   "source": [
    "param = {'n_neighbors': [30, 50, 65, 70], 'weights': ['uniform', 'distance'], 'algorithm':['auto', 'ball_tree', 'kd_tree', 'brute'], \n",
    "         'leaf_size' : [10, 15, 20], 'p':[1, 2]}\n",
    "\n",
    "mt = ModelTester(parameters = param, model = KNeighborsClassifier())\n",
    "mt.test_model(X_train, y_train, X_test, y_test)\n",
    "knn_clf = mt.best_estimator()\n",
    "classifiers.append({'name': 'K-Neighbors Classifier', 'clf': knn_clf})"
   ]
  },
  {
   "cell_type": "markdown",
   "metadata": {},
   "source": [
    "### Gradient Boosting Classifier"
   ]
  },
  {
   "cell_type": "code",
   "execution_count": 140,
   "metadata": {},
   "outputs": [
    {
     "name": "stdout",
     "output_type": "stream",
     "text": [
      "Fitting 3 folds for each of 28 candidates, totalling 84 fits\n"
     ]
    },
    {
     "name": "stderr",
     "output_type": "stream",
     "text": [
      "[Parallel(n_jobs=-1)]: Done  42 tasks      | elapsed:  1.2min\n",
      "[Parallel(n_jobs=-1)]: Done  84 out of  84 | elapsed:  3.1min finished\n"
     ]
    },
    {
     "name": "stdout",
     "output_type": "stream",
     "text": [
      "Best score cv:  0.9358068315665489\n",
      "Params:  {'loss': 'deviance', 'max_features': 'auto', 'min_samples_leaf': 3, 'n_estimators': 300, 'presort': True}\n",
      "Score on test sample: 0.8981510498276403\n"
     ]
    }
   ],
   "source": [
    "param = {'loss': ['deviance'], 'max_features':[1, 2, 3, 4, 5, 'log2', 'auto'], 'presort':[True, False],\n",
    "         'n_estimators':[200, 300], 'min_samples_leaf' : [3]}\n",
    "\n",
    "mt = ModelTester(parameters = param, model = GradientBoostingClassifier(random_state=RND_STATE))\n",
    "mt.test_model(X_train, y_train, X_test, y_test)\n",
    "gbc_clf = mt.best_estimator()\n",
    "classifiers.append({'name': 'Gradient Boosting Classifier', 'clf': gbc_clf})"
   ]
  },
  {
   "cell_type": "markdown",
   "metadata": {},
   "source": [
    "## Working with the results"
   ]
  },
  {
   "cell_type": "code",
   "execution_count": 141,
   "metadata": {},
   "outputs": [],
   "source": [
    "def save_clfs(file_name, data_to_save):\n",
    "    with open(file_name, 'wb') as f:\n",
    "        pickle.dump(data_to_save, f)"
   ]
  },
  {
   "cell_type": "code",
   "execution_count": 142,
   "metadata": {},
   "outputs": [],
   "source": [
    "def load_clfs(file_name):\n",
    "    with open('data.pickle', 'rb') as f:\n",
    "        return pickle.load(f)"
   ]
  },
  {
   "cell_type": "code",
   "execution_count": 143,
   "metadata": {},
   "outputs": [],
   "source": [
    "save_clfs(CLF_FILE, classifiers)"
   ]
  },
  {
   "cell_type": "markdown",
   "metadata": {},
   "source": [
    "### Results per classifier:"
   ]
  },
  {
   "cell_type": "code",
   "execution_count": 144,
   "metadata": {},
   "outputs": [],
   "source": [
    "def print_importances_internal(data_df, imp_list):\n",
    "    print('Top 10 features:')\n",
    "    val_zip = zip(data_df.columns, imp_list) \n",
    "    for a, b, in sorted(val_zip, key = lambda zp_gb: zp_gb[1], reverse = True)[:10]:\n",
    "        print(\"{0}: {1}\".format(a, b))"
   ]
  },
  {
   "cell_type": "code",
   "execution_count": 145,
   "metadata": {},
   "outputs": [],
   "source": [
    "def print_importances(data_df, model):\n",
    "    if hasattr(model, 'feature_importances_'):\n",
    "        print_importances_internal(data_df, model.feature_importances_)\n",
    "    elif hasattr(model, 'coef_'):\n",
    "        print_importances_internal(data_df, model.coef_.flatten())"
   ]
  },
  {
   "cell_type": "code",
   "execution_count": 146,
   "metadata": {},
   "outputs": [
    {
     "data": {
      "application/vnd.jupyter.widget-view+json": {
       "model_id": "1dfbb6924e564baeaf4fff12c7b285d8",
       "version_major": 2,
       "version_minor": 0
      },
      "text/html": [
       "<p>Failed to display Jupyter Widget of type <code>VBox</code>.</p>\n",
       "<p>\n",
       "  If you're reading this message in the Jupyter Notebook or JupyterLab Notebook, it may mean\n",
       "  that the widgets JavaScript is still loading. If this message persists, it\n",
       "  likely means that the widgets JavaScript library is either not installed or\n",
       "  not enabled. See the <a href=\"https://ipywidgets.readthedocs.io/en/stable/user_install.html\">Jupyter\n",
       "  Widgets Documentation</a> for setup instructions.\n",
       "</p>\n",
       "<p>\n",
       "  If you're reading this message in another frontend (for example, a static\n",
       "  rendering on GitHub or <a href=\"https://nbviewer.jupyter.org/\">NBViewer</a>),\n",
       "  it may mean that your frontend doesn't currently support widgets.\n",
       "</p>\n"
      ],
      "text/plain": [
       "VBox(children=(HTML(value=''), IntProgress(value=0, max=5)))"
      ]
     },
     "metadata": {},
     "output_type": "display_data"
    },
    {
     "name": "stdout",
     "output_type": "stream",
     "text": [
      "\n",
      "Random Forest Classifier\n",
      "F1 score:  0.9037919147602632\n",
      "Top 10 features:\n",
      "damaging_wind: 0.14804529837673844\n",
      "thunder: 0.13593240441553472\n",
      "average_wind_speed: 0.13114237185380884\n",
      "dust: 0.09877245166944154\n",
      "snowfall: 0.08580335206976099\n",
      "haze: 0.08127812686585413\n",
      "snow_depth: 0.07885954359190597\n",
      "snow: 0.06985770551818198\n",
      "cancellation_code: 0.03652841728718728\n",
      "cancelled: 0.02384951425419292\n",
      "\n",
      "AdaBoost Classifier\n",
      "F1 score:  0.8903165151989971\n",
      "Top 10 features:\n",
      "snowfall: 0.26\n",
      "thunder: 0.2\n",
      "damaging_wind: 0.2\n",
      "snow_depth: 0.14\n",
      "haze: 0.1\n",
      "average_wind_speed: 0.04\n",
      "cancelled: 0.04\n",
      "hail: 0.02\n",
      "dust: 0.0\n",
      "snow: 0.0\n",
      "\n",
      "Decision Tree Classifier\n",
      "F1 score:  0.8696333437793794\n",
      "Top 10 features:\n",
      "thunder: 0.17130437232082005\n",
      "damaging_wind: 0.12547037761399887\n",
      "snow: 0.10110723299514988\n",
      "average_wind_speed: 0.09517071242297889\n",
      "snow_depth: 0.09352470761368281\n",
      "snowfall: 0.09004162272925387\n",
      "dust: 0.08960085752931753\n",
      "haze: 0.05558259615250623\n",
      "cancellation_code: 0.04330136102303842\n",
      "hail: 0.017987312843687615\n",
      "\n",
      "K-Neighbors Classifier\n",
      "F1 score:  0.8931369476653087\n",
      "\n",
      "Gradient Boosting Classifier\n",
      "F1 score:  0.8981510498276403\n",
      "Top 10 features:\n",
      "damaging_wind: 0.23983154849989197\n",
      "thunder: 0.14772630984283436\n",
      "haze: 0.1465427010530523\n",
      "average_wind_speed: 0.11176883647480781\n",
      "snowfall: 0.0932830083613616\n",
      "snow_depth: 0.08331850780231174\n",
      "dust: 0.04357857515360163\n",
      "cancelled: 0.021005655324937197\n",
      "origin: 0.015898723133213003\n",
      "fl_date: 0.011896697884076737\n"
     ]
    }
   ],
   "source": [
    "results_data = []\n",
    "for clf in log_progress(classifiers, every = 1):\n",
    "    print('\\n' + clf['name'])\n",
    "    score = f1_score(clf['clf'].predict(X_test), y_test, average='micro')\n",
    "    print('F1 score: ', score)\n",
    "    results_data.append({'Classifier': clf['name'], 'F1 Score': score})\n",
    "    print_importances(data, clf['clf'])"
   ]
  },
  {
   "cell_type": "code",
   "execution_count": 147,
   "metadata": {},
   "outputs": [
    {
     "data": {
      "text/plain": [
       "Text(0.5,1,'Models and F1 score')"
      ]
     },
     "execution_count": 147,
     "metadata": {},
     "output_type": "execute_result"
    },
    {
     "data": {
      "image/png": "[encoded data removed]",
      "text/plain": [
       "<matplotlib.figure.Figure at 0x1a2a515e10>"
      ]
     },
     "metadata": {},
     "output_type": "display_data"
    }
   ],
   "source": [
    "pd.DataFrame(results_data).plot(x='Classifier', y='F1 Score', kind = 'bar', figsize = (15, 10), fontsize = 12)\n",
    "plt.xticks(rotation = 0)\n",
    "plt.title('Models and F1 score', fontsize = 12)"
   ]
  },
  {
   "cell_type": "code",
   "execution_count": null,
   "metadata": {},
   "outputs": [],
   "source": []
  }
 ],
 "metadata": {
  "kernelspec": {
   "display_name": "Python 3",
   "language": "python",
   "name": "python3"
  },
  "language_info": {
   "codemirror_mode": {
    "name": "ipython",
    "version": 3
   },
   "file_extension": ".py",
   "mimetype": "text/x-python",
   "name": "python",
   "nbconvert_exporter": "python",
   "pygments_lexer": "ipython3",
   "version": "3.6.4"
  }
 },
 "nbformat": 4,
 "nbformat_minor": 2
}
