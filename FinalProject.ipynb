{
 "cells": [
  {
   "cell_type": "code",
   "execution_count": 1,
   "metadata": {},
   "outputs": [],
   "source": [
    "import pandas as pd\n",
    "import numpy as np\n",
    "import glob\n",
    "import requests\n",
    "import json\n",
    "import gc\n",
    "import pickle\n",
    "import concurrent.futures\n",
    "from sklearn.preprocessing import MultiLabelBinarizer\n",
    "import warnings\n",
    "import sklearn.exceptions\n",
    "warnings.filterwarnings(\"ignore\", category=sklearn.exceptions.UndefinedMetricWarning)\n",
    "\n",
    "import seaborn as sns\n",
    "import matplotlib.pyplot as plt\n",
    "\n",
    "from sklearn.model_selection import train_test_split\n",
    "from sklearn.model_selection import GridSearchCV\n",
    "from sklearn.model_selection import StratifiedKFold\n",
    "from sklearn.metrics import f1_score\n",
    "from imblearn.under_sampling import TomekLinks\n",
    "\n",
    "from sklearn.svm import SVC\n",
    "from sklearn.ensemble import AdaBoostClassifier\n",
    "from sklearn.neighbors import KNeighborsClassifier\n",
    "from sklearn.ensemble import GradientBoostingClassifier\n",
    "from sklearn.ensemble import VotingClassifier\n",
    "from sklearn.ensemble import VotingClassifier\n",
    "from sklearn.ensemble import RandomForestClassifier\n",
    "from sklearn.tree import DecisionTreeClassifier\n",
    "from sklearn.ensemble import RandomForestClassifier\n",
    "from sklearn.linear_model import LogisticRegression\n",
    "from sklearn.linear_model import SGDClassifier\n",
    "\n",
    "RND_STATE = 100412"
   ]
  },
  {
   "cell_type": "code",
   "execution_count": 2,
   "metadata": {},
   "outputs": [],
   "source": [
    "def log_progress(sequence, every=None, size=None, name='Items'):\n",
    "    from ipywidgets import IntProgress, HTML, VBox\n",
    "    from IPython.display import display\n",
    "\n",
    "    is_iterator = False\n",
    "    if size is None:\n",
    "        try:\n",
    "            size = len(sequence)\n",
    "        except TypeError:\n",
    "            is_iterator = True\n",
    "    if size is not None:\n",
    "        if every is None:\n",
    "            if size <= 200:\n",
    "                every = 1\n",
    "            else:\n",
    "                every = int(size / 200)     # every 0.5%\n",
    "    else:\n",
    "        assert every is not None, 'sequence is iterator, set every'\n",
    "\n",
    "    if is_iterator:\n",
    "        progress = IntProgress(min=0, max=1, value=1)\n",
    "        progress.bar_style = 'info'\n",
    "    else:\n",
    "        progress = IntProgress(min=0, max=size, value=0)\n",
    "    label = HTML()\n",
    "    box = VBox(children=[label, progress])\n",
    "    display(box)\n",
    "\n",
    "    index = 0\n",
    "    try:\n",
    "        for index, record in enumerate(sequence, 1):\n",
    "            if index == 1 or index % every == 0:\n",
    "                if is_iterator:\n",
    "                    label.value = '{name}: {index} / ?'.format(\n",
    "                        name=name,\n",
    "                        index=index\n",
    "                    )\n",
    "                else:\n",
    "                    progress.value = index\n",
    "                    label.value = u'{name}: {index} / {size}'.format(\n",
    "                        name=name,\n",
    "                        index=index,\n",
    "                        size=size\n",
    "                    )\n",
    "            yield record\n",
    "    except:\n",
    "        progress.bar_style = 'danger'\n",
    "        raise\n",
    "    else:\n",
    "        progress.bar_style = 'success'\n",
    "        progress.value = index\n",
    "        label.value = \"{name}: {index}\".format(\n",
    "            name=name,\n",
    "            index=str(index or '?')\n",
    "        )"
   ]
  },
  {
   "cell_type": "markdown",
   "metadata": {},
   "source": [
    "## Configuration"
   ]
  },
  {
   "cell_type": "code",
   "execution_count": 3,
   "metadata": {},
   "outputs": [],
   "source": [
    "# weather links\n",
    "# ftp://ftp.ncdc.noaa.gov/pub/data/ghcn/daily/readme.txt"
   ]
  },
  {
   "cell_type": "code",
   "execution_count": 4,
   "metadata": {},
   "outputs": [],
   "source": [
    "WEATHER_API_KEY = ''"
   ]
  },
  {
   "cell_type": "code",
   "execution_count": 5,
   "metadata": {},
   "outputs": [],
   "source": [
    "STARTING_DATE = '2017-03-01'\n",
    "END_DATE = '2018-03-01'"
   ]
  },
  {
   "cell_type": "code",
   "execution_count": 6,
   "metadata": {},
   "outputs": [],
   "source": [
    "DATA_FOLDER = 'historical_data'\n",
    "DICT_FOLDER = 'dictionaries'\n",
    "WEATHER_FOLDER = 'weather_data'"
   ]
  },
  {
   "cell_type": "code",
   "execution_count": 7,
   "metadata": {},
   "outputs": [],
   "source": [
    "DATA_FILE = 'merged_data.csv'"
   ]
  },
  {
   "cell_type": "code",
   "execution_count": 8,
   "metadata": {},
   "outputs": [],
   "source": [
    "CLF_FILE = 'classifier.data'"
   ]
  },
  {
   "cell_type": "markdown",
   "metadata": {},
   "source": [
    "## Merging and loading data"
   ]
  },
  {
   "cell_type": "markdown",
   "metadata": {},
   "source": [
    "### Loading flights data"
   ]
  },
  {
   "cell_type": "code",
   "execution_count": 9,
   "metadata": {},
   "outputs": [],
   "source": [
    "def get_file_list(folder_name, prefix=''):\n",
    "    return glob.glob(folder_name + '/*' + prefix + '.csv')"
   ]
  },
  {
   "cell_type": "code",
   "execution_count": 10,
   "metadata": {},
   "outputs": [],
   "source": [
    "def read_csv(file_name):\n",
    "    file_data = pd.read_csv(file_name, dtype={'CANCELLATION_CODE': str}, parse_dates=True)\n",
    "    file_data['FL_DATE'] = pd.to_datetime(file_data.FL_DATE)\n",
    "    return file_data"
   ]
  },
  {
   "cell_type": "code",
   "execution_count": 11,
   "metadata": {},
   "outputs": [],
   "source": [
    "def read_csv_backup(file_name):\n",
    "    file_data = pd.read_csv(file_name, dtype={'cancellation_code': str}, parse_dates=True)\n",
    "    file_data['fl_date'] = pd.to_datetime(file_data.fl_date)\n",
    "    file_data = file_data.drop(['Unnamed: 0'], axis = 1)\n",
    "    return file_data"
   ]
  },
  {
   "cell_type": "code",
   "execution_count": 12,
   "metadata": {},
   "outputs": [],
   "source": [
    "def gather_data(folder_name):\n",
    "    file_list = get_file_list(folder_name)\n",
    "    \n",
    "    files_data = read_csv(file_list[0])\n",
    "    for file in log_progress(file_list[1:], every=1):\n",
    "        tmp = read_csv(file)\n",
    "        files_data = pd.concat([files_data, tmp])\n",
    "        del tmp\n",
    "        \n",
    "    files_data = files_data.reindex()\n",
    "    files_data.columns = map(str.lower, files_data.columns)\n",
    "    return files_data"
   ]
  },
  {
   "cell_type": "code",
   "execution_count": 13,
   "metadata": {},
   "outputs": [],
   "source": [
    "def append_city_names(files_data, dict_folder_name):\n",
    "    files_data_df = files_data.copy()\n",
    "    city_info = pd.read_csv(dict_folder_name + '/city_codes_info.csv')\n",
    "    city_info['Description'] =  city_info['Description'].str.replace(',.*|\\/.*| City', '')\n",
    "    \n",
    "    city_info.columns = ['origin_city_market_id', 'origin_city_name']\n",
    "    files_data_df = pd.merge(files_data_df, city_info, on='origin_city_market_id')\n",
    "    \n",
    "    city_info.columns = ['dest_city_market_id', 'dest_city_name']\n",
    "    files_data_df = pd.merge(files_data_df, city_info, on='dest_city_market_id')\n",
    "    \n",
    "    del city_info\n",
    "    \n",
    "    return files_data_df"
   ]
  },
  {
   "cell_type": "code",
   "execution_count": 14,
   "metadata": {},
   "outputs": [],
   "source": [
    "def load_data(folder_name, dict_folder_name):\n",
    "    files_data = gather_data(folder_name)\n",
    "    files_data = files_data.sort_values(by='fl_date')\n",
    "    files_data = files_data.dropna(thresh=9)\n",
    "    files_data = append_city_names(files_data, dict_folder_name)\n",
    "    return files_data.reindex()"
   ]
  },
  {
   "cell_type": "code",
   "execution_count": null,
   "metadata": {},
   "outputs": [],
   "source": [
    "data = load_data(DATA_FOLDER, DICT_FOLDER)"
   ]
  },
  {
   "cell_type": "code",
   "execution_count": null,
   "metadata": {},
   "outputs": [],
   "source": [
    "data.to_csv(DATA_FILE)"
   ]
  },
  {
   "cell_type": "markdown",
   "metadata": {},
   "source": [
    "### Loading weather data"
   ]
  },
  {
   "cell_type": "code",
   "execution_count": 15,
   "metadata": {},
   "outputs": [],
   "source": [
    "def get_data_city_names(data_df):\n",
    "    return list(set(list(data['origin_city_name'].values) + list(data['dest_city_name'].values)))"
   ]
  },
  {
   "cell_type": "code",
   "execution_count": 16,
   "metadata": {},
   "outputs": [],
   "source": [
    "def load_city_codes(dict_folder_name):\n",
    "    tmp = pd.read_csv(dict_folder_name + '/weather_city_codes_info.csv')\n",
    "    tmp['name'] = tmp['name'].str.lower()\n",
    "    tmp['name'] = tmp['name'].str.replace(',.*|\\/.*| city', '')\n",
    "    tmp['name'] = tmp['name'].str.strip()\n",
    "    return tmp"
   ]
  },
  {
   "cell_type": "code",
   "execution_count": 17,
   "metadata": {},
   "outputs": [],
   "source": [
    "def get_weather_city_codes(data_df, dict_folder_name):\n",
    "    weather_cities_codes = load_city_codes(dict_folder_name)\n",
    "    data_city_names = get_data_city_names(data_df)\n",
    "    \n",
    "    processed_cities = []\n",
    "    failed_cities = []\n",
    "    for city in data_city_names:\n",
    "        city_data = weather_cities_codes[weather_cities_codes['name'].str.contains(city.lower())]\n",
    "        if len(city_data) == 0:\n",
    "            failed_cities.append(city)\n",
    "        else:\n",
    "            processed_cities.append({'name': city, 'weather_id': city_data['id'].values[0]})\n",
    "    return processed_cities, failed_cities"
   ]
  },
  {
   "cell_type": "code",
   "execution_count": 18,
   "metadata": {},
   "outputs": [],
   "source": [
    "def get_weather_for_city(city_info, start_date, end_date, api_key, limit=1000, offset=0):\n",
    "    req_url = 'http://www.ncdc.noaa.gov/cdo-web/api/v2/data?datasetid=GHCND&locationid={0}&startdate={1}&enddate={2}&limit={3}&offset={4}'\n",
    "    req_url = req_url.format(city_info['weather_id'], start_date, end_date, limit, offset)\n",
    "    \n",
    "    result_json = requests.get(req_url, headers={'token': api_key}, timeout=20)\n",
    "    result_json = json.loads(result_json.content)\n",
    "    result_data = pd.DataFrame(result_json['results'])\n",
    "    \n",
    "    if result_json['metadata']['resultset']['count'] > offset + limit:\n",
    "        return pd.concat([result_data, get_weather_for_city(city_info, start_date, end_date, api_key, limit, offset + limit)])\n",
    "    else:\n",
    "        return result_data"
   ]
  },
  {
   "cell_type": "code",
   "execution_count": 19,
   "metadata": {},
   "outputs": [],
   "source": [
    "def save_weather_data(data_df, dict_folder_name, save_folder, start_date, end_date, api_key):\n",
    "    weather_city_codes, error_cities = get_weather_city_codes(data_df, dict_folder_name)\n",
    "    \n",
    "    for city in log_progress(weather_city_codes, every=1):\n",
    "        try:\n",
    "            city_weather = get_weather_for_city(city, start_date, end_date, api_key)\n",
    "            city_weather.to_csv(save_folder + '/' + city['name'] + '.csv')\n",
    "        except Exception as e:\n",
    "            error_cities.append(city)\n",
    "            print(e)\n",
    "    return weather_city_codes, error_cities"
   ]
  },
  {
   "cell_type": "code",
   "execution_count": null,
   "metadata": {},
   "outputs": [],
   "source": [
    "ok, err = save_weather_data(data, DICT_FOLDER, WEATHER_FOLDER, STARTING_DATE, END_DATE, WEATHER_API_KEY)"
   ]
  },
  {
   "cell_type": "code",
   "execution_count": 20,
   "metadata": {},
   "outputs": [],
   "source": [
    "def filter_data_by_available_weather(data_df, weather_data_folder, prefix=''):\n",
    "    city_list = get_file_list(weather_data_folder, prefix)\n",
    "    fixed_city_list = []\n",
    "    for city in city_list:\n",
    "        fixed_city_list.append(city.replace(weather_data_folder + '/', '').replace('.csv', '').replace(prefix, ''))\n",
    "    \n",
    "    tmp_df = data_df[(data_df['origin_city_name'].isin(fixed_city_list)) | (data_df['dest_city_name'].isin(fixed_city_list))]\n",
    "    return tmp_df, city_list "
   ]
  },
  {
   "cell_type": "code",
   "execution_count": 21,
   "metadata": {},
   "outputs": [],
   "source": [
    "def read_weather_file(weather_data_folder, weather_file_path, prefix=''):\n",
    "    weather_data = pd.read_csv(weather_file_path)\n",
    "    weather_data['date'] = pd.to_datetime(weather_data.date)\n",
    "    weather_data = weather_data.drop(['Unnamed: 0', 'attributes', 'station'], axis=1)\n",
    "    weather_data = weather_data.rename(columns={'date': 'fl_date'})\n",
    "    weather_data = weather_data.drop_duplicates([\"fl_date\", \"datatype\"])\n",
    "    weather_data = weather_data.pivot_table(weather_data, index='fl_date', columns='datatype', aggfunc=sum, fill_value=0)\n",
    "    weather_data = weather_data.reset_index()\n",
    "    weather_data_value = weather_data['value'].copy()\n",
    "    weather_data_value['fl_date'] = weather_data['fl_date']\n",
    "    del weather_data\n",
    "    selected_cols = ['fl_date', 'AWND', 'SNOW', 'SNWD', 'WT01', 'WT02', 'WT03', 'WT04', 'WT05', 'WT06', 'WT07', 'WT08', 'WT09', 'WT10', 'WT11']\n",
    "    available_cols = list(set(weather_data_value.columns).intersection(selected_cols))\n",
    "    na_cols = list(set(selected_cols) - set(available_cols))\n",
    "    weather_data_value = weather_data_value[available_cols]\n",
    "    \n",
    "    for na_col in na_cols:\n",
    "        weather_data_value[na_col] = None\n",
    "    \n",
    "    weather_data_value = weather_data_value.rename({'SNOW': 'snowfall_mm', 'SNWD': 'snow_depth_mm', 'AWND': 'avg_wind_ms', 'WT08': 'smoke', 'WT01': 'fog', 'WT03': 'thunder'})\n",
    "    weather_data_value['city_name'] = weather_file_path.replace(weather_data_folder + '/', '').replace('.csv', '').replace(prefix, '')\n",
    "    \n",
    "    return weather_data_value"
   ]
  },
  {
   "cell_type": "code",
   "execution_count": 22,
   "metadata": {},
   "outputs": [],
   "source": [
    "def merge_data_with_weather(data_df, weather_data_folder, prefix=''):\n",
    "    filtered_df, city_list = filter_data_by_available_weather(data_df, weather_data_folder, prefix=prefix)\n",
    "    dfs = []\n",
    "    \n",
    "    for city in log_progress(city_list, every=1):\n",
    "        tmp = read_weather_file(weather_data_folder, city, prefix=prefix)\n",
    "        tmp = tmp.rename(columns={'city_name': 'origin_city_name'})\n",
    "        dfs.append(pd.merge(filtered_df, tmp, on=['fl_date', 'origin_city_name']))\n",
    "        tmp = tmp.rename(columns={'origin_city_name': 'dest_city_name'})\n",
    "        dfs.append(pd.merge(filtered_df, tmp, on=['fl_date', 'dest_city_name']))\n",
    "        del tmp\n",
    "        gc.collect()\n",
    "        \n",
    "    final_df = pd.concat(dfs)\n",
    "    final_df = final_df.sort_values(by=['fl_date', 'origin_city_name', 'dest_city_name'])\n",
    "    return final_df"
   ]
  },
  {
   "cell_type": "code",
   "execution_count": null,
   "metadata": {},
   "outputs": [],
   "source": [
    "data = merge_data_with_weather(data, WEATHER_FOLDER, prefix='2017')"
   ]
  },
  {
   "cell_type": "code",
   "execution_count": null,
   "metadata": {},
   "outputs": [],
   "source": [
    "data.to_csv(DATA_FILE)"
   ]
  },
  {
   "cell_type": "markdown",
   "metadata": {},
   "source": [
    "## Preprocessing data "
   ]
  },
  {
   "cell_type": "code",
   "execution_count": 23,
   "metadata": {},
   "outputs": [],
   "source": [
    "data = read_csv_backup(DATA_FILE)"
   ]
  },
  {
   "cell_type": "code",
   "execution_count": 24,
   "metadata": {},
   "outputs": [],
   "source": [
    "def get_dependent_variable_value(cancelled, cancelled_code, dep_delay_new):\n",
    "    if cancelled == 1 or cancelled_code != 'E':\n",
    "        return 'cancelled_flight'\n",
    "    if dep_delay_new > 360:\n",
    "        return 'extra_long_delay'\n",
    "    if dep_delay_new > 180:\n",
    "        return 'long_delay'\n",
    "    if dep_delay_new > 45:\n",
    "        return 'moderate_delay'\n",
    "    return 'no_delay'"
   ]
  },
  {
   "cell_type": "code",
   "execution_count": 25,
   "metadata": {},
   "outputs": [],
   "source": [
    "def preprocess_data(file_data):\n",
    "    data_df = file_data.copy()\n",
    "    data_df = data_df.drop(['origin_airport_id', 'origin_airport_seq_id', 'origin_city_market_id', 'dest_airport_id', 'dest_airport_seq_id', 'dest_city_market_id', 'year', 'unnamed: 28'], axis=1)\n",
    "    data_df = data_df.fillna(value={'cancellation_code': 'E'})\n",
    "    data_df = data_df.fillna(0)\n",
    "    data_df['fog'] = list(map(int , (data_df['WT01'] + data_df['WT02']).values > 0))\n",
    "    data_df['hail'] = list(map(int , (data_df['WT04'] + data_df['WT05']).values > 0))\n",
    "    data_df['damaging_wind'] = list(map(int , (data_df['WT10'] + data_df['WT11']).values > 0))\n",
    "    data_df = data_df.drop(['WT01', 'WT02', 'WT04', 'WT05', 'WT06', 'WT10', 'WT11'], axis=1)\n",
    "    data_df = data_df.rename(columns={'SNOW': 'snowfall', 'SNWD': 'snow_depth', 'AWND': 'average_wind_speed','WT03': 'thunder', 'WT07': 'dust', 'WT08': 'haze', 'WT09': 'snow'})\n",
    "    \n",
    "    data_df['cancellation_code'] = list(map(str, data_df['cancellation_code']))\n",
    "    data_df['carrier'] = list(map(str, data_df['carrier']))\n",
    "    data_df['dest'] = list(map(str, data_df['dest']))\n",
    "    data_df['dest_city_name'] = list(map(str, data_df['dest_city_name']))\n",
    "    data_df['origin'] = list(map(str, data_df['origin']))\n",
    "    data_df['origin_city_name'] = list(map(str, data_df['origin_city_name']))\n",
    "    data_df['cancelled'] = list(map(int, data_df['cancelled']))\n",
    "    data_df['diverted'] = list(map(int, data_df['diverted']))\n",
    "    \n",
    "    with concurrent.futures.ProcessPoolExecutor(16) as pool:\n",
    "        data_df['status'] = list(pool.map(get_dependent_variable_value, data_df['cancelled'], data_df['cancellation_code'], data_df['dep_delay_new'], chunksize=1_000))\n",
    "    return data_df"
   ]
  },
  {
   "cell_type": "code",
   "execution_count": 26,
   "metadata": {},
   "outputs": [],
   "source": [
    "data = preprocess_data(data)"
   ]
  },
  {
   "cell_type": "markdown",
   "metadata": {},
   "source": [
    "## Analysis with additional data"
   ]
  },
  {
   "cell_type": "markdown",
   "metadata": {},
   "source": [
    "Overall data info"
   ]
  },
  {
   "cell_type": "code",
   "execution_count": 27,
   "metadata": {},
   "outputs": [
    {
     "data": {
      "text/html": [
       "<div>\n",
       "<style scoped>\n",
       "    .dataframe tbody tr th:only-of-type {\n",
       "        vertical-align: middle;\n",
       "    }\n",
       "\n",
       "    .dataframe tbody tr th {\n",
       "        vertical-align: top;\n",
       "    }\n",
       "\n",
       "    .dataframe thead th {\n",
       "        text-align: right;\n",
       "    }\n",
       "</style>\n",
       "<table border=\"1\" class=\"dataframe\">\n",
       "  <thead>\n",
       "    <tr style=\"text-align: right;\">\n",
       "      <th></th>\n",
       "      <th>average_wind_speed</th>\n",
       "      <th>snowfall</th>\n",
       "      <th>snow_depth</th>\n",
       "      <th>thunder</th>\n",
       "      <th>dust</th>\n",
       "      <th>haze</th>\n",
       "      <th>snow</th>\n",
       "      <th>cancelled</th>\n",
       "      <th>carrier_delay</th>\n",
       "      <th>crs_dep_time</th>\n",
       "      <th>...</th>\n",
       "      <th>fl_num</th>\n",
       "      <th>late_aircraft_delay</th>\n",
       "      <th>month</th>\n",
       "      <th>nas_delay</th>\n",
       "      <th>quarter</th>\n",
       "      <th>security_delay</th>\n",
       "      <th>weather_delay</th>\n",
       "      <th>fog</th>\n",
       "      <th>hail</th>\n",
       "      <th>damaging_wind</th>\n",
       "    </tr>\n",
       "  </thead>\n",
       "  <tbody>\n",
       "    <tr>\n",
       "      <th>count</th>\n",
       "      <td>6.864696e+06</td>\n",
       "      <td>6.864696e+06</td>\n",
       "      <td>6.864696e+06</td>\n",
       "      <td>6.864696e+06</td>\n",
       "      <td>6.864696e+06</td>\n",
       "      <td>6.864696e+06</td>\n",
       "      <td>6.864696e+06</td>\n",
       "      <td>6.864696e+06</td>\n",
       "      <td>6.864696e+06</td>\n",
       "      <td>6.864696e+06</td>\n",
       "      <td>...</td>\n",
       "      <td>6.864696e+06</td>\n",
       "      <td>6.864696e+06</td>\n",
       "      <td>6.864696e+06</td>\n",
       "      <td>6.864696e+06</td>\n",
       "      <td>6.864696e+06</td>\n",
       "      <td>6.864696e+06</td>\n",
       "      <td>6.864696e+06</td>\n",
       "      <td>6.864696e+06</td>\n",
       "      <td>6.864696e+06</td>\n",
       "      <td>6.864696e+06</td>\n",
       "    </tr>\n",
       "    <tr>\n",
       "      <th>mean</th>\n",
       "      <td>3.013919e+01</td>\n",
       "      <td>9.157804e-01</td>\n",
       "      <td>5.816116e+00</td>\n",
       "      <td>1.941152e-01</td>\n",
       "      <td>1.863010e-03</td>\n",
       "      <td>1.748570e-01</td>\n",
       "      <td>2.044664e-03</td>\n",
       "      <td>1.435533e-02</td>\n",
       "      <td>3.659717e+00</td>\n",
       "      <td>1.329883e+03</td>\n",
       "      <td>...</td>\n",
       "      <td>2.245465e+03</td>\n",
       "      <td>4.274664e+00</td>\n",
       "      <td>6.517366e+00</td>\n",
       "      <td>2.387471e+00</td>\n",
       "      <td>2.506190e+00</td>\n",
       "      <td>1.592015e-02</td>\n",
       "      <td>5.145004e-01</td>\n",
       "      <td>4.200708e-01</td>\n",
       "      <td>1.331902e-02</td>\n",
       "      <td>1.332208e-02</td>\n",
       "    </tr>\n",
       "    <tr>\n",
       "      <th>std</th>\n",
       "      <td>2.337194e+01</td>\n",
       "      <td>1.028999e+01</td>\n",
       "      <td>3.968343e+01</td>\n",
       "      <td>3.955180e-01</td>\n",
       "      <td>4.312238e-02</td>\n",
       "      <td>3.798448e-01</td>\n",
       "      <td>4.517172e-02</td>\n",
       "      <td>1.189507e-01</td>\n",
       "      <td>2.847030e+01</td>\n",
       "      <td>4.880833e+02</td>\n",
       "      <td>...</td>\n",
       "      <td>1.726219e+03</td>\n",
       "      <td>2.186512e+01</td>\n",
       "      <td>3.402329e+00</td>\n",
       "      <td>1.507838e+01</td>\n",
       "      <td>1.106661e+00</td>\n",
       "      <td>1.347102e+00</td>\n",
       "      <td>1.098505e+01</td>\n",
       "      <td>4.935700e-01</td>\n",
       "      <td>1.146369e-01</td>\n",
       "      <td>1.146499e-01</td>\n",
       "    </tr>\n",
       "    <tr>\n",
       "      <th>min</th>\n",
       "      <td>0.000000e+00</td>\n",
       "      <td>0.000000e+00</td>\n",
       "      <td>0.000000e+00</td>\n",
       "      <td>0.000000e+00</td>\n",
       "      <td>0.000000e+00</td>\n",
       "      <td>0.000000e+00</td>\n",
       "      <td>0.000000e+00</td>\n",
       "      <td>0.000000e+00</td>\n",
       "      <td>0.000000e+00</td>\n",
       "      <td>1.000000e+00</td>\n",
       "      <td>...</td>\n",
       "      <td>1.000000e+00</td>\n",
       "      <td>0.000000e+00</td>\n",
       "      <td>1.000000e+00</td>\n",
       "      <td>0.000000e+00</td>\n",
       "      <td>1.000000e+00</td>\n",
       "      <td>0.000000e+00</td>\n",
       "      <td>0.000000e+00</td>\n",
       "      <td>0.000000e+00</td>\n",
       "      <td>0.000000e+00</td>\n",
       "      <td>0.000000e+00</td>\n",
       "    </tr>\n",
       "    <tr>\n",
       "      <th>25%</th>\n",
       "      <td>1.700000e+01</td>\n",
       "      <td>0.000000e+00</td>\n",
       "      <td>0.000000e+00</td>\n",
       "      <td>0.000000e+00</td>\n",
       "      <td>0.000000e+00</td>\n",
       "      <td>0.000000e+00</td>\n",
       "      <td>0.000000e+00</td>\n",
       "      <td>0.000000e+00</td>\n",
       "      <td>0.000000e+00</td>\n",
       "      <td>9.150000e+02</td>\n",
       "      <td>...</td>\n",
       "      <td>8.680000e+02</td>\n",
       "      <td>0.000000e+00</td>\n",
       "      <td>4.000000e+00</td>\n",
       "      <td>0.000000e+00</td>\n",
       "      <td>2.000000e+00</td>\n",
       "      <td>0.000000e+00</td>\n",
       "      <td>0.000000e+00</td>\n",
       "      <td>0.000000e+00</td>\n",
       "      <td>0.000000e+00</td>\n",
       "      <td>0.000000e+00</td>\n",
       "    </tr>\n",
       "    <tr>\n",
       "      <th>50%</th>\n",
       "      <td>2.900000e+01</td>\n",
       "      <td>0.000000e+00</td>\n",
       "      <td>0.000000e+00</td>\n",
       "      <td>0.000000e+00</td>\n",
       "      <td>0.000000e+00</td>\n",
       "      <td>0.000000e+00</td>\n",
       "      <td>0.000000e+00</td>\n",
       "      <td>0.000000e+00</td>\n",
       "      <td>0.000000e+00</td>\n",
       "      <td>1.325000e+03</td>\n",
       "      <td>...</td>\n",
       "      <td>1.775000e+03</td>\n",
       "      <td>0.000000e+00</td>\n",
       "      <td>7.000000e+00</td>\n",
       "      <td>0.000000e+00</td>\n",
       "      <td>3.000000e+00</td>\n",
       "      <td>0.000000e+00</td>\n",
       "      <td>0.000000e+00</td>\n",
       "      <td>0.000000e+00</td>\n",
       "      <td>0.000000e+00</td>\n",
       "      <td>0.000000e+00</td>\n",
       "    </tr>\n",
       "    <tr>\n",
       "      <th>75%</th>\n",
       "      <td>4.100000e+01</td>\n",
       "      <td>0.000000e+00</td>\n",
       "      <td>0.000000e+00</td>\n",
       "      <td>0.000000e+00</td>\n",
       "      <td>0.000000e+00</td>\n",
       "      <td>0.000000e+00</td>\n",
       "      <td>0.000000e+00</td>\n",
       "      <td>0.000000e+00</td>\n",
       "      <td>0.000000e+00</td>\n",
       "      <td>1.735000e+03</td>\n",
       "      <td>...</td>\n",
       "      <td>3.250000e+03</td>\n",
       "      <td>0.000000e+00</td>\n",
       "      <td>9.000000e+00</td>\n",
       "      <td>0.000000e+00</td>\n",
       "      <td>3.000000e+00</td>\n",
       "      <td>0.000000e+00</td>\n",
       "      <td>0.000000e+00</td>\n",
       "      <td>1.000000e+00</td>\n",
       "      <td>0.000000e+00</td>\n",
       "      <td>0.000000e+00</td>\n",
       "    </tr>\n",
       "    <tr>\n",
       "      <th>max</th>\n",
       "      <td>1.073000e+03</td>\n",
       "      <td>8.230000e+02</td>\n",
       "      <td>1.626000e+03</td>\n",
       "      <td>1.000000e+00</td>\n",
       "      <td>1.000000e+00</td>\n",
       "      <td>1.000000e+00</td>\n",
       "      <td>1.000000e+00</td>\n",
       "      <td>1.000000e+00</td>\n",
       "      <td>1.934000e+03</td>\n",
       "      <td>2.359000e+03</td>\n",
       "      <td>...</td>\n",
       "      <td>8.402000e+03</td>\n",
       "      <td>1.428000e+03</td>\n",
       "      <td>1.200000e+01</td>\n",
       "      <td>1.605000e+03</td>\n",
       "      <td>4.000000e+00</td>\n",
       "      <td>8.270000e+02</td>\n",
       "      <td>1.934000e+03</td>\n",
       "      <td>1.000000e+00</td>\n",
       "      <td>1.000000e+00</td>\n",
       "      <td>1.000000e+00</td>\n",
       "    </tr>\n",
       "  </tbody>\n",
       "</table>\n",
       "<p>8 rows × 25 columns</p>\n",
       "</div>"
      ],
      "text/plain": [
       "       average_wind_speed      snowfall    snow_depth       thunder  \\\n",
       "count        6.864696e+06  6.864696e+06  6.864696e+06  6.864696e+06   \n",
       "mean         3.013919e+01  9.157804e-01  5.816116e+00  1.941152e-01   \n",
       "std          2.337194e+01  1.028999e+01  3.968343e+01  3.955180e-01   \n",
       "min          0.000000e+00  0.000000e+00  0.000000e+00  0.000000e+00   \n",
       "25%          1.700000e+01  0.000000e+00  0.000000e+00  0.000000e+00   \n",
       "50%          2.900000e+01  0.000000e+00  0.000000e+00  0.000000e+00   \n",
       "75%          4.100000e+01  0.000000e+00  0.000000e+00  0.000000e+00   \n",
       "max          1.073000e+03  8.230000e+02  1.626000e+03  1.000000e+00   \n",
       "\n",
       "               dust          haze          snow     cancelled  carrier_delay  \\\n",
       "count  6.864696e+06  6.864696e+06  6.864696e+06  6.864696e+06   6.864696e+06   \n",
       "mean   1.863010e-03  1.748570e-01  2.044664e-03  1.435533e-02   3.659717e+00   \n",
       "std    4.312238e-02  3.798448e-01  4.517172e-02  1.189507e-01   2.847030e+01   \n",
       "min    0.000000e+00  0.000000e+00  0.000000e+00  0.000000e+00   0.000000e+00   \n",
       "25%    0.000000e+00  0.000000e+00  0.000000e+00  0.000000e+00   0.000000e+00   \n",
       "50%    0.000000e+00  0.000000e+00  0.000000e+00  0.000000e+00   0.000000e+00   \n",
       "75%    0.000000e+00  0.000000e+00  0.000000e+00  0.000000e+00   0.000000e+00   \n",
       "max    1.000000e+00  1.000000e+00  1.000000e+00  1.000000e+00   1.934000e+03   \n",
       "\n",
       "       crs_dep_time      ...              fl_num  late_aircraft_delay  \\\n",
       "count  6.864696e+06      ...        6.864696e+06         6.864696e+06   \n",
       "mean   1.329883e+03      ...        2.245465e+03         4.274664e+00   \n",
       "std    4.880833e+02      ...        1.726219e+03         2.186512e+01   \n",
       "min    1.000000e+00      ...        1.000000e+00         0.000000e+00   \n",
       "25%    9.150000e+02      ...        8.680000e+02         0.000000e+00   \n",
       "50%    1.325000e+03      ...        1.775000e+03         0.000000e+00   \n",
       "75%    1.735000e+03      ...        3.250000e+03         0.000000e+00   \n",
       "max    2.359000e+03      ...        8.402000e+03         1.428000e+03   \n",
       "\n",
       "              month     nas_delay       quarter  security_delay  \\\n",
       "count  6.864696e+06  6.864696e+06  6.864696e+06    6.864696e+06   \n",
       "mean   6.517366e+00  2.387471e+00  2.506190e+00    1.592015e-02   \n",
       "std    3.402329e+00  1.507838e+01  1.106661e+00    1.347102e+00   \n",
       "min    1.000000e+00  0.000000e+00  1.000000e+00    0.000000e+00   \n",
       "25%    4.000000e+00  0.000000e+00  2.000000e+00    0.000000e+00   \n",
       "50%    7.000000e+00  0.000000e+00  3.000000e+00    0.000000e+00   \n",
       "75%    9.000000e+00  0.000000e+00  3.000000e+00    0.000000e+00   \n",
       "max    1.200000e+01  1.605000e+03  4.000000e+00    8.270000e+02   \n",
       "\n",
       "       weather_delay           fog          hail  damaging_wind  \n",
       "count   6.864696e+06  6.864696e+06  6.864696e+06   6.864696e+06  \n",
       "mean    5.145004e-01  4.200708e-01  1.331902e-02   1.332208e-02  \n",
       "std     1.098505e+01  4.935700e-01  1.146369e-01   1.146499e-01  \n",
       "min     0.000000e+00  0.000000e+00  0.000000e+00   0.000000e+00  \n",
       "25%     0.000000e+00  0.000000e+00  0.000000e+00   0.000000e+00  \n",
       "50%     0.000000e+00  0.000000e+00  0.000000e+00   0.000000e+00  \n",
       "75%     0.000000e+00  1.000000e+00  0.000000e+00   0.000000e+00  \n",
       "max     1.934000e+03  1.000000e+00  1.000000e+00   1.000000e+00  \n",
       "\n",
       "[8 rows x 25 columns]"
      ]
     },
     "execution_count": 27,
     "metadata": {},
     "output_type": "execute_result"
    }
   ],
   "source": [
    "data.describe()"
   ]
  },
  {
   "cell_type": "markdown",
   "metadata": {},
   "source": [
    "Correlations"
   ]
  },
  {
   "cell_type": "code",
   "execution_count": 28,
   "metadata": {},
   "outputs": [
    {
     "data": {
      "text/html": [
       "<div>\n",
       "<style scoped>\n",
       "    .dataframe tbody tr th:only-of-type {\n",
       "        vertical-align: middle;\n",
       "    }\n",
       "\n",
       "    .dataframe tbody tr th {\n",
       "        vertical-align: top;\n",
       "    }\n",
       "\n",
       "    .dataframe thead th {\n",
       "        text-align: right;\n",
       "    }\n",
       "</style>\n",
       "<table border=\"1\" class=\"dataframe\">\n",
       "  <thead>\n",
       "    <tr style=\"text-align: right;\">\n",
       "      <th></th>\n",
       "      <th>average_wind_speed</th>\n",
       "      <th>snowfall</th>\n",
       "      <th>snow_depth</th>\n",
       "      <th>thunder</th>\n",
       "      <th>dust</th>\n",
       "      <th>haze</th>\n",
       "      <th>snow</th>\n",
       "      <th>cancelled</th>\n",
       "      <th>carrier_delay</th>\n",
       "      <th>crs_dep_time</th>\n",
       "      <th>...</th>\n",
       "      <th>fl_num</th>\n",
       "      <th>late_aircraft_delay</th>\n",
       "      <th>month</th>\n",
       "      <th>nas_delay</th>\n",
       "      <th>quarter</th>\n",
       "      <th>security_delay</th>\n",
       "      <th>weather_delay</th>\n",
       "      <th>fog</th>\n",
       "      <th>hail</th>\n",
       "      <th>damaging_wind</th>\n",
       "    </tr>\n",
       "  </thead>\n",
       "  <tbody>\n",
       "    <tr>\n",
       "      <th>average_wind_speed</th>\n",
       "      <td>1.000000</td>\n",
       "      <td>0.021309</td>\n",
       "      <td>-0.008441</td>\n",
       "      <td>0.028255</td>\n",
       "      <td>0.019842</td>\n",
       "      <td>0.036569</td>\n",
       "      <td>0.044995</td>\n",
       "      <td>0.050045</td>\n",
       "      <td>0.004564</td>\n",
       "      <td>-0.004897</td>\n",
       "      <td>...</td>\n",
       "      <td>-0.000392</td>\n",
       "      <td>0.005937</td>\n",
       "      <td>-0.107523</td>\n",
       "      <td>0.008310</td>\n",
       "      <td>-0.108282</td>\n",
       "      <td>-0.001354</td>\n",
       "      <td>0.004523</td>\n",
       "      <td>0.037068</td>\n",
       "      <td>0.066502</td>\n",
       "      <td>0.101564</td>\n",
       "    </tr>\n",
       "    <tr>\n",
       "      <th>snowfall</th>\n",
       "      <td>0.021309</td>\n",
       "      <td>1.000000</td>\n",
       "      <td>0.430616</td>\n",
       "      <td>-0.041081</td>\n",
       "      <td>-0.003822</td>\n",
       "      <td>0.022871</td>\n",
       "      <td>0.180349</td>\n",
       "      <td>0.036064</td>\n",
       "      <td>0.006956</td>\n",
       "      <td>0.000398</td>\n",
       "      <td>...</td>\n",
       "      <td>0.016538</td>\n",
       "      <td>0.009669</td>\n",
       "      <td>-0.037882</td>\n",
       "      <td>0.014100</td>\n",
       "      <td>-0.042338</td>\n",
       "      <td>-0.000096</td>\n",
       "      <td>0.012876</td>\n",
       "      <td>0.055479</td>\n",
       "      <td>0.045186</td>\n",
       "      <td>0.010022</td>\n",
       "    </tr>\n",
       "    <tr>\n",
       "      <th>snow_depth</th>\n",
       "      <td>-0.008441</td>\n",
       "      <td>0.430616</td>\n",
       "      <td>1.000000</td>\n",
       "      <td>-0.069775</td>\n",
       "      <td>-0.006302</td>\n",
       "      <td>0.033287</td>\n",
       "      <td>0.108944</td>\n",
       "      <td>0.010998</td>\n",
       "      <td>0.004550</td>\n",
       "      <td>0.002224</td>\n",
       "      <td>...</td>\n",
       "      <td>0.017113</td>\n",
       "      <td>0.003301</td>\n",
       "      <td>-0.103923</td>\n",
       "      <td>0.005629</td>\n",
       "      <td>-0.105376</td>\n",
       "      <td>0.000523</td>\n",
       "      <td>0.007739</td>\n",
       "      <td>0.032058</td>\n",
       "      <td>0.053928</td>\n",
       "      <td>-0.000014</td>\n",
       "    </tr>\n",
       "    <tr>\n",
       "      <th>thunder</th>\n",
       "      <td>0.028255</td>\n",
       "      <td>-0.041081</td>\n",
       "      <td>-0.069775</td>\n",
       "      <td>1.000000</td>\n",
       "      <td>0.028693</td>\n",
       "      <td>0.099525</td>\n",
       "      <td>-0.015431</td>\n",
       "      <td>0.019723</td>\n",
       "      <td>0.016844</td>\n",
       "      <td>-0.000863</td>\n",
       "      <td>...</td>\n",
       "      <td>-0.025847</td>\n",
       "      <td>0.047943</td>\n",
       "      <td>-0.020580</td>\n",
       "      <td>0.056091</td>\n",
       "      <td>-0.009056</td>\n",
       "      <td>0.000557</td>\n",
       "      <td>0.025848</td>\n",
       "      <td>0.325703</td>\n",
       "      <td>0.075790</td>\n",
       "      <td>0.067413</td>\n",
       "    </tr>\n",
       "    <tr>\n",
       "      <th>dust</th>\n",
       "      <td>0.019842</td>\n",
       "      <td>-0.003822</td>\n",
       "      <td>-0.006302</td>\n",
       "      <td>0.028693</td>\n",
       "      <td>1.000000</td>\n",
       "      <td>0.088185</td>\n",
       "      <td>-0.001507</td>\n",
       "      <td>0.000580</td>\n",
       "      <td>0.000458</td>\n",
       "      <td>0.001375</td>\n",
       "      <td>...</td>\n",
       "      <td>-0.000666</td>\n",
       "      <td>0.006023</td>\n",
       "      <td>0.007804</td>\n",
       "      <td>0.006411</td>\n",
       "      <td>0.010880</td>\n",
       "      <td>-0.000277</td>\n",
       "      <td>0.004732</td>\n",
       "      <td>-0.022663</td>\n",
       "      <td>-0.004519</td>\n",
       "      <td>-0.001573</td>\n",
       "    </tr>\n",
       "    <tr>\n",
       "      <th>haze</th>\n",
       "      <td>0.036569</td>\n",
       "      <td>0.022871</td>\n",
       "      <td>0.033287</td>\n",
       "      <td>0.099525</td>\n",
       "      <td>0.088185</td>\n",
       "      <td>1.000000</td>\n",
       "      <td>0.049919</td>\n",
       "      <td>0.016287</td>\n",
       "      <td>0.005255</td>\n",
       "      <td>-0.003853</td>\n",
       "      <td>...</td>\n",
       "      <td>0.008361</td>\n",
       "      <td>0.007695</td>\n",
       "      <td>-0.011354</td>\n",
       "      <td>0.016038</td>\n",
       "      <td>-0.010203</td>\n",
       "      <td>0.000275</td>\n",
       "      <td>0.009990</td>\n",
       "      <td>0.263517</td>\n",
       "      <td>0.046553</td>\n",
       "      <td>0.000589</td>\n",
       "    </tr>\n",
       "    <tr>\n",
       "      <th>snow</th>\n",
       "      <td>0.044995</td>\n",
       "      <td>0.180349</td>\n",
       "      <td>0.108944</td>\n",
       "      <td>-0.015431</td>\n",
       "      <td>-0.001507</td>\n",
       "      <td>0.049919</td>\n",
       "      <td>1.000000</td>\n",
       "      <td>0.013325</td>\n",
       "      <td>0.004818</td>\n",
       "      <td>-0.000760</td>\n",
       "      <td>...</td>\n",
       "      <td>0.012946</td>\n",
       "      <td>0.007016</td>\n",
       "      <td>-0.005095</td>\n",
       "      <td>0.013993</td>\n",
       "      <td>-0.010126</td>\n",
       "      <td>0.000415</td>\n",
       "      <td>0.012324</td>\n",
       "      <td>0.047643</td>\n",
       "      <td>0.038907</td>\n",
       "      <td>0.042474</td>\n",
       "    </tr>\n",
       "    <tr>\n",
       "      <th>cancelled</th>\n",
       "      <td>0.050045</td>\n",
       "      <td>0.036064</td>\n",
       "      <td>0.010998</td>\n",
       "      <td>0.019723</td>\n",
       "      <td>0.000580</td>\n",
       "      <td>0.016287</td>\n",
       "      <td>0.013325</td>\n",
       "      <td>1.000000</td>\n",
       "      <td>-0.015513</td>\n",
       "      <td>0.010598</td>\n",
       "      <td>...</td>\n",
       "      <td>0.001510</td>\n",
       "      <td>-0.023594</td>\n",
       "      <td>-0.002816</td>\n",
       "      <td>-0.019109</td>\n",
       "      <td>-0.008315</td>\n",
       "      <td>-0.001426</td>\n",
       "      <td>-0.005652</td>\n",
       "      <td>0.035032</td>\n",
       "      <td>0.029265</td>\n",
       "      <td>0.017733</td>\n",
       "    </tr>\n",
       "    <tr>\n",
       "      <th>carrier_delay</th>\n",
       "      <td>0.004564</td>\n",
       "      <td>0.006956</td>\n",
       "      <td>0.004550</td>\n",
       "      <td>0.016844</td>\n",
       "      <td>0.000458</td>\n",
       "      <td>0.005255</td>\n",
       "      <td>0.004818</td>\n",
       "      <td>-0.015513</td>\n",
       "      <td>1.000000</td>\n",
       "      <td>0.013969</td>\n",
       "      <td>...</td>\n",
       "      <td>0.022078</td>\n",
       "      <td>0.049343</td>\n",
       "      <td>-0.010622</td>\n",
       "      <td>0.020708</td>\n",
       "      <td>-0.009216</td>\n",
       "      <td>-0.000735</td>\n",
       "      <td>-0.002588</td>\n",
       "      <td>0.010912</td>\n",
       "      <td>0.006326</td>\n",
       "      <td>0.003697</td>\n",
       "    </tr>\n",
       "    <tr>\n",
       "      <th>crs_dep_time</th>\n",
       "      <td>-0.004897</td>\n",
       "      <td>0.000398</td>\n",
       "      <td>0.002224</td>\n",
       "      <td>-0.000863</td>\n",
       "      <td>0.001375</td>\n",
       "      <td>-0.003853</td>\n",
       "      <td>-0.000760</td>\n",
       "      <td>0.010598</td>\n",
       "      <td>0.013969</td>\n",
       "      <td>1.000000</td>\n",
       "      <td>...</td>\n",
       "      <td>0.027201</td>\n",
       "      <td>0.106210</td>\n",
       "      <td>-0.001003</td>\n",
       "      <td>0.026991</td>\n",
       "      <td>-0.001404</td>\n",
       "      <td>0.002503</td>\n",
       "      <td>0.012579</td>\n",
       "      <td>-0.002033</td>\n",
       "      <td>0.000100</td>\n",
       "      <td>0.002139</td>\n",
       "    </tr>\n",
       "    <tr>\n",
       "      <th>crs_elapsed_time</th>\n",
       "      <td>-0.007995</td>\n",
       "      <td>-0.001181</td>\n",
       "      <td>0.007759</td>\n",
       "      <td>0.005621</td>\n",
       "      <td>0.006478</td>\n",
       "      <td>0.000435</td>\n",
       "      <td>-0.001962</td>\n",
       "      <td>-0.010348</td>\n",
       "      <td>-0.000161</td>\n",
       "      <td>-0.018258</td>\n",
       "      <td>...</td>\n",
       "      <td>-0.243725</td>\n",
       "      <td>-0.013028</td>\n",
       "      <td>-0.001430</td>\n",
       "      <td>0.031641</td>\n",
       "      <td>-0.002864</td>\n",
       "      <td>0.004173</td>\n",
       "      <td>-0.001985</td>\n",
       "      <td>-0.019481</td>\n",
       "      <td>-0.000615</td>\n",
       "      <td>0.000208</td>\n",
       "    </tr>\n",
       "    <tr>\n",
       "      <th>day_of_month</th>\n",
       "      <td>-0.005125</td>\n",
       "      <td>-0.006673</td>\n",
       "      <td>0.002386</td>\n",
       "      <td>-0.026763</td>\n",
       "      <td>0.005362</td>\n",
       "      <td>-0.011477</td>\n",
       "      <td>-0.010891</td>\n",
       "      <td>-0.027495</td>\n",
       "      <td>-0.004232</td>\n",
       "      <td>0.000928</td>\n",
       "      <td>...</td>\n",
       "      <td>0.009591</td>\n",
       "      <td>-0.012439</td>\n",
       "      <td>0.008779</td>\n",
       "      <td>-0.013670</td>\n",
       "      <td>0.009259</td>\n",
       "      <td>-0.001401</td>\n",
       "      <td>-0.012673</td>\n",
       "      <td>-0.023698</td>\n",
       "      <td>0.000582</td>\n",
       "      <td>-0.017307</td>\n",
       "    </tr>\n",
       "    <tr>\n",
       "      <th>day_of_week</th>\n",
       "      <td>-0.007071</td>\n",
       "      <td>-0.000281</td>\n",
       "      <td>0.004468</td>\n",
       "      <td>-0.019478</td>\n",
       "      <td>0.012439</td>\n",
       "      <td>-0.026451</td>\n",
       "      <td>-0.008166</td>\n",
       "      <td>-0.003052</td>\n",
       "      <td>0.005497</td>\n",
       "      <td>0.007899</td>\n",
       "      <td>...</td>\n",
       "      <td>0.073128</td>\n",
       "      <td>-0.003399</td>\n",
       "      <td>0.015840</td>\n",
       "      <td>-0.005831</td>\n",
       "      <td>0.013493</td>\n",
       "      <td>0.002050</td>\n",
       "      <td>0.000850</td>\n",
       "      <td>-0.029306</td>\n",
       "      <td>-0.022660</td>\n",
       "      <td>-0.033708</td>\n",
       "    </tr>\n",
       "    <tr>\n",
       "      <th>dep_delay_new</th>\n",
       "      <td>0.007503</td>\n",
       "      <td>0.013898</td>\n",
       "      <td>0.006606</td>\n",
       "      <td>0.054833</td>\n",
       "      <td>0.006026</td>\n",
       "      <td>0.012836</td>\n",
       "      <td>0.012047</td>\n",
       "      <td>-0.028845</td>\n",
       "      <td>0.711218</td>\n",
       "      <td>0.092837</td>\n",
       "      <td>...</td>\n",
       "      <td>0.020777</td>\n",
       "      <td>0.582092</td>\n",
       "      <td>-0.022724</td>\n",
       "      <td>0.311267</td>\n",
       "      <td>-0.019907</td>\n",
       "      <td>0.034061</td>\n",
       "      <td>0.271424</td>\n",
       "      <td>0.031205</td>\n",
       "      <td>0.015936</td>\n",
       "      <td>0.008547</td>\n",
       "    </tr>\n",
       "    <tr>\n",
       "      <th>diverted</th>\n",
       "      <td>0.002575</td>\n",
       "      <td>0.002273</td>\n",
       "      <td>0.003678</td>\n",
       "      <td>0.022878</td>\n",
       "      <td>0.006954</td>\n",
       "      <td>0.009273</td>\n",
       "      <td>0.001308</td>\n",
       "      <td>-0.005105</td>\n",
       "      <td>-0.005893</td>\n",
       "      <td>0.001447</td>\n",
       "      <td>...</td>\n",
       "      <td>0.004778</td>\n",
       "      <td>-0.008963</td>\n",
       "      <td>-0.005338</td>\n",
       "      <td>-0.007259</td>\n",
       "      <td>-0.004643</td>\n",
       "      <td>-0.000542</td>\n",
       "      <td>-0.002147</td>\n",
       "      <td>0.016472</td>\n",
       "      <td>0.005867</td>\n",
       "      <td>0.000560</td>\n",
       "    </tr>\n",
       "    <tr>\n",
       "      <th>fl_num</th>\n",
       "      <td>-0.000392</td>\n",
       "      <td>0.016538</td>\n",
       "      <td>0.017113</td>\n",
       "      <td>-0.025847</td>\n",
       "      <td>-0.000666</td>\n",
       "      <td>0.008361</td>\n",
       "      <td>0.012946</td>\n",
       "      <td>0.001510</td>\n",
       "      <td>0.022078</td>\n",
       "      <td>0.027201</td>\n",
       "      <td>...</td>\n",
       "      <td>1.000000</td>\n",
       "      <td>0.020772</td>\n",
       "      <td>0.023916</td>\n",
       "      <td>-0.014959</td>\n",
       "      <td>0.023396</td>\n",
       "      <td>-0.002018</td>\n",
       "      <td>0.000497</td>\n",
       "      <td>-0.002214</td>\n",
       "      <td>0.006376</td>\n",
       "      <td>0.003289</td>\n",
       "    </tr>\n",
       "    <tr>\n",
       "      <th>late_aircraft_delay</th>\n",
       "      <td>0.005937</td>\n",
       "      <td>0.009669</td>\n",
       "      <td>0.003301</td>\n",
       "      <td>0.047943</td>\n",
       "      <td>0.006023</td>\n",
       "      <td>0.007695</td>\n",
       "      <td>0.007016</td>\n",
       "      <td>-0.023594</td>\n",
       "      <td>0.049343</td>\n",
       "      <td>0.106210</td>\n",
       "      <td>...</td>\n",
       "      <td>0.020772</td>\n",
       "      <td>1.000000</td>\n",
       "      <td>-0.020223</td>\n",
       "      <td>0.043669</td>\n",
       "      <td>-0.018084</td>\n",
       "      <td>0.003986</td>\n",
       "      <td>0.021950</td>\n",
       "      <td>0.024667</td>\n",
       "      <td>0.011701</td>\n",
       "      <td>0.006650</td>\n",
       "    </tr>\n",
       "    <tr>\n",
       "      <th>month</th>\n",
       "      <td>-0.107523</td>\n",
       "      <td>-0.037882</td>\n",
       "      <td>-0.103923</td>\n",
       "      <td>-0.020580</td>\n",
       "      <td>0.007804</td>\n",
       "      <td>-0.011354</td>\n",
       "      <td>-0.005095</td>\n",
       "      <td>-0.002816</td>\n",
       "      <td>-0.010622</td>\n",
       "      <td>-0.001003</td>\n",
       "      <td>...</td>\n",
       "      <td>0.023916</td>\n",
       "      <td>-0.020223</td>\n",
       "      <td>1.000000</td>\n",
       "      <td>-0.017694</td>\n",
       "      <td>0.970548</td>\n",
       "      <td>0.004902</td>\n",
       "      <td>-0.005055</td>\n",
       "      <td>-0.021775</td>\n",
       "      <td>-0.067376</td>\n",
       "      <td>-0.023978</td>\n",
       "    </tr>\n",
       "    <tr>\n",
       "      <th>nas_delay</th>\n",
       "      <td>0.008310</td>\n",
       "      <td>0.014100</td>\n",
       "      <td>0.005629</td>\n",
       "      <td>0.056091</td>\n",
       "      <td>0.006411</td>\n",
       "      <td>0.016038</td>\n",
       "      <td>0.013993</td>\n",
       "      <td>-0.019109</td>\n",
       "      <td>0.020708</td>\n",
       "      <td>0.026991</td>\n",
       "      <td>...</td>\n",
       "      <td>-0.014959</td>\n",
       "      <td>0.043669</td>\n",
       "      <td>-0.017694</td>\n",
       "      <td>1.000000</td>\n",
       "      <td>-0.016270</td>\n",
       "      <td>0.002101</td>\n",
       "      <td>0.028640</td>\n",
       "      <td>0.035320</td>\n",
       "      <td>0.012992</td>\n",
       "      <td>0.005684</td>\n",
       "    </tr>\n",
       "    <tr>\n",
       "      <th>quarter</th>\n",
       "      <td>-0.108282</td>\n",
       "      <td>-0.042338</td>\n",
       "      <td>-0.105376</td>\n",
       "      <td>-0.009056</td>\n",
       "      <td>0.010880</td>\n",
       "      <td>-0.010203</td>\n",
       "      <td>-0.010126</td>\n",
       "      <td>-0.008315</td>\n",
       "      <td>-0.009216</td>\n",
       "      <td>-0.001404</td>\n",
       "      <td>...</td>\n",
       "      <td>0.023396</td>\n",
       "      <td>-0.018084</td>\n",
       "      <td>0.970548</td>\n",
       "      <td>-0.016270</td>\n",
       "      <td>1.000000</td>\n",
       "      <td>0.004975</td>\n",
       "      <td>-0.004004</td>\n",
       "      <td>-0.015199</td>\n",
       "      <td>-0.062723</td>\n",
       "      <td>-0.024859</td>\n",
       "    </tr>\n",
       "    <tr>\n",
       "      <th>security_delay</th>\n",
       "      <td>-0.001354</td>\n",
       "      <td>-0.000096</td>\n",
       "      <td>0.000523</td>\n",
       "      <td>0.000557</td>\n",
       "      <td>-0.000277</td>\n",
       "      <td>0.000275</td>\n",
       "      <td>0.000415</td>\n",
       "      <td>-0.001426</td>\n",
       "      <td>-0.000735</td>\n",
       "      <td>0.002503</td>\n",
       "      <td>...</td>\n",
       "      <td>-0.002018</td>\n",
       "      <td>0.003986</td>\n",
       "      <td>0.004902</td>\n",
       "      <td>0.002101</td>\n",
       "      <td>0.004975</td>\n",
       "      <td>1.000000</td>\n",
       "      <td>-0.000523</td>\n",
       "      <td>0.001434</td>\n",
       "      <td>-0.000355</td>\n",
       "      <td>-0.000309</td>\n",
       "    </tr>\n",
       "    <tr>\n",
       "      <th>weather_delay</th>\n",
       "      <td>0.004523</td>\n",
       "      <td>0.012876</td>\n",
       "      <td>0.007739</td>\n",
       "      <td>0.025848</td>\n",
       "      <td>0.004732</td>\n",
       "      <td>0.009990</td>\n",
       "      <td>0.012324</td>\n",
       "      <td>-0.005652</td>\n",
       "      <td>-0.002588</td>\n",
       "      <td>0.012579</td>\n",
       "      <td>...</td>\n",
       "      <td>0.000497</td>\n",
       "      <td>0.021950</td>\n",
       "      <td>-0.005055</td>\n",
       "      <td>0.028640</td>\n",
       "      <td>-0.004004</td>\n",
       "      <td>-0.000523</td>\n",
       "      <td>1.000000</td>\n",
       "      <td>0.018507</td>\n",
       "      <td>0.012432</td>\n",
       "      <td>0.003588</td>\n",
       "    </tr>\n",
       "    <tr>\n",
       "      <th>fog</th>\n",
       "      <td>0.037068</td>\n",
       "      <td>0.055479</td>\n",
       "      <td>0.032058</td>\n",
       "      <td>0.325703</td>\n",
       "      <td>-0.022663</td>\n",
       "      <td>0.263517</td>\n",
       "      <td>0.047643</td>\n",
       "      <td>0.035032</td>\n",
       "      <td>0.010912</td>\n",
       "      <td>-0.002033</td>\n",
       "      <td>...</td>\n",
       "      <td>-0.002214</td>\n",
       "      <td>0.024667</td>\n",
       "      <td>-0.021775</td>\n",
       "      <td>0.035320</td>\n",
       "      <td>-0.015199</td>\n",
       "      <td>0.001434</td>\n",
       "      <td>0.018507</td>\n",
       "      <td>1.000000</td>\n",
       "      <td>0.093984</td>\n",
       "      <td>0.039486</td>\n",
       "    </tr>\n",
       "    <tr>\n",
       "      <th>hail</th>\n",
       "      <td>0.066502</td>\n",
       "      <td>0.045186</td>\n",
       "      <td>0.053928</td>\n",
       "      <td>0.075790</td>\n",
       "      <td>-0.004519</td>\n",
       "      <td>0.046553</td>\n",
       "      <td>0.038907</td>\n",
       "      <td>0.029265</td>\n",
       "      <td>0.006326</td>\n",
       "      <td>0.000100</td>\n",
       "      <td>...</td>\n",
       "      <td>0.006376</td>\n",
       "      <td>0.011701</td>\n",
       "      <td>-0.067376</td>\n",
       "      <td>0.012992</td>\n",
       "      <td>-0.062723</td>\n",
       "      <td>-0.000355</td>\n",
       "      <td>0.012432</td>\n",
       "      <td>0.093984</td>\n",
       "      <td>1.000000</td>\n",
       "      <td>0.139719</td>\n",
       "    </tr>\n",
       "    <tr>\n",
       "      <th>damaging_wind</th>\n",
       "      <td>0.101564</td>\n",
       "      <td>0.010022</td>\n",
       "      <td>-0.000014</td>\n",
       "      <td>0.067413</td>\n",
       "      <td>-0.001573</td>\n",
       "      <td>0.000589</td>\n",
       "      <td>0.042474</td>\n",
       "      <td>0.017733</td>\n",
       "      <td>0.003697</td>\n",
       "      <td>0.002139</td>\n",
       "      <td>...</td>\n",
       "      <td>0.003289</td>\n",
       "      <td>0.006650</td>\n",
       "      <td>-0.023978</td>\n",
       "      <td>0.005684</td>\n",
       "      <td>-0.024859</td>\n",
       "      <td>-0.000309</td>\n",
       "      <td>0.003588</td>\n",
       "      <td>0.039486</td>\n",
       "      <td>0.139719</td>\n",
       "      <td>1.000000</td>\n",
       "    </tr>\n",
       "  </tbody>\n",
       "</table>\n",
       "<p>25 rows × 25 columns</p>\n",
       "</div>"
      ],
      "text/plain": [
       "                     average_wind_speed  snowfall  snow_depth   thunder  \\\n",
       "average_wind_speed             1.000000  0.021309   -0.008441  0.028255   \n",
       "snowfall                       0.021309  1.000000    0.430616 -0.041081   \n",
       "snow_depth                    -0.008441  0.430616    1.000000 -0.069775   \n",
       "thunder                        0.028255 -0.041081   -0.069775  1.000000   \n",
       "dust                           0.019842 -0.003822   -0.006302  0.028693   \n",
       "haze                           0.036569  0.022871    0.033287  0.099525   \n",
       "snow                           0.044995  0.180349    0.108944 -0.015431   \n",
       "cancelled                      0.050045  0.036064    0.010998  0.019723   \n",
       "carrier_delay                  0.004564  0.006956    0.004550  0.016844   \n",
       "crs_dep_time                  -0.004897  0.000398    0.002224 -0.000863   \n",
       "crs_elapsed_time              -0.007995 -0.001181    0.007759  0.005621   \n",
       "day_of_month                  -0.005125 -0.006673    0.002386 -0.026763   \n",
       "day_of_week                   -0.007071 -0.000281    0.004468 -0.019478   \n",
       "dep_delay_new                  0.007503  0.013898    0.006606  0.054833   \n",
       "diverted                       0.002575  0.002273    0.003678  0.022878   \n",
       "fl_num                        -0.000392  0.016538    0.017113 -0.025847   \n",
       "late_aircraft_delay            0.005937  0.009669    0.003301  0.047943   \n",
       "month                         -0.107523 -0.037882   -0.103923 -0.020580   \n",
       "nas_delay                      0.008310  0.014100    0.005629  0.056091   \n",
       "quarter                       -0.108282 -0.042338   -0.105376 -0.009056   \n",
       "security_delay                -0.001354 -0.000096    0.000523  0.000557   \n",
       "weather_delay                  0.004523  0.012876    0.007739  0.025848   \n",
       "fog                            0.037068  0.055479    0.032058  0.325703   \n",
       "hail                           0.066502  0.045186    0.053928  0.075790   \n",
       "damaging_wind                  0.101564  0.010022   -0.000014  0.067413   \n",
       "\n",
       "                         dust      haze      snow  cancelled  carrier_delay  \\\n",
       "average_wind_speed   0.019842  0.036569  0.044995   0.050045       0.004564   \n",
       "snowfall            -0.003822  0.022871  0.180349   0.036064       0.006956   \n",
       "snow_depth          -0.006302  0.033287  0.108944   0.010998       0.004550   \n",
       "thunder              0.028693  0.099525 -0.015431   0.019723       0.016844   \n",
       "dust                 1.000000  0.088185 -0.001507   0.000580       0.000458   \n",
       "haze                 0.088185  1.000000  0.049919   0.016287       0.005255   \n",
       "snow                -0.001507  0.049919  1.000000   0.013325       0.004818   \n",
       "cancelled            0.000580  0.016287  0.013325   1.000000      -0.015513   \n",
       "carrier_delay        0.000458  0.005255  0.004818  -0.015513       1.000000   \n",
       "crs_dep_time         0.001375 -0.003853 -0.000760   0.010598       0.013969   \n",
       "crs_elapsed_time     0.006478  0.000435 -0.001962  -0.010348      -0.000161   \n",
       "day_of_month         0.005362 -0.011477 -0.010891  -0.027495      -0.004232   \n",
       "day_of_week          0.012439 -0.026451 -0.008166  -0.003052       0.005497   \n",
       "dep_delay_new        0.006026  0.012836  0.012047  -0.028845       0.711218   \n",
       "diverted             0.006954  0.009273  0.001308  -0.005105      -0.005893   \n",
       "fl_num              -0.000666  0.008361  0.012946   0.001510       0.022078   \n",
       "late_aircraft_delay  0.006023  0.007695  0.007016  -0.023594       0.049343   \n",
       "month                0.007804 -0.011354 -0.005095  -0.002816      -0.010622   \n",
       "nas_delay            0.006411  0.016038  0.013993  -0.019109       0.020708   \n",
       "quarter              0.010880 -0.010203 -0.010126  -0.008315      -0.009216   \n",
       "security_delay      -0.000277  0.000275  0.000415  -0.001426      -0.000735   \n",
       "weather_delay        0.004732  0.009990  0.012324  -0.005652      -0.002588   \n",
       "fog                 -0.022663  0.263517  0.047643   0.035032       0.010912   \n",
       "hail                -0.004519  0.046553  0.038907   0.029265       0.006326   \n",
       "damaging_wind       -0.001573  0.000589  0.042474   0.017733       0.003697   \n",
       "\n",
       "                     crs_dep_time      ...          fl_num  \\\n",
       "average_wind_speed      -0.004897      ...       -0.000392   \n",
       "snowfall                 0.000398      ...        0.016538   \n",
       "snow_depth               0.002224      ...        0.017113   \n",
       "thunder                 -0.000863      ...       -0.025847   \n",
       "dust                     0.001375      ...       -0.000666   \n",
       "haze                    -0.003853      ...        0.008361   \n",
       "snow                    -0.000760      ...        0.012946   \n",
       "cancelled                0.010598      ...        0.001510   \n",
       "carrier_delay            0.013969      ...        0.022078   \n",
       "crs_dep_time             1.000000      ...        0.027201   \n",
       "crs_elapsed_time        -0.018258      ...       -0.243725   \n",
       "day_of_month             0.000928      ...        0.009591   \n",
       "day_of_week              0.007899      ...        0.073128   \n",
       "dep_delay_new            0.092837      ...        0.020777   \n",
       "diverted                 0.001447      ...        0.004778   \n",
       "fl_num                   0.027201      ...        1.000000   \n",
       "late_aircraft_delay      0.106210      ...        0.020772   \n",
       "month                   -0.001003      ...        0.023916   \n",
       "nas_delay                0.026991      ...       -0.014959   \n",
       "quarter                 -0.001404      ...        0.023396   \n",
       "security_delay           0.002503      ...       -0.002018   \n",
       "weather_delay            0.012579      ...        0.000497   \n",
       "fog                     -0.002033      ...       -0.002214   \n",
       "hail                     0.000100      ...        0.006376   \n",
       "damaging_wind            0.002139      ...        0.003289   \n",
       "\n",
       "                     late_aircraft_delay     month  nas_delay   quarter  \\\n",
       "average_wind_speed              0.005937 -0.107523   0.008310 -0.108282   \n",
       "snowfall                        0.009669 -0.037882   0.014100 -0.042338   \n",
       "snow_depth                      0.003301 -0.103923   0.005629 -0.105376   \n",
       "thunder                         0.047943 -0.020580   0.056091 -0.009056   \n",
       "dust                            0.006023  0.007804   0.006411  0.010880   \n",
       "haze                            0.007695 -0.011354   0.016038 -0.010203   \n",
       "snow                            0.007016 -0.005095   0.013993 -0.010126   \n",
       "cancelled                      -0.023594 -0.002816  -0.019109 -0.008315   \n",
       "carrier_delay                   0.049343 -0.010622   0.020708 -0.009216   \n",
       "crs_dep_time                    0.106210 -0.001003   0.026991 -0.001404   \n",
       "crs_elapsed_time               -0.013028 -0.001430   0.031641 -0.002864   \n",
       "day_of_month                   -0.012439  0.008779  -0.013670  0.009259   \n",
       "day_of_week                    -0.003399  0.015840  -0.005831  0.013493   \n",
       "dep_delay_new                   0.582092 -0.022724   0.311267 -0.019907   \n",
       "diverted                       -0.008963 -0.005338  -0.007259 -0.004643   \n",
       "fl_num                          0.020772  0.023916  -0.014959  0.023396   \n",
       "late_aircraft_delay             1.000000 -0.020223   0.043669 -0.018084   \n",
       "month                          -0.020223  1.000000  -0.017694  0.970548   \n",
       "nas_delay                       0.043669 -0.017694   1.000000 -0.016270   \n",
       "quarter                        -0.018084  0.970548  -0.016270  1.000000   \n",
       "security_delay                  0.003986  0.004902   0.002101  0.004975   \n",
       "weather_delay                   0.021950 -0.005055   0.028640 -0.004004   \n",
       "fog                             0.024667 -0.021775   0.035320 -0.015199   \n",
       "hail                            0.011701 -0.067376   0.012992 -0.062723   \n",
       "damaging_wind                   0.006650 -0.023978   0.005684 -0.024859   \n",
       "\n",
       "                     security_delay  weather_delay       fog      hail  \\\n",
       "average_wind_speed        -0.001354       0.004523  0.037068  0.066502   \n",
       "snowfall                  -0.000096       0.012876  0.055479  0.045186   \n",
       "snow_depth                 0.000523       0.007739  0.032058  0.053928   \n",
       "thunder                    0.000557       0.025848  0.325703  0.075790   \n",
       "dust                      -0.000277       0.004732 -0.022663 -0.004519   \n",
       "haze                       0.000275       0.009990  0.263517  0.046553   \n",
       "snow                       0.000415       0.012324  0.047643  0.038907   \n",
       "cancelled                 -0.001426      -0.005652  0.035032  0.029265   \n",
       "carrier_delay             -0.000735      -0.002588  0.010912  0.006326   \n",
       "crs_dep_time               0.002503       0.012579 -0.002033  0.000100   \n",
       "crs_elapsed_time           0.004173      -0.001985 -0.019481 -0.000615   \n",
       "day_of_month              -0.001401      -0.012673 -0.023698  0.000582   \n",
       "day_of_week                0.002050       0.000850 -0.029306 -0.022660   \n",
       "dep_delay_new              0.034061       0.271424  0.031205  0.015936   \n",
       "diverted                  -0.000542      -0.002147  0.016472  0.005867   \n",
       "fl_num                    -0.002018       0.000497 -0.002214  0.006376   \n",
       "late_aircraft_delay        0.003986       0.021950  0.024667  0.011701   \n",
       "month                      0.004902      -0.005055 -0.021775 -0.067376   \n",
       "nas_delay                  0.002101       0.028640  0.035320  0.012992   \n",
       "quarter                    0.004975      -0.004004 -0.015199 -0.062723   \n",
       "security_delay             1.000000      -0.000523  0.001434 -0.000355   \n",
       "weather_delay             -0.000523       1.000000  0.018507  0.012432   \n",
       "fog                        0.001434       0.018507  1.000000  0.093984   \n",
       "hail                      -0.000355       0.012432  0.093984  1.000000   \n",
       "damaging_wind             -0.000309       0.003588  0.039486  0.139719   \n",
       "\n",
       "                     damaging_wind  \n",
       "average_wind_speed        0.101564  \n",
       "snowfall                  0.010022  \n",
       "snow_depth               -0.000014  \n",
       "thunder                   0.067413  \n",
       "dust                     -0.001573  \n",
       "haze                      0.000589  \n",
       "snow                      0.042474  \n",
       "cancelled                 0.017733  \n",
       "carrier_delay             0.003697  \n",
       "crs_dep_time              0.002139  \n",
       "crs_elapsed_time          0.000208  \n",
       "day_of_month             -0.017307  \n",
       "day_of_week              -0.033708  \n",
       "dep_delay_new             0.008547  \n",
       "diverted                  0.000560  \n",
       "fl_num                    0.003289  \n",
       "late_aircraft_delay       0.006650  \n",
       "month                    -0.023978  \n",
       "nas_delay                 0.005684  \n",
       "quarter                  -0.024859  \n",
       "security_delay           -0.000309  \n",
       "weather_delay             0.003588  \n",
       "fog                       0.039486  \n",
       "hail                      0.139719  \n",
       "damaging_wind             1.000000  \n",
       "\n",
       "[25 rows x 25 columns]"
      ]
     },
     "execution_count": 28,
     "metadata": {},
     "output_type": "execute_result"
    }
   ],
   "source": [
    "data.corr()"
   ]
  },
  {
   "cell_type": "code",
   "execution_count": 29,
   "metadata": {},
   "outputs": [],
   "source": [
    "def check_correlations(data_df, min_v=0.7):\n",
    "    corr = data_df.corr()\n",
    "    corrs = []\n",
    "    for i in corr:\n",
    "        for j in corr.index[corr[i] >= min_v]:\n",
    "            if i != j and j not in corrs and i not in corrs:\n",
    "                corrs.append(j)\n",
    "                print(\"%s-->%s: r^2=%f\" % (i,j, corr[i][corr.index == j].values[0]))\n",
    "    if len(corrs) == 0:\n",
    "        print('Everything is perfect')"
   ]
  },
  {
   "cell_type": "code",
   "execution_count": 30,
   "metadata": {},
   "outputs": [
    {
     "name": "stdout",
     "output_type": "stream",
     "text": [
      "carrier_delay-->dep_delay_new: r^2=0.711218\n",
      "month-->quarter: r^2=0.970548\n"
     ]
    }
   ],
   "source": [
    "check_correlations(data)"
   ]
  },
  {
   "cell_type": "markdown",
   "metadata": {},
   "source": [
    "Plotting data"
   ]
  },
  {
   "cell_type": "code",
   "execution_count": 31,
   "metadata": {},
   "outputs": [
    {
     "data": {
      "image/png": "[encoded data removed]",
      "text/plain": [
       "<matplotlib.figure.Figure at 0x1a25d7b4a8>"
      ]
     },
     "metadata": {},
     "output_type": "display_data"
    }
   ],
   "source": [
    "data.hist(figsize=(15, 15));"
   ]
  },
  {
   "cell_type": "markdown",
   "metadata": {},
   "source": [
    "Plotting classes"
   ]
  },
  {
   "cell_type": "code",
   "execution_count": 32,
   "metadata": {},
   "outputs": [
    {
     "data": {
      "image/png": "[encoded data removed]",
      "text/plain": [
       "<matplotlib.figure.Figure at 0x1a23ac6748>"
      ]
     },
     "metadata": {},
     "output_type": "display_data"
    }
   ],
   "source": [
    "plt.figure(figsize=(8, 8))\n",
    "ax = sns.countplot(x = data.status)\n",
    "ax.set_title('Dataset class balance check')\n",
    "ax.set_ylabel('Count')\n",
    "plt.show()"
   ]
  },
  {
   "cell_type": "markdown",
   "metadata": {},
   "source": [
    "huge imbalance here"
   ]
  },
  {
   "cell_type": "markdown",
   "metadata": {},
   "source": [
    "Day / delay"
   ]
  },
  {
   "cell_type": "code",
   "execution_count": 33,
   "metadata": {},
   "outputs": [
    {
     "data": {
      "text/plain": [
       "<matplotlib.axes._subplots.AxesSubplot at 0x1a25a83da0>"
      ]
     },
     "execution_count": 33,
     "metadata": {},
     "output_type": "execute_result"
    },
    {
     "data": {
      "image/png": "[encoded data removed]",
      "text/plain": [
       "<matplotlib.figure.Figure at 0x1a25b0f668>"
      ]
     },
     "metadata": {},
     "output_type": "display_data"
    }
   ],
   "source": [
    "sns.stripplot(x=\"day_of_week\", y=\"dep_delay_new\", data=data, jitter=True)"
   ]
  },
  {
   "cell_type": "markdown",
   "metadata": {},
   "source": [
    "Month / Delay"
   ]
  },
  {
   "cell_type": "code",
   "execution_count": 34,
   "metadata": {},
   "outputs": [
    {
     "data": {
      "text/plain": [
       "<matplotlib.axes._subplots.AxesSubplot at 0x1a2550aa58>"
      ]
     },
     "execution_count": 34,
     "metadata": {},
     "output_type": "execute_result"
    },
    {
     "data": {
      "image/png": "[encoded data removed]",
      "text/plain": [
       "<matplotlib.figure.Figure at 0x1a25af0160>"
      ]
     },
     "metadata": {},
     "output_type": "display_data"
    }
   ],
   "source": [
    "sns.stripplot(x=\"month\", y=\"dep_delay_new\", data=data, jitter=True)"
   ]
  },
  {
   "cell_type": "markdown",
   "metadata": {},
   "source": [
    "Flights per airline"
   ]
  },
  {
   "cell_type": "code",
   "execution_count": 35,
   "metadata": {},
   "outputs": [],
   "source": [
    "airlines_group = data[['status', 'carrier']]\n",
    "airlines_group_num = airlines_group.groupby(['carrier']).size()\n",
    "airlines_group = data[['status', 'carrier']]\n",
    "airlines_group = airlines_group[(airlines_group['status'] != 'no_delay') & (airlines_group['status'] != 'moderate_delay')]\n",
    "airlines_group_delays_num = airlines_group.groupby(['carrier']).size()\n",
    "delay_info = pd.DataFrame({'Carrier': np.unique(airlines_group.carrier.values), 'Number of flights': airlines_group_num.values, 'Number of delays': airlines_group_delays_num.values})"
   ]
  },
  {
   "cell_type": "code",
   "execution_count": 36,
   "metadata": {},
   "outputs": [
    {
     "data": {
      "text/plain": [
       "<matplotlib.axes._subplots.AxesSubplot at 0x1a256d1400>"
      ]
     },
     "execution_count": 36,
     "metadata": {},
     "output_type": "execute_result"
    },
    {
     "data": {
      "image/png": "[encoded data removed]",
      "text/plain": [
       "<matplotlib.figure.Figure at 0x1a25af55c0>"
      ]
     },
     "metadata": {},
     "output_type": "display_data"
    }
   ],
   "source": [
    "delay_info.plot(kind='bar', figsize=(8, 8), title = 'Number of flights per carrier')"
   ]
  },
  {
   "cell_type": "markdown",
   "metadata": {},
   "source": [
    "Delay ratings"
   ]
  },
  {
   "cell_type": "code",
   "execution_count": 37,
   "metadata": {},
   "outputs": [],
   "source": [
    "delay_info['Delay index'] = delay_info['Number of delays'] / delay_info['Number of flights']"
   ]
  },
  {
   "cell_type": "code",
   "execution_count": 38,
   "metadata": {},
   "outputs": [
    {
     "data": {
      "image/png": "[encoded data removed]",
      "text/plain": [
       "<matplotlib.figure.Figure at 0x1a23ce7f98>"
      ]
     },
     "metadata": {},
     "output_type": "display_data"
    }
   ],
   "source": [
    "plt.figure(figsize=(8, 8))\n",
    "ax = sns.barplot(x=\"Carrier\", y=\"Delay index\", data=delay_info)\n",
    "ax.set_title('Airline delay index ')\n",
    "plt.show()"
   ]
  },
  {
   "cell_type": "markdown",
   "metadata": {},
   "source": [
    "## Additional preprocessing"
   ]
  },
  {
   "cell_type": "code",
   "execution_count": 60,
   "metadata": {},
   "outputs": [],
   "source": [
    "data2 = data[data['origin'] == 'ALB']"
   ]
  },
  {
   "cell_type": "code",
   "execution_count": 86,
   "metadata": {},
   "outputs": [],
   "source": [
    "working_df = data"
   ]
  },
  {
   "cell_type": "code",
   "execution_count": 87,
   "metadata": {},
   "outputs": [],
   "source": [
    "def additional_preprocessing(data_df):\n",
    "    data_info = data_df.copy()\n",
    "    data_info = data_info.drop(['cancellation_code', 'cancelled', 'carrier_delay', 'dep_delay_new', 'late_aircraft_delay', 'nas_delay', 'security_delay', 'weather_delay', 'diverted', 'origin_city_name', 'dest_city_name'], axis = 1)\n",
    "    \n",
    "    data_info = data_info.drop(['snowfall', 'snow_depth', 'thunder', 'dust', 'haze', 'snow', 'fog', 'hail', 'damaging_wind'], axis = 1)\n",
    "    \n",
    "    data_info['crs_dep_time'] = list(map(int, working_df['crs_dep_time'].values / 100))\n",
    "    \n",
    "    return data_info"
   ]
  },
  {
   "cell_type": "code",
   "execution_count": 88,
   "metadata": {},
   "outputs": [],
   "source": [
    "working_df = additional_preprocessing(working_df)"
   ]
  },
  {
   "cell_type": "markdown",
   "metadata": {},
   "source": [
    "## Processing"
   ]
  },
  {
   "cell_type": "code",
   "execution_count": 89,
   "metadata": {},
   "outputs": [],
   "source": [
    "def add_airline_delay_index(carrier):\n",
    "    return delay_info[delay_info['Carrier'] == carrier]['Delay index'].values[0]"
   ]
  },
  {
   "cell_type": "code",
   "execution_count": null,
   "metadata": {},
   "outputs": [],
   "source": [
    "def process_data(data_df):\n",
    "    data_info = data_df.copy()\n",
    "    \n",
    "    airlines_group = data_info[['status', 'carrier']]\n",
    "    airlines_group_num = airlines_group.groupby(['carrier']).size()\n",
    "    airlines_group = data_info[['status', 'carrier']]\n",
    "    airlines_group = airlines_group[(airlines_group['status'] != 'no_delay')]\n",
    "    airlines_group_delays_num = airlines_group.groupby(['carrier']).size()\n",
    "    delay_info = pd.DataFrame({'Carrier': np.unique(airlines_group.carrier.values), 'Number of flights': airlines_group_num.values, 'Number of delays': airlines_group_delays_num.values})\n",
    "    delay_info['Delay index'] = delay_info['Number of delays'] / delay_info['Number of flights']\n",
    "    \n",
    "    with concurrent.futures.ProcessPoolExecutor(16) as pool:\n",
    "        data_info['airline_delay_index'] = list(pool.map(add_airline_delay_index, data_info['carrier'], chunksize=1_000))\n",
    "    \n",
    "    values_dict = {'dest': data_info['dest'].values, 'carrier': data_info['carrier'].values, 'tail_num': data_info['tail_num'].values}\n",
    "    data_info = pd.get_dummies(data_info, columns=['dest', 'carrier', 'tail_num'])\n",
    "    \n",
    "    values_dict['columns'] = data_info.columns\n",
    "    data_info['day_of_year'] = (data_info['fl_date'] - data_info['fl_date'].min())  / np.timedelta64(1,'D')\n",
    "    data_info = data_info.drop(['fl_date', 'origin'], axis=1)\n",
    "    \n",
    "    return data_info, values_dict"
   ]
  },
  {
   "cell_type": "code",
   "execution_count": null,
   "metadata": {},
   "outputs": [],
   "source": [
    "working_df, tmp = process_data(working_df)"
   ]
  },
  {
   "cell_type": "markdown",
   "metadata": {},
   "source": [
    "## Train test split"
   ]
  },
  {
   "cell_type": "code",
   "execution_count": 67,
   "metadata": {},
   "outputs": [],
   "source": [
    "X_train, X_test, y_train, y_test = train_test_split(working_df.loc[:, working_df.columns != 'status'], working_df['status'], test_size = 0.2, random_state = RND_STATE)"
   ]
  },
  {
   "cell_type": "markdown",
   "metadata": {},
   "source": [
    "## Predictions"
   ]
  },
  {
   "cell_type": "code",
   "execution_count": 68,
   "metadata": {},
   "outputs": [],
   "source": [
    "classifiers = []"
   ]
  },
  {
   "cell_type": "code",
   "execution_count": 69,
   "metadata": {},
   "outputs": [],
   "source": [
    "class ModelTester():\n",
    "    def __init__(self, parameters, model, scoring='f1_macro', njobs=-1, cv=3):\n",
    "        self.cv = GridSearchCV(model, param_grid=parameters, scoring = scoring, n_jobs = njobs, cv = cv, verbose = 1)\n",
    "    \n",
    "    def test_model(self, Xtrain, ytrain, Xtest, ytest):\n",
    "        self.cv.fit(Xtrain, ytrain);\n",
    "        print('Best score cv: ', self.cv.best_score_)\n",
    "        print('Params: ', self.cv.best_params_)\n",
    "    \n",
    "        y_predicted = self.cv.predict(Xtest)\n",
    "        print('F1 (micro) score on test sample:', f1_score(ytest, y_predicted, average='micro'))\n",
    "        print('F1 (macro) score on test sample:', f1_score(ytest, y_predicted, average='macro'))\n",
    "        \n",
    "    def best_estimator(self):\n",
    "        return self.cv.best_estimator_"
   ]
  },
  {
   "cell_type": "markdown",
   "metadata": {},
   "source": [
    "### Random Forest"
   ]
  },
  {
   "cell_type": "code",
   "execution_count": 70,
   "metadata": {},
   "outputs": [
    {
     "name": "stdout",
     "output_type": "stream",
     "text": [
      "Fitting 3 folds for each of 336 candidates, totalling 1008 fits\n"
     ]
    },
    {
     "name": "stderr",
     "output_type": "stream",
     "text": [
      "[Parallel(n_jobs=-1)]: Done  42 tasks      | elapsed:   14.0s\n",
      "[Parallel(n_jobs=-1)]: Done 192 tasks      | elapsed:  1.0min\n",
      "[Parallel(n_jobs=-1)]: Done 442 tasks      | elapsed:  2.8min\n",
      "[Parallel(n_jobs=-1)]: Done 792 tasks      | elapsed:  5.2min\n",
      "[Parallel(n_jobs=-1)]: Done 1008 out of 1008 | elapsed:  6.8min finished\n"
     ]
    },
    {
     "name": "stdout",
     "output_type": "stream",
     "text": [
      "Best score cv:  0.6166999715335159\n",
      "Params:  {'class_weight': 'balanced', 'criterion': 'gini', 'max_depth': 32, 'max_features': 'auto', 'n_estimators': 30}\n",
      "F1 (micro) score on test sample: 0.9317460317460318\n",
      "F1 (macro) score on test sample: 0.6872656366488938\n"
     ]
    }
   ],
   "source": [
    "param = {'criterion':['gini', 'entropy'], 'max_features':[1, 2, 3, 4, 5, 'log2', 'auto'],\n",
    "         'max_depth':[2, 4, 8, 16, 32, 64], 'class_weight':['balanced', None], 'n_estimators': [30, 40]}\n",
    "\n",
    "mt = ModelTester(parameters = param, model = RandomForestClassifier(random_state=RND_STATE))\n",
    "mt.test_model(X_train, y_train, X_test, y_test)\n",
    "rf_clf = mt.best_estimator()\n",
    "classifiers.append({'name': 'Random Forest Classifier', 'clf': rf_clf})"
   ]
  },
  {
   "cell_type": "markdown",
   "metadata": {},
   "source": [
    "### SVC"
   ]
  },
  {
   "cell_type": "code",
   "execution_count": null,
   "metadata": {},
   "outputs": [],
   "source": [
    "param = {'C': np.linspace(0.01, 0.03, num=2), \n",
    "              'class_weight':['balanced', None], 'kernel':['linear'],\n",
    "              'decision_function_shape' : ['ovo', 'ovr', None]}\n",
    "\n",
    "mt = ModelTester(parameters = param, model = SVC(random_state=RND_STATE, cache_size=2048))\n",
    "# mt.test_model(X_train, y_train, X_test, y_test)\n",
    "# svc_clf = mt.best_estimator()\n",
    "# classifiers.append({'name': 'SVC', 'clf': svc_clf})"
   ]
  },
  {
   "cell_type": "markdown",
   "metadata": {},
   "source": [
    "### AdaBoostClassifier"
   ]
  },
  {
   "cell_type": "code",
   "execution_count": 71,
   "metadata": {},
   "outputs": [
    {
     "name": "stdout",
     "output_type": "stream",
     "text": [
      "Fitting 3 folds for each of 10 candidates, totalling 30 fits\n"
     ]
    },
    {
     "name": "stderr",
     "output_type": "stream",
     "text": [
      "[Parallel(n_jobs=-1)]: Done  30 out of  30 | elapsed:  1.4min finished\n"
     ]
    },
    {
     "name": "stdout",
     "output_type": "stream",
     "text": [
      "Best score cv:  0.2664429359358331\n",
      "Params:  {'algorithm': 'SAMME.R', 'learning_rate': 0.6}\n",
      "F1 (micro) score on test sample: 0.9263492063492064\n",
      "F1 (macro) score on test sample: 0.296670791010848\n"
     ]
    }
   ],
   "source": [
    "param = {'algorithm': ['SAMME.R', 'SAMME'], 'learning_rate': [0.1, 0.3, 0.6, 0.8, 1.0]}\n",
    "mt = ModelTester(parameters = param, model = AdaBoostClassifier(random_state=RND_STATE))\n",
    "mt.test_model(X_train, y_train, X_test, y_test)\n",
    "adc_clf = mt.best_estimator()\n",
    "classifiers.append({'name': 'AdaBoost Classifier', 'clf': adc_clf})"
   ]
  },
  {
   "cell_type": "markdown",
   "metadata": {},
   "source": [
    "### Decision Tree Classifier"
   ]
  },
  {
   "cell_type": "code",
   "execution_count": 72,
   "metadata": {},
   "outputs": [
    {
     "name": "stdout",
     "output_type": "stream",
     "text": [
      "Fitting 3 folds for each of 56 candidates, totalling 168 fits\n"
     ]
    },
    {
     "name": "stderr",
     "output_type": "stream",
     "text": [
      "[Parallel(n_jobs=-1)]: Done  42 tasks      | elapsed:   28.0s\n",
      "[Parallel(n_jobs=-1)]: Done 168 out of 168 | elapsed:  1.6min finished\n"
     ]
    },
    {
     "name": "stdout",
     "output_type": "stream",
     "text": [
      "Best score cv:  0.5516793930163066\n",
      "Params:  {'class_weight': 'balanced', 'criterion': 'gini', 'max_features': 1, 'presort': True, 'random_state': 100412, 'splitter': 'random'}\n",
      "F1 (micro) score on test sample: 0.9488888888888889\n",
      "F1 (macro) score on test sample: 0.7162556041171532\n"
     ]
    }
   ],
   "source": [
    "param = {'criterion': ['gini', 'entropy'], 'splitter': ['best', 'random'], 'max_features':[1, 2, 3, 4, 5, 'log2', 'auto'], \n",
    "         'class_weight' : ['balanced'], 'random_state':[RND_STATE], 'presort':[True, False]}\n",
    "\n",
    "mt = ModelTester(parameters = param, model = DecisionTreeClassifier(random_state=RND_STATE))\n",
    "mt.test_model(X_train, y_train, X_test, y_test)\n",
    "dtc_clf = mt.best_estimator()\n",
    "classifiers.append({'name': 'Decision Tree Classifier', 'clf': dtc_clf})"
   ]
  },
  {
   "cell_type": "markdown",
   "metadata": {},
   "source": [
    "### K-Neighbors Classifier"
   ]
  },
  {
   "cell_type": "code",
   "execution_count": null,
   "metadata": {},
   "outputs": [],
   "source": [
    "param = {'n_neighbors': [30, 50, 65, 70], 'weights': ['uniform', 'distance'], 'algorithm':['auto', 'ball_tree', 'kd_tree', 'brute'], \n",
    "         'leaf_size' : [10, 15, 20], 'p':[1, 2]}\n",
    "\n",
    "mt = ModelTester(parameters = param, model = KNeighborsClassifier())\n",
    "mt.test_model(X_train, y_train, X_test, y_test)\n",
    "knn_clf = mt.best_estimator()\n",
    "classifiers.append({'name': 'K-Neighbors Classifier', 'clf': knn_clf})"
   ]
  },
  {
   "cell_type": "markdown",
   "metadata": {},
   "source": [
    "### Gradient Boosting Classifier"
   ]
  },
  {
   "cell_type": "code",
   "execution_count": 73,
   "metadata": {},
   "outputs": [
    {
     "name": "stdout",
     "output_type": "stream",
     "text": [
      "Fitting 3 folds for each of 28 candidates, totalling 84 fits\n"
     ]
    },
    {
     "name": "stderr",
     "output_type": "stream",
     "text": [
      "[Parallel(n_jobs=-1)]: Done  42 tasks      | elapsed:  1.9min\n",
      "[Parallel(n_jobs=-1)]: Done  84 out of  84 | elapsed: 23.9min finished\n"
     ]
    },
    {
     "name": "stdout",
     "output_type": "stream",
     "text": [
      "Best score cv:  0.3855376764642353\n",
      "Params:  {'loss': 'deviance', 'max_features': 'auto', 'min_samples_leaf': 3, 'n_estimators': 300, 'presort': False}\n",
      "F1 (micro) score on test sample: 0.9266666666666666\n",
      "F1 (macro) score on test sample: 0.38979476079888203\n"
     ]
    }
   ],
   "source": [
    "param = {'loss': ['deviance'], 'max_features':[1, 2, 3, 4, 5, 'log2', 'auto'], 'presort':[True, False],\n",
    "         'n_estimators':[200, 300], 'min_samples_leaf' : [3]}\n",
    "\n",
    "mt = ModelTester(parameters = param, model = GradientBoostingClassifier(random_state=RND_STATE))\n",
    "mt.test_model(X_train, y_train, X_test, y_test)\n",
    "gbc_clf = mt.best_estimator()\n",
    "classifiers.append({'name': 'Gradient Boosting Classifier', 'clf': gbc_clf})"
   ]
  },
  {
   "cell_type": "markdown",
   "metadata": {},
   "source": [
    "## Working with the results"
   ]
  },
  {
   "cell_type": "code",
   "execution_count": 74,
   "metadata": {},
   "outputs": [],
   "source": [
    "def save_clfs(file_name, data_to_save):\n",
    "    with open(file_name, 'wb') as f:\n",
    "        pickle.dump(data_to_save, f)"
   ]
  },
  {
   "cell_type": "code",
   "execution_count": 75,
   "metadata": {},
   "outputs": [],
   "source": [
    "def load_clfs(file_name):\n",
    "    with open(file_name, 'rb') as f:\n",
    "        return pickle.load(f)"
   ]
  },
  {
   "cell_type": "code",
   "execution_count": 76,
   "metadata": {},
   "outputs": [],
   "source": [
    "save_clfs(CLF_FILE, classifiers)"
   ]
  },
  {
   "cell_type": "markdown",
   "metadata": {},
   "source": [
    "### Results per classifier:"
   ]
  },
  {
   "cell_type": "code",
   "execution_count": 77,
   "metadata": {},
   "outputs": [],
   "source": [
    "def print_importances_internal(data_df, imp_list):\n",
    "    print('Top 10 features:')\n",
    "    val_zip = zip(data_df.columns, imp_list) \n",
    "    for a, b, in sorted(val_zip, key = lambda zp_gb: zp_gb[1], reverse = True)[:10]:\n",
    "        print(\"{0}: {1}\".format(a, b))"
   ]
  },
  {
   "cell_type": "code",
   "execution_count": 78,
   "metadata": {},
   "outputs": [],
   "source": [
    "def print_importances(data_df, model):\n",
    "    if hasattr(model, 'feature_importances_'):\n",
    "        print_importances_internal(data_df, model.feature_importances_)\n",
    "    elif hasattr(model, 'coef_'):\n",
    "        print_importances_internal(data_df, model.coef_.flatten())"
   ]
  },
  {
   "cell_type": "code",
   "execution_count": 79,
   "metadata": {},
   "outputs": [
    {
     "data": {
      "application/vnd.jupyter.widget-view+json": {
       "model_id": "d8996baab7504056b17c92fef2347d87",
       "version_major": 2,
       "version_minor": 0
      },
      "text/html": [
       "<p>Failed to display Jupyter Widget of type <code>VBox</code>.</p>\n",
       "<p>\n",
       "  If you're reading this message in the Jupyter Notebook or JupyterLab Notebook, it may mean\n",
       "  that the widgets JavaScript is still loading. If this message persists, it\n",
       "  likely means that the widgets JavaScript library is either not installed or\n",
       "  not enabled. See the <a href=\"https://ipywidgets.readthedocs.io/en/stable/user_install.html\">Jupyter\n",
       "  Widgets Documentation</a> for setup instructions.\n",
       "</p>\n",
       "<p>\n",
       "  If you're reading this message in another frontend (for example, a static\n",
       "  rendering on GitHub or <a href=\"https://nbviewer.jupyter.org/\">NBViewer</a>),\n",
       "  it may mean that your frontend doesn't currently support widgets.\n",
       "</p>\n"
      ],
      "text/plain": [
       "VBox(children=(HTML(value=''), IntProgress(value=0, max=4)))"
      ]
     },
     "metadata": {},
     "output_type": "display_data"
    },
    {
     "name": "stdout",
     "output_type": "stream",
     "text": [
      "\n",
      "Random Forest Classifier\n",
      "F1 score:  0.6872656366488938\n",
      "Top 10 features:\n",
      "day_of_month: 0.07752159550237382\n",
      "day_of_year: 0.06979908068887672\n",
      "average_wind_speed: 0.06840068649258356\n",
      "day_of_week: 0.05453808925215079\n",
      "month: 0.05446523107376603\n",
      "crs_elapsed_time: 0.053437226368442926\n",
      "fl_num: 0.05062503650523132\n",
      "crs_dep_time: 0.04884506581973483\n",
      "quarter: 0.03021931769808779\n",
      "tail_num_0: 0.021172927663199986\n",
      "\n",
      "AdaBoost Classifier\n",
      "F1 score:  0.296670791010848\n",
      "Top 10 features:\n",
      "crs_dep_time: 0.12\n",
      "day_of_year: 0.1\n",
      "day_of_month: 0.04\n",
      "fl_num: 0.04\n",
      "dest_DTW: 0.04\n",
      "tail_num_N259WN: 0.04\n",
      "tail_num_N526JB: 0.04\n",
      "tail_num_N561JB: 0.04\n",
      "tail_num_N579JB: 0.04\n",
      "tail_num_N717SA: 0.04\n",
      "\n",
      "Decision Tree Classifier\n",
      "F1 score:  0.7162556041171532\n",
      "Top 10 features:\n",
      "day_of_year: 0.06198856519815001\n",
      "month: 0.05810776676061613\n",
      "day_of_month: 0.05445885357489357\n",
      "crs_dep_time: 0.05086292486084866\n",
      "quarter: 0.04645083475668491\n",
      "day_of_week: 0.043297311235883124\n",
      "fl_num: 0.03938238403005009\n",
      "crs_elapsed_time: 0.03092880059777314\n",
      "average_wind_speed: 0.02928665903177923\n",
      "dest_BWI: 0.01890852366677249\n",
      "\n",
      "Gradient Boosting Classifier\n",
      "F1 score:  0.38979476079888203\n",
      "Top 10 features:\n",
      "day_of_month: 0.09124277114522757\n",
      "day_of_year: 0.08149737094524079\n",
      "day_of_week: 0.06851489770808111\n",
      "average_wind_speed: 0.06601202090684256\n",
      "crs_elapsed_time: 0.06177710621197095\n",
      "fl_num: 0.05820769724752054\n",
      "crs_dep_time: 0.041984460943033854\n",
      "month: 0.017137713530339712\n",
      "tail_num_0: 0.013711835093849694\n",
      "quarter: 0.010052667214861814\n"
     ]
    }
   ],
   "source": [
    "results_data = []\n",
    "for clf in log_progress(classifiers, every = 1):\n",
    "    print('\\n' + clf['name'])\n",
    "    score = f1_score(clf['clf'].predict(X_test), y_test, average='macro')\n",
    "    print('F1 score: ', score)\n",
    "    results_data.append({'Classifier': clf['name'], 'F1 Score': score})\n",
    "    print_importances(working_df.loc[:, working_df.columns != 'status'], clf['clf'])"
   ]
  },
  {
   "cell_type": "markdown",
   "metadata": {},
   "source": [
    "## Final clfs"
   ]
  },
  {
   "cell_type": "code",
   "execution_count": null,
   "metadata": {},
   "outputs": [],
   "source": [
    "airports = np.unique(data['origin'].values)"
   ]
  },
  {
   "cell_type": "code",
   "execution_count": null,
   "metadata": {},
   "outputs": [],
   "source": [
    "results = []\n",
    "for airport in log_progress(airports, every=1):\n",
    "    try:\n",
    "        working_df = data[data['origin'] == airport]\n",
    "        working_df = additional_preprocessing(working_df)\n",
    "        working_df, values_dict = process_data(working_df)\n",
    "\n",
    "        X_train, X_test, y_train, y_test = train_test_split(working_df.loc[:, working_df.columns != 'status'], working_df['status'], test_size = 0.2, random_state = RND_STATE)\n",
    "\n",
    "        dtc_clf.fit(X_train, y_train)\n",
    "\n",
    "        save_clfs('clfs/' + airport + '.data', rf_clf)\n",
    "        save_clfs('values_dicts/' + airport + '.data', values_dict)\n",
    "        y_pred = rf_clf.predict(X_test)\n",
    "        f1_micro = f1_score(y_pred, y_test, average='micro')\n",
    "        f1_macro = f1_score(y_pred, y_test, average='macro')\n",
    "        results.append({'airport': airport, 'f1_micro': f1_micro, 'f1_macro': f1_macro})\n",
    "    except Exception as e:\n",
    "        print(e)"
   ]
  },
  {
   "cell_type": "code",
   "execution_count": null,
   "metadata": {},
   "outputs": [],
   "source": [
    "pd.DataFrame(results)"
   ]
  },
  {
   "cell_type": "code",
   "execution_count": null,
   "metadata": {},
   "outputs": [],
   "source": []
  }
 ],
 "metadata": {
  "kernelspec": {
   "display_name": "Python 3",
   "language": "python",
   "name": "python3"
  },
  "language_info": {
   "codemirror_mode": {
    "name": "ipython",
    "version": 3
   },
   "file_extension": ".py",
   "mimetype": "text/x-python",
   "name": "python",
   "nbconvert_exporter": "python",
   "pygments_lexer": "ipython3",
   "version": "3.6.4"
  }
 },
 "nbformat": 4,
 "nbformat_minor": 2
}
