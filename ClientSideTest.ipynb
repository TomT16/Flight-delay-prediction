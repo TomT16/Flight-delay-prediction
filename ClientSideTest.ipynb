{
 "cells": [
  {
   "cell_type": "code",
   "execution_count": 1,
   "metadata": {},
   "outputs": [],
   "source": [
    "import pandas as pd\n",
    "import numpy as np\n",
    "import glob\n",
    "import pickle\n",
    "import datetime"
   ]
  },
  {
   "cell_type": "code",
   "execution_count": 2,
   "metadata": {},
   "outputs": [],
   "source": [
    "def get_file_list(folder_name, prefix=''):\n",
    "    return glob.glob(folder_name + '/*' + prefix + '.data')"
   ]
  },
  {
   "cell_type": "code",
   "execution_count": 3,
   "metadata": {},
   "outputs": [],
   "source": [
    "def load_file(file_name):\n",
    "    with open(file_name, 'rb') as f:\n",
    "        return pickle.load(f)"
   ]
  },
  {
   "cell_type": "code",
   "execution_count": 4,
   "metadata": {},
   "outputs": [],
   "source": [
    "def init_data(clfs_folder, cols_folder, fl_info_file, delays_file):\n",
    "    flight_info = load_file(fl_info_file)\n",
    "    delays = load_file(delays_file)\n",
    "    files_list = get_file_list(clfs_folder)\n",
    "    clfs = {}\n",
    "    for file in files_list:\n",
    "        airport = file.replace(clfs_folder + '/', '').replace('.data', '')\n",
    "        clfs[airport] = {'clf': load_file(file), 'cols': load_file(cols_folder + '/' + airport + '.data')}\n",
    "    return {'clfs': clfs, 'fl_info': flight_info, 'delays': delays}"
   ]
  },
  {
   "cell_type": "code",
   "execution_count": 5,
   "metadata": {},
   "outputs": [],
   "source": [
    "def get_series_value(series):\n",
    "    return series.values[0]"
   ]
  },
  {
   "cell_type": "code",
   "execution_count": 18,
   "metadata": {},
   "outputs": [],
   "source": [
    "def get_features(data, origin, dest, carrier, flight, wind_speed, date):\n",
    "    fl_info = data['fl_info'][(data['fl_info']['fl_num'] == flight) & (data['fl_info']['carrier'] == carrier) & (data['fl_info']['origin'] == origin)]\n",
    "    df = pd.DataFrame(columns=data['clfs'][origin]['cols'])\n",
    "    df = df.append({'average_wind_speed': wind_speed, 'crs_dep_time': get_series_value(fl_info['crs_dep_time']), 'crs_elapsed_time': get_series_value(fl_info['crs_elapsed_time']),'dest_' + dest: 1, \n",
    "                    'carrier_' + carrier: 1, 'month': date.month, 'quarter': date.month // 4, 'day_of_month': date.day, \n",
    "                    'day_of_year': date.timetuple().tm_yday, \n",
    "                    'airline_delay_index': get_series_value(data['delays'][data['delays']['Carrier'] == carrier]['Delay index'])}, ignore_index=True)\n",
    "    df = df.drop('status', axis=1)\n",
    "    df = df.fillna(0)\n",
    "    return df"
   ]
  },
  {
   "cell_type": "code",
   "execution_count": 19,
   "metadata": {},
   "outputs": [],
   "source": [
    "info_data = init_data('clfs', 'values_dicts', 'flight_info.data', 'delays.data')"
   ]
  },
  {
   "cell_type": "code",
   "execution_count": 20,
   "metadata": {},
   "outputs": [],
   "source": [
    "dt = datetime.datetime(1999, 8, 28)"
   ]
  },
  {
   "cell_type": "code",
   "execution_count": 21,
   "metadata": {},
   "outputs": [],
   "source": [
    "test_sample = get_features(info_data, 'ABR', 'MSP', 'OO', 7363, 0, dt)"
   ]
  },
  {
   "cell_type": "code",
   "execution_count": null,
   "metadata": {},
   "outputs": [],
   "source": []
  }
 ],
 "metadata": {
  "kernelspec": {
   "display_name": "Python 3",
   "language": "python",
   "name": "python3"
  },
  "language_info": {
   "codemirror_mode": {
    "name": "ipython",
    "version": 3
   },
   "file_extension": ".py",
   "mimetype": "text/x-python",
   "name": "python",
   "nbconvert_exporter": "python",
   "pygments_lexer": "ipython3",
   "version": "3.6.5"
  }
 },
 "nbformat": 4,
 "nbformat_minor": 2
}
